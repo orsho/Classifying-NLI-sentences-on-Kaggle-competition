{
 "cells": [
  {
   "cell_type": "markdown",
   "metadata": {
    "id": "k-WJBimYDLJS"
   },
   "source": [
    "## Final Project\n"
   ]
  },
  {
   "cell_type": "markdown",
   "metadata": {
    "id": "R3xxOQIVL4ro"
   },
   "source": [
    "### imports and installations"
   ]
  },
  {
   "cell_type": "code",
   "execution_count": 4,
   "metadata": {
    "colab": {
     "base_uri": "https://localhost:8080/"
    },
    "id": "3enPCGBF8FlX",
    "outputId": "4e5312fe-47bd-4b18-f05c-62210807fede"
   },
   "outputs": [
    {
     "name": "stderr",
     "output_type": "stream",
     "text": [
      "'grep' is not recognized as an internal or external command,\n",
      "operable program or batch file.\n",
      "'grep' is not recognized as an internal or external command,\n",
      "operable program or batch file.\n",
      "'grep' is not recognized as an internal or external command,\n",
      "operable program or batch file.\n",
      "'grep' is not recognized as an internal or external command,\n",
      "operable program or batch file.\n"
     ]
    }
   ],
   "source": [
    "import torch\n",
    "import torch.nn as nn\n",
    "\n",
    "import requests\n",
    "import re\n",
    "\n",
    "import numpy as np\n",
    "import pandas as pd\n",
    "import matplotlib.pyplot as plt\n",
    "import seaborn as sns\n",
    "\n",
    "!pip install transformers | grep -v 'already satisfied'\n",
    "from transformers import BertTokenizer, BertForSequenceClassification, AutoTokenizer, AutoModelForSequenceClassification, AutoModel\n",
    "from transformers import RobertaTokenizer, RobertaModel, AdamW, XLMRobertaTokenizer, XLMRobertaForSequenceClassification, BertForMaskedLM\n",
    "from tqdm.auto import tqdm\n",
    "\n",
    "!pip install --upgrade pip | grep -v 'already satisfied'\n",
    "!pip install sentencepiece | grep -v 'already satisfied'\n",
    "\n",
    "from sklearn.metrics import precision_score, recall_score, accuracy_score, f1_score\n",
    "\n",
    "#Hugging Face new library nlp, to get more NLI datasets than kaggle competition offers\n",
    "!pip install nlp | grep -v 'already satisfied'\n",
    "import nlp\n",
    "\n",
    "import warnings\n",
    "warnings.simplefilter(action='ignore', category=FutureWarning)"
   ]
  },
  {
   "cell_type": "code",
   "execution_count": 5,
   "metadata": {
    "id": "NZWJ1YPmHYcB"
   },
   "outputs": [],
   "source": [
    "#define a device we will put our model and our batches on\n",
    "device = torch.device(\"cuda\") if torch.cuda.is_available() else torch.device(\"cpu\")"
   ]
  },
  {
   "cell_type": "code",
   "execution_count": null,
   "metadata": {
    "colab": {
     "base_uri": "https://localhost:8080/"
    },
    "id": "UQmksz3QlC02",
    "outputId": "46cda4b2-2550-4e2f-ceb1-6ac74e969392"
   },
   "outputs": [
    {
     "name": "stdout",
     "output_type": "stream",
     "text": [
      "Mounted at /content/drive\n"
     ]
    }
   ],
   "source": [
    "from google.colab import drive #skip the cell if you are not using colab\n",
    "drive.mount('/content/drive', force_remount=True)"
   ]
  },
  {
   "cell_type": "markdown",
   "metadata": {
    "id": "6qKZg7uGM8Jx"
   },
   "source": [
    "### Methods for all expirements "
   ]
  },
  {
   "cell_type": "markdown",
   "metadata": {
    "id": "LzeR2iI_MXCY"
   },
   "source": [
    "##### Methods to organize the data"
   ]
  },
  {
   "cell_type": "code",
   "execution_count": 6,
   "metadata": {
    "id": "Xp1BPXwhIih3"
   },
   "outputs": [],
   "source": [
    "def organize_df(df):\n",
    "  #convert dataset to schema contain two columns\n",
    "  #first column - premise and hypothesis combined in one sentence ('SEP' between them)\n",
    "  #second column - the label (0/1/2)\n",
    "\n",
    "  #Parameters:\n",
    "  #    df :the dataframe which get converted\n",
    "\n",
    "  #Returns:\n",
    "  #    df :the converted dataframe\n",
    "\n",
    "  df['premise']= df['premise'].str.cat(df['hypothesis'], sep =\" [SEP] \")\n",
    "  df = df.drop(columns=['hypothesis'])\n",
    "  df = df.rename(columns = {'premise': 'concat_sen'}, inplace = False)\n",
    "\n",
    "  return df"
   ]
  },
  {
   "cell_type": "code",
   "execution_count": 7,
   "metadata": {
    "id": "b03sJwUDP7hm"
   },
   "outputs": [],
   "source": [
    "def clean_data(df):\n",
    "  #clean wrong labels (only 0/1/2) and duplicates\n",
    "\n",
    "  #Parameters:\n",
    "  #    df :the dataframe which get cleaned\n",
    "\n",
    "  #Returns:\n",
    "  #    df :the cleaned dataframe\n",
    "\n",
    "\n",
    "  df = df[df['label'] != -1] # cleaning values with the wrong label\n",
    "  df = df[df.duplicated() == False] # searching for duplicates\n",
    "  return df"
   ]
  },
  {
   "cell_type": "code",
   "execution_count": 8,
   "metadata": {
    "id": "_ouTga5fMvLm"
   },
   "outputs": [],
   "source": [
    "def prepare_data(data, tokenizer, batch_size=32, roberta_nli=False):\n",
    "  #convert sentences and labels into token indices\n",
    "\n",
    "  #Parameters:\n",
    "  #    data :numpy data contain the sentences and labels\n",
    "  #    tokenizer :the correct tokenizer for the model that will tranform the data into tokens\n",
    "  #    batch_size :Unifies the sentences into groups according to the size entered\n",
    "  #    roberta_nli :swtich between labels 0/2 to meet roberta models format\n",
    "\n",
    "  #Returns:\n",
    "  #    data_tokenized :the sentences and labels in tokenized format divided into batches\n",
    "\n",
    "\n",
    "    data_tokenized = []\n",
    "    batch_tokenized = []\n",
    "    batch_labels = []\n",
    "    count_errors = 0\n",
    "\n",
    "    #iterate through all sentences in the data\n",
    "    for i in range (len(data)):\n",
    "\n",
    "      if i%(batch_size) == 0:\n",
    "        #iterate through the sentences in the batch\n",
    "        for j in range(batch_size):\n",
    "          if (i+j)<len(data): # prevent out of bound\n",
    "            batch_tokenized.append(data[i+j][0])\n",
    "\n",
    "            if roberta_nli == True:\n",
    "              if data[i+j][1] == 0:\n",
    "                data[i+j][1] = 2\n",
    "              elif data[i+j][1] == 2:\n",
    "                data[i+j][1] = 0 \n",
    "\n",
    "            batch_labels.append(data[i+j][1])\n",
    "        \n",
    "        try:\n",
    "          tokenized_inputs = tokenizer(batch_tokenized, padding=True, return_tensors=\"pt\") #create a tensor for the batch in \"tokenized\" format\n",
    "\n",
    "          batch_labels_tensor = torch.LongTensor(batch_labels)\n",
    "          tokenized_inputs.update({'labels':batch_labels_tensor}) #add labels to tokenized_inputs\n",
    "          #print(tokenized_inputs)\n",
    "\n",
    "          data_tokenized.append(tokenized_inputs)\n",
    "\n",
    "          batch_tokenized = []\n",
    "          batch_labels = []\n",
    "        except:\n",
    "          count_errors+=1\n",
    "\n",
    "    #print(\"{} batches were not included since an error occured\".format(count_errors))\n",
    "    return data_tokenized"
   ]
  },
  {
   "cell_type": "markdown",
   "metadata": {
    "id": "-j7xlxdyMpcx"
   },
   "source": [
    "##### Methods for first option of fine tuning Bert models"
   ]
  },
  {
   "cell_type": "code",
   "execution_count": 9,
   "metadata": {
    "id": "Osbkcm66fsB2"
   },
   "outputs": [],
   "source": [
    "def set_parameters(params,layer_freeze):\n",
    "  #freeze all parameters in layers under some given layer\n",
    "\n",
    "  #Parameters:\n",
    "  #    params :the parameters of the model\n",
    "  #    layer_freeze (int):number of layer\n",
    "  \n",
    "  \n",
    "  layer=0\n",
    "  for name, param in params:\n",
    "    if layer<layer_freeze:\n",
    "      param.requires_grad=False\n",
    "    \n",
    "    layer+=1"
   ]
  },
  {
   "cell_type": "code",
   "execution_count": 10,
   "metadata": {
    "id": "pGIkeJxWxYR3"
   },
   "outputs": [],
   "source": [
    "def train_loop(model, n_epochs, train_data, val_data):\n",
    "  #train the given model on a given train data\n",
    "\n",
    "  #Parameters:\n",
    "  #    model :the model to train\n",
    "  #    n_epochs :number of epochs\n",
    "  #    train_data :the data for training\n",
    "  #    val_data :the data for validation\n",
    "\n",
    "  #Returns:\n",
    "  #    plot of losses on the training and validation data\n",
    "\n",
    "  train_loss_array = []\n",
    "  val_loss_array = []\n",
    "\n",
    "  # Loss function\n",
    "  criterion = nn.CrossEntropyLoss()\n",
    "\n",
    "  #progress_bar = tqdm(range(num_training_steps))\n",
    "  model.train()\n",
    "\n",
    "  for e in range(n_epochs):\n",
    "    total_loss_train = 0\n",
    "    total_loss_val = 0\n",
    "    count_batch_num = 0\n",
    "\n",
    "    #iterate through all batches in the train data\n",
    "    for batch in train_data:\n",
    "      \n",
    "      optimizer.zero_grad()\n",
    "\n",
    "      batch = {k: v.to(device) for k, v in batch.items()}\n",
    "      outputs = model(**batch)\n",
    "\n",
    "      loss = outputs.loss\n",
    "      loss.backward()\n",
    "      \n",
    "      optimizer.step()\n",
    "\n",
    "      total_loss_train += loss.item()\n",
    "\n",
    "      if count_batch_num%500 == 0:\n",
    "        #print(\"epoch num {}, batch num {}\".format(e, count_batch_num))\n",
    "        count_batch_num +=1\n",
    "        \n",
    "    for batch in val_data:\n",
    "      optimizer.zero_grad()\n",
    "      batch = {k: v.to(device) for k, v in batch.items()}\n",
    "      outputs = model(**batch)\n",
    "      loss = outputs.loss\n",
    "\n",
    "      total_loss_val += loss.item()\n",
    "\n",
    "    #print loss\n",
    "    print('----------Epoch {}, train loss={}---------'.format(e, total_loss_train/len(train_data)))\n",
    "    print('----------Epoch {}, val loss={}---------'.format(e, total_loss_val/len(val_data)))\n",
    "    train_loss_array.append(total_loss_train/len(train_data))\n",
    "    val_loss_array.append(total_loss_val/len(val_data))\n",
    "\n",
    "  fig, ax = plt.subplots() \n",
    "  ax.plot(train_loss_array, label='Train loss:')  \n",
    "  ax.plot(val_loss_array, label='Validate loss:')  \n",
    "  ax.set_xlabel('epoch')  \n",
    "  ax.set_ylabel('loss')  \n",
    "  ax.set_title(\"Train and Validate:\")  \n",
    "  ax.legend()"
   ]
  },
  {
   "cell_type": "code",
   "execution_count": 11,
   "metadata": {
    "id": "TJf5ve_kxZBD"
   },
   "outputs": [],
   "source": [
    "def evaluate(model, data):\n",
    "  #evaluate the given model on a given data\n",
    "\n",
    "  #Parameters:\n",
    "  #    model :the model to evaluate\n",
    "  #    data :the data to evaluate on\n",
    "\n",
    "  #Returns:\n",
    "  #    precision_list :the precision of each label (0/1/2)  \n",
    "  #    recall_list :the recall of each label (0/1/2)   \n",
    "  #    f1_list :the f1 score of each label (0/1/2)  \n",
    "  #    accuracy :the accuracy of the model\n",
    "\n",
    "  all_predictions = []\n",
    "  all_true_labels = []\n",
    "\n",
    "  precision_list = []\n",
    "  recall_list = []\n",
    "  f1_list = []\n",
    "\n",
    "  model.eval()\n",
    "  \n",
    "  for batch in data:\n",
    "    batch = {k: v.to(device) for k, v in batch.items()}\n",
    "    with torch.no_grad():\n",
    "        outputs = model(**batch)\n",
    "    \n",
    "    logits = outputs.logits\n",
    "    \n",
    "    predictions = torch.argmax(logits, dim=-1)\n",
    "    prediction_batch = predictions.cpu().numpy()\n",
    "    \n",
    "    true_label_batch = batch['labels'].cpu().numpy()\n",
    "    \n",
    "    #create one big lists of all batches of the predictions and the true labels\n",
    "    all_predictions.extend(prediction_batch)\n",
    "    all_true_labels.extend(true_label_batch)\n",
    "\n",
    "  #print(all_predictions)\n",
    "  #print(all_true_labels)\n",
    "\n",
    "  #calc precision and recall for each class separately\n",
    "  for i in range(3):\n",
    "        \n",
    "    #precision\n",
    "    class_precision = precision_score(all_true_labels, all_predictions, labels=[i], average='weighted')\n",
    "    precision_list.append(class_precision)\n",
    "\n",
    "    #recall\n",
    "    class_recall = recall_score(all_true_labels, all_predictions, labels=[i], average='weighted')\n",
    "    recall_list.append(class_recall)\n",
    "\n",
    "    #f-1\n",
    "    class_f1 = f1_score(all_true_labels, all_predictions, labels=[i], average='weighted')\n",
    "    f1_list.append(class_f1)\n",
    "\n",
    "  #accuracy\n",
    "  accuracy = accuracy_score(all_true_labels, all_predictions)\n",
    "\n",
    "  return precision_list, recall_list, f1_list, accuracy"
   ]
  },
  {
   "cell_type": "code",
   "execution_count": 12,
   "metadata": {
    "id": "8xcfuqhe2hAg"
   },
   "outputs": [],
   "source": [
    "def print_eval(precision_val, recall_val, f1_val, acc):\n",
    "  #print the evaluation calculated in 'evaluate' method\n",
    "\n",
    "  print(\"********Results*********\")\n",
    "  print(\"The model accuracy is {}\".format(acc))\n",
    "  all_results = [precision_val, recall_val, f1_val]\n",
    "  columns = [0,1,2]\n",
    "  indexes = [\"precision_val\", \"recall_val\", \"f1_val\"]\n",
    "  table = pd.DataFrame(all_results, index = indexes, columns=columns)\n",
    "  return table"
   ]
  },
  {
   "cell_type": "markdown",
   "metadata": {
    "id": "uDOFytaWL7Q8"
   },
   "source": [
    "##### class and methods for second option of fine tuning BERT models"
   ]
  },
  {
   "cell_type": "code",
   "execution_count": 13,
   "metadata": {
    "id": "S6FYXk8-MNPy"
   },
   "outputs": [],
   "source": [
    "class BERT_ft(nn.Module):\n",
    "    def __init__(self, model_name, num_labels=3, dropout=0.8, classifier_input = '[CLS]'):\n",
    "      #add 2 fully connected classification layers to the given model and dropout\n",
    "\n",
    "      #Parameters:\n",
    "      #    model_name :the model name of the pre-trained transformer\n",
    "      #    num_labels :number of labels to classify\n",
    "      #    dropout :dropout value for the model\n",
    "  \n",
    "      super(BERT_ft, self).__init__()\n",
    "      \n",
    "      #load the pre-trained model and get the last hidden layer size\n",
    "      if model_name == 'bert-base-uncased' or model_name == 'bert-base-multilingual-cased':\n",
    "        self.model = BertForSequenceClassification.from_pretrained(model_name, output_hidden_states=True)  \n",
    "        hidden_size=768\n",
    "      if model_name == 'xlm-roberta-large':\n",
    "        self.model = XLMRobertaForSequenceClassification.from_pretrained(model_name, output_hidden_states=True)\n",
    "        hidden_size=1024\n",
    "      if model_name == 'roberta-large-mnli':\n",
    "        self.model = RobertaModel.from_pretrained(model_name,output_hidden_states=True)\n",
    "        hidden_size=1024\n",
    "      if model_name == 'microsoft/deberta-v2-xlarge-mnli':\n",
    "        self.model = AutoModelForSequenceClassification.from_pretrained(model_name ,output_hidden_states=True)\n",
    "        hidden_size=1536\n",
    "      \n",
    "      self.dropout = nn.Dropout(dropout)\n",
    "      self.relu = nn.ReLU()\n",
    " \n",
    "      #linear layers for classification\n",
    "      self.fc1 = nn.Linear(hidden_size, 512)\n",
    "      self.fc2 = nn.Linear(512, num_labels)\n",
    "\n",
    "      self.classifier_input = classifier_input\n",
    "    #feedforward neural network\n",
    "    def forward(self, input,mask):\n",
    "           \n",
    "      output = self.model(input,attention_mask = mask, output_hidden_states=True)\n",
    "      output = output.hidden_states[-1]\n",
    "      #print(output)\n",
    "      if self.classifier_input == '[CLS]':\n",
    "        x = self.fc1(output[:,0,:])\n",
    "      if self.classifier_input == 'mean':\n",
    "        x = self.fc1(torch.mean(output, 1))\n",
    "      \n",
    "      x = self.relu(x)\n",
    "      x = self.dropout(x)\n",
    "      x = self.fc2(x)\n",
    " \n",
    "      return x\n",
    "    \n",
    "    #freeze all layers in the pre-trained model\n",
    "    def freezeAll(self):\n",
    "      for name, param in self.model.named_parameters():\n",
    "          param.requires_grad=False\n",
    "    \n",
    "    #freeze all parameters in layers under some given layer\n",
    "    def freezeByLayer(self,layer_freeze=181):\n",
    "      layer=0\n",
    "      for name, param in self.model.named_parameters():\n",
    "        if layer<layer_freeze:\n",
    "          param.requires_grad=False\n",
    "        else:\n",
    "          param.requires_grad=True\n",
    " \n",
    "        layer+=1"
   ]
  },
  {
   "cell_type": "code",
   "execution_count": 14,
   "metadata": {
    "id": "APLbZEMzMNXd"
   },
   "outputs": [],
   "source": [
    "def trainBERT_ft(model, optimizer, n_epochs, train_data, val_data, freeze=0, save='no'):\n",
    "  #train the given model on a given train data with the class 'Bert_ft' \n",
    "\n",
    "  #Parameters:\n",
    "  #    model :the model to train\n",
    "  #    optimizer :the optimizer to train with\n",
    "  #    n_epochs :number of epochs\n",
    "  #    train_data :the data for training\n",
    "  #    val_data :the data for validation\n",
    "  #    freeze :decide how many layers to freeze\n",
    "  #    save :save the model to outside source\n",
    "\n",
    "  #Returns:\n",
    "  #    plot of losses on the training and validation data\n",
    "\n",
    "  #decide how many layers to freeze\n",
    "  if freeze == 0:\n",
    "    model.freezeAll()\n",
    "  else:\n",
    "    model.freezeByLayer(freeze)\n",
    "  #181 for layer 11 / 373 for layer 23 - freeze all but the last layer in Bert base / Bert large accordingly\n",
    "  #165 for layer 10 / 357 for layer 22 - freeze all but the last 2 layers in Bert base / Bert large accordingly\n",
    "\n",
    "  criterion = nn.CrossEntropyLoss()\n",
    "  model.train()\n",
    "\n",
    "  train_loss_array = []\n",
    "  val_loss_array = []\n",
    "\n",
    "  for epoch in range(n_epochs):\n",
    "    total_loss_train = 0\n",
    "    total_loss_val = 0\n",
    "\n",
    "    for i, data in enumerate(train_data, 0):\n",
    "        \n",
    "      # get the inputs\n",
    "      inputs = data['input_ids']\n",
    "      masks = data['attention_mask']\n",
    "      labels = data['labels']\n",
    "\n",
    "      inputs = inputs.cuda() # -- For GPU\n",
    "      masks = masks.cuda() # -- For GPU\n",
    "      labels = labels.cuda() # -- For GPU\n",
    "\n",
    "      # zero the parameter gradients\n",
    "      optimizer.zero_grad()\n",
    "\n",
    "      # forward + backward + optimize\n",
    "\n",
    "      outputs = model(inputs,masks)\n",
    "      loss = criterion(outputs, labels)\n",
    "      loss.backward()\n",
    "      optimizer.step()\n",
    "\n",
    "      # print statistics\n",
    "\n",
    "      total_loss_train += loss.item()\n",
    "\n",
    "      #if i%100==0 and i!=0:\n",
    "        #print('Epoch {}, Batch {}, batch_loss={}, total_loss={}'.format(epoch,i,loss.item(),total_loss/i))\n",
    "\n",
    "    for i, data in enumerate(val_data, 0):\n",
    "      # get the inputs\n",
    "      inputs = data['input_ids']\n",
    "      masks = data['attention_mask']\n",
    "      labels = data['labels']\n",
    "\n",
    "      inputs = inputs.cuda() # -- For GPU\n",
    "      masks = masks.cuda() # -- For GPU\n",
    "      labels = labels.cuda() # -- For GPU\n",
    "\n",
    "      # zero the parameter gradients\n",
    "      optimizer.zero_grad()\n",
    "\n",
    "      # forward + backward + optimize\n",
    "\n",
    "      outputs = model(inputs,masks)\n",
    "      loss = criterion(outputs, labels)\n",
    "\n",
    "      # print statistics\n",
    "\n",
    "      total_loss_val += loss.item()\n",
    "\n",
    "    if save!='no': \n",
    "      save_model(model,epoch,save,total_loss_train)\n",
    "\n",
    "    print('Epoch {}, loss_train={}'.format(epoch, total_loss_train/len(train_data)))\n",
    "    print('Epoch {}, loss_eval={}'.format(epoch, total_loss_val/len(val_data)))\n",
    "\n",
    "    train_loss_array.append(total_loss_train/len(train_data))\n",
    "    val_loss_array.append(total_loss_val/len(val_data))\n",
    " \n",
    "  print('Finished Training')\n",
    "  \n",
    "  fig, ax = plt.subplots() \n",
    "  ax.plot(train_loss_array, label='Train loss:')  \n",
    "  ax.plot(val_loss_array, label='Validation loss:')  \n",
    "  ax.set_xlabel('epoch')  \n",
    "  ax.set_ylabel('loss')  \n",
    "  ax.set_title(\"Train and Validation:\")  \n",
    "  ax.legend()"
   ]
  },
  {
   "cell_type": "code",
   "execution_count": 15,
   "metadata": {
    "id": "XZhfYKplMNdB"
   },
   "outputs": [],
   "source": [
    "def evaluateBERT_ft(model, val_data):\n",
    "  #evaluate the given model on a given data with the class 'Bert_ft'  \n",
    "\n",
    "  #Parameters:\n",
    "  #    model :the model to evaluate\n",
    "  #    data :the data to evaluate on\n",
    "\n",
    "  #Returns:\n",
    "  #    precision_list :the precision of each label (0/1/2)  \n",
    "  #    recall_list :the recall of each label (0/1/2)   \n",
    "  #    f1_list :the f1 score of each label (0/1/2)  \n",
    "  #    accuracy :the accuracy of the model\n",
    " \n",
    "  all_predictions = []\n",
    "  all_true_labels = []\n",
    " \n",
    "  precision_list = []\n",
    "  recall_list = []\n",
    "  f1_list = []\n",
    "\n",
    "  model.eval()\n",
    "  with torch.no_grad():\n",
    "      for data in val_data:\n",
    "          inputs = data['input_ids']\n",
    "          masks = data['attention_mask']\n",
    "          labels = data['labels']\n",
    "          \n",
    " \n",
    "          inputs = inputs.cuda()  # -- for GPU\n",
    "          masks = masks.cuda()  # -- for GPU\n",
    "          labels = labels.cuda()  # -- for GPU\n",
    " \n",
    "          outputs = model(inputs,masks)\n",
    "          predicted = torch.max(outputs.data, 1)[1]\n",
    "         \n",
    "          prediction_batch = predicted.cpu().numpy()\n",
    "          true_label_batch = labels.cpu().numpy()\n",
    "          all_predictions.extend(prediction_batch)\n",
    "          all_true_labels.extend(true_label_batch)\n",
    " \n",
    "  #calc precision and recall for each class separately\n",
    "  for i in range(3):\n",
    "        \n",
    "    #precision\n",
    "    class_precision = precision_score(all_true_labels, all_predictions, labels=[i], average='weighted')\n",
    "    precision_list.append(class_precision)\n",
    " \n",
    "    #recall\n",
    "    class_recall = recall_score(all_true_labels, all_predictions, labels=[i], average='weighted')\n",
    "    recall_list.append(class_recall)\n",
    " \n",
    "    #f-1\n",
    "    class_f1 = f1_score(all_true_labels, all_predictions, labels=[i], average='weighted')\n",
    "    f1_list.append(class_f1)\n",
    "\n",
    "  #accuracy\n",
    "  accuracy = accuracy_score(all_true_labels, all_predictions)\n",
    " \n",
    "  return precision_list, recall_list, f1_list, accuracy"
   ]
  },
  {
   "cell_type": "markdown",
   "metadata": {
    "id": "Y4w7JFJiLoST"
   },
   "source": [
    "##### Methods for test data"
   ]
  },
  {
   "cell_type": "code",
   "execution_count": 16,
   "metadata": {
    "id": "3dJuYSj0LvKD"
   },
   "outputs": [],
   "source": [
    "def prepare_test_data(data, tokenizer, batch_size=32):\n",
    "  #convert sentences into token indices\n",
    "\n",
    "  #Parameters:\n",
    "  #    data :numpy data which contain the sentences \n",
    "  #    tokenizer :the correct tokenizer for the model that will tranform the data into tokens\n",
    "  #    batch_size :Unifies the sentences into groups according to the size entered\n",
    "\n",
    "  #Returns:\n",
    "  #    data_tokenized :the sentences and labels in tokenized format divided into batches\n",
    "\n",
    "    data_tokenized = []\n",
    "    batch_tokenized = []\n",
    "\n",
    "    #iterate through all sentences in the data\n",
    "    for i in range (len(data)):\n",
    "      if i%(batch_size) == 0:\n",
    "        #iterate through the sentences in the batch\n",
    "        for j in (range(batch_size)):\n",
    "          if (i+j)<len(data): # prevent out of bound\n",
    "            batch_tokenized.append(data[i+j][0])\n",
    "\n",
    "        tokenized_inputs = tokenizer(batch_tokenized, padding=True, return_tensors=\"pt\") #create a tensor for the batch in \"tokenized\" format\n",
    "\n",
    "        data_tokenized.append(tokenized_inputs)\n",
    "        batch_tokenized = []\n",
    "\n",
    "    return data_tokenized"
   ]
  },
  {
   "cell_type": "code",
   "execution_count": 17,
   "metadata": {
    "id": "0U2gmtLNLvSB"
   },
   "outputs": [],
   "source": [
    "def predict(model, data, roberta_nli=False):\n",
    "  #return the prediction for given data\n",
    "\n",
    "  #Parameters:\n",
    "  #    model :the model to predict\n",
    "  #    data :the data to predict on\n",
    "  #    roberta_nli :swtich between labels 0/2 to meet roberta models format\n",
    "\n",
    "  #Returns:\n",
    "  #    all_predictions :1-D array of all predictions\n",
    "\n",
    "  all_predictions = []\n",
    "\n",
    "  model.eval()\n",
    "  \n",
    "  for batch in data:\n",
    "    batch = {k: v.to(device) for k, v in batch.items()}\n",
    "    with torch.no_grad():\n",
    "        outputs = model(**batch)\n",
    "\n",
    "    logits = outputs.logits\n",
    "\n",
    "    predictions = torch.argmax(logits, dim=-1)\n",
    "    prediction_batch = predictions.cpu().numpy()\n",
    "\n",
    "    if roberta_nli == True:\n",
    "      for i in range(len(prediction_batch)):\n",
    "        if prediction_batch[i] == 0:\n",
    "          prediction_batch[i] = 2\n",
    "        elif prediction_batch[i] == 2:\n",
    "          prediction_batch[i] = 0 \n",
    "\n",
    "    #create one big lists of all batches of the predictions\n",
    "    all_predictions.extend(prediction_batch)\n",
    "\n",
    "  return all_predictions"
   ]
  },
  {
   "cell_type": "code",
   "execution_count": 15,
   "metadata": {
    "id": "TTsunfl5foB4"
   },
   "outputs": [],
   "source": [
    "def predict_Bert_ft(model, data, roberta_nli=False):\n",
    "  #return the prediction for given data\n",
    "\n",
    "  #Parameters:\n",
    "  #    model :the model to predict\n",
    "  #    data :the data to predict on\n",
    "  #    roberta_nli :swtich between labels 0/2 to meet roberta models format\n",
    "\n",
    "  #Returns:\n",
    "  #    all_predictions :1-D array of all predictions\n",
    "\n",
    "  all_predictions = []\n",
    "\n",
    "  model.eval()\n",
    "  with torch.no_grad():\n",
    "      for data in data:\n",
    "        inputs = data['input_ids']\n",
    "        masks = data['attention_mask']\n",
    "\n",
    "        inputs = inputs.cuda()  # -- for GPU\n",
    "        masks = masks.cuda()  # -- for GPU\n",
    "\n",
    "        outputs = model(inputs,masks)\n",
    "        predicted = torch.max(outputs.data, 1)[1]\n",
    "        \n",
    "        prediction_batch = predicted.cpu().numpy()\n",
    "\n",
    "        if roberta_nli == True:\n",
    "          for i in range(len(prediction_batch)):\n",
    "            if prediction_batch[i] == 0:\n",
    "              prediction_batch[i] = 2\n",
    "            elif prediction_batch[i] == 2:\n",
    "              prediction_batch[i] = 0 \n",
    "        \n",
    "        #create one big lists of all batches of the predictions\n",
    "        all_predictions.extend(prediction_batch)\n",
    "\n",
    "    #logits = outputs.logits\n",
    "    #predictions = torch.argmax(logits, dim=-1)\n",
    "    #prediction_batch = predictions.cpu().numpy()\n",
    "\n",
    "  return all_predictions"
   ]
  },
  {
   "cell_type": "markdown",
   "metadata": {
    "id": "vydPW9Fp3-t2"
   },
   "source": [
    "##### Save and load models (checkpoints)"
   ]
  },
  {
   "cell_type": "code",
   "execution_count": 18,
   "metadata": {
    "id": "TMyxbs6FwjpG"
   },
   "outputs": [],
   "source": [
    "def save_model(model,EPOCH,file_name,LOSS):\n",
    "  #save the model parameters to external drive\n",
    "\n",
    "  PATH = '/content/drive/My Drive/Colab Notebooks/NLP final project/saved models/'+file_name+'E'+str(EPOCH)+'.pt'\n",
    "  torch.save({\n",
    "              'epoch': EPOCH,\n",
    "              'model_state_dict': model.state_dict(),\n",
    "              'optimizer_state_dict': optimizer.state_dict(),\n",
    "              'loss': LOSS,\n",
    "              }, PATH)\n",
    "\n",
    "def load_model(model,optimizer,PATH,train=True):\n",
    "  #load the model parameters from external drive\n",
    "\n",
    "  checkpoint = torch.load(PATH)\n",
    "  model.load_state_dict(checkpoint['model_state_dict'])\n",
    "  optimizer.load_state_dict(checkpoint['optimizer_state_dict'])\n",
    "  epoch = checkpoint['epoch']\n",
    "  loss = checkpoint['loss']\n",
    "\n",
    "  if train:\n",
    "    model.train()\n",
    "  else:\n",
    "    model.eval()"
   ]
  },
  {
   "cell_type": "markdown",
   "metadata": {
    "id": "fl4WIf69Ehpl"
   },
   "source": [
    "### Kaggle dataset + EDA\n",
    "\n",
    "Kaggle Contains a training and validation dataset that has 12120 and 5195 text pairs respectively. This dataset contains textual pairs from 15 different languages – Arabic, Bulgarian, Chinese, German, Greek, English, Spanish, French, Hindi, Russian, Swahili, Thai, Turkish, Urdu, and Vietnamese. Sentence pairs are classified into three classes entailment (0), neutral (1), and contradiction (2)."
   ]
  },
  {
   "cell_type": "code",
   "execution_count": 20,
   "metadata": {
    "colab": {
     "base_uri": "https://localhost:8080/",
     "height": 220
    },
    "id": "adDoDiKdE8ZU",
    "outputId": "e4c1cd44-27b1-4b0a-9f61-e4d1ac9c82b3"
   },
   "outputs": [
    {
     "name": "stdout",
     "output_type": "stream",
     "text": [
      "The training dataset contain 12120 text pairs\n"
     ]
    },
    {
     "data": {
      "text/html": [
       "<div>\n",
       "<style scoped>\n",
       "    .dataframe tbody tr th:only-of-type {\n",
       "        vertical-align: middle;\n",
       "    }\n",
       "\n",
       "    .dataframe tbody tr th {\n",
       "        vertical-align: top;\n",
       "    }\n",
       "\n",
       "    .dataframe thead th {\n",
       "        text-align: right;\n",
       "    }\n",
       "</style>\n",
       "<table border=\"1\" class=\"dataframe\">\n",
       "  <thead>\n",
       "    <tr style=\"text-align: right;\">\n",
       "      <th></th>\n",
       "      <th>id</th>\n",
       "      <th>premise</th>\n",
       "      <th>hypothesis</th>\n",
       "      <th>lang_abv</th>\n",
       "      <th>language</th>\n",
       "      <th>label</th>\n",
       "    </tr>\n",
       "  </thead>\n",
       "  <tbody>\n",
       "    <tr>\n",
       "      <th>0</th>\n",
       "      <td>5130fd2cb5</td>\n",
       "      <td>and these comments were considered in formulat...</td>\n",
       "      <td>The rules developed in the interim were put to...</td>\n",
       "      <td>en</td>\n",
       "      <td>English</td>\n",
       "      <td>0</td>\n",
       "    </tr>\n",
       "    <tr>\n",
       "      <th>1</th>\n",
       "      <td>5b72532a0b</td>\n",
       "      <td>These are issues that we wrestle with in pract...</td>\n",
       "      <td>Practice groups are not permitted to work on t...</td>\n",
       "      <td>en</td>\n",
       "      <td>English</td>\n",
       "      <td>2</td>\n",
       "    </tr>\n",
       "    <tr>\n",
       "      <th>2</th>\n",
       "      <td>3931fbe82a</td>\n",
       "      <td>Des petites choses comme celles-là font une di...</td>\n",
       "      <td>J'essayais d'accomplir quelque chose.</td>\n",
       "      <td>fr</td>\n",
       "      <td>French</td>\n",
       "      <td>0</td>\n",
       "    </tr>\n",
       "    <tr>\n",
       "      <th>3</th>\n",
       "      <td>5622f0c60b</td>\n",
       "      <td>you know they can't really defend themselves l...</td>\n",
       "      <td>They can't defend themselves because of their ...</td>\n",
       "      <td>en</td>\n",
       "      <td>English</td>\n",
       "      <td>0</td>\n",
       "    </tr>\n",
       "    <tr>\n",
       "      <th>4</th>\n",
       "      <td>86aaa48b45</td>\n",
       "      <td>ในการเล่นบทบาทสมมุติก็เช่นกัน โอกาสที่จะได้แสด...</td>\n",
       "      <td>เด็กสามารถเห็นได้ว่าชาติพันธุ์แตกต่างกันอย่างไร</td>\n",
       "      <td>th</td>\n",
       "      <td>Thai</td>\n",
       "      <td>1</td>\n",
       "    </tr>\n",
       "  </tbody>\n",
       "</table>\n",
       "</div>"
      ],
      "text/plain": [
       "           id                                            premise  \\\n",
       "0  5130fd2cb5  and these comments were considered in formulat...   \n",
       "1  5b72532a0b  These are issues that we wrestle with in pract...   \n",
       "2  3931fbe82a  Des petites choses comme celles-là font une di...   \n",
       "3  5622f0c60b  you know they can't really defend themselves l...   \n",
       "4  86aaa48b45  ในการเล่นบทบาทสมมุติก็เช่นกัน โอกาสที่จะได้แสด...   \n",
       "\n",
       "                                          hypothesis lang_abv language  label  \n",
       "0  The rules developed in the interim were put to...       en  English      0  \n",
       "1  Practice groups are not permitted to work on t...       en  English      2  \n",
       "2              J'essayais d'accomplir quelque chose.       fr   French      0  \n",
       "3  They can't defend themselves because of their ...       en  English      0  \n",
       "4    เด็กสามารถเห็นได้ว่าชาติพันธุ์แตกต่างกันอย่างไร       th     Thai      1  "
      ]
     },
     "execution_count": 20,
     "metadata": {},
     "output_type": "execute_result"
    }
   ],
   "source": [
    "#load train dataset\n",
    "train_kaggle_df = pd.read_csv(\"https://raw.githubusercontent.com/orsho/NLI-kaggle-competition-/main/data/kaggle%20train.csv\")\n",
    "print(\"The training dataset contain {} text pairs\".format(len(train_kaggle_df)))\n",
    "train_kaggle_df.head()"
   ]
  },
  {
   "cell_type": "code",
   "execution_count": 22,
   "metadata": {
    "colab": {
     "base_uri": "https://localhost:8080/",
     "height": 295
    },
    "id": "NVwF9LqQIW3Q",
    "outputId": "32ec6df4-f832-4d1d-986b-da0dfa97559e"
   },
   "outputs": [
    {
     "data": {
      "image/png": "[encoded data removed]",
      "text/plain": [
       "<Figure size 432x288 with 1 Axes>"
      ]
     },
     "metadata": {
      "needs_background": "light"
     },
     "output_type": "display_data"
    }
   ],
   "source": [
    "#show label count of the training dataset\n",
    "plt.title('Label count of the training dataset')\n",
    "sns.countplot(data = train_kaggle_df, x = 'label')\n",
    "plt.show()"
   ]
  },
  {
   "cell_type": "code",
   "execution_count": 23,
   "metadata": {
    "colab": {
     "base_uri": "https://localhost:8080/",
     "height": 220
    },
    "id": "0FKY8TFaIKxx",
    "outputId": "861a51ff-df85-49a1-9475-3a841828e57b"
   },
   "outputs": [
    {
     "name": "stdout",
     "output_type": "stream",
     "text": [
      "The test dataset contain 5195 text pairs\n"
     ]
    },
    {
     "data": {
      "text/html": [
       "<div>\n",
       "<style scoped>\n",
       "    .dataframe tbody tr th:only-of-type {\n",
       "        vertical-align: middle;\n",
       "    }\n",
       "\n",
       "    .dataframe tbody tr th {\n",
       "        vertical-align: top;\n",
       "    }\n",
       "\n",
       "    .dataframe thead th {\n",
       "        text-align: right;\n",
       "    }\n",
       "</style>\n",
       "<table border=\"1\" class=\"dataframe\">\n",
       "  <thead>\n",
       "    <tr style=\"text-align: right;\">\n",
       "      <th></th>\n",
       "      <th>id</th>\n",
       "      <th>premise</th>\n",
       "      <th>hypothesis</th>\n",
       "      <th>lang_abv</th>\n",
       "      <th>language</th>\n",
       "    </tr>\n",
       "  </thead>\n",
       "  <tbody>\n",
       "    <tr>\n",
       "      <th>0</th>\n",
       "      <td>c6d58c3f69</td>\n",
       "      <td>بکس، کیسی، راہیل، یسعیاہ، کیلی، کیلی، اور کولم...</td>\n",
       "      <td>کیسی کے لئے کوئی یادگار نہیں ہوگا, کولمین ہائی...</td>\n",
       "      <td>ur</td>\n",
       "      <td>Urdu</td>\n",
       "    </tr>\n",
       "    <tr>\n",
       "      <th>1</th>\n",
       "      <td>cefcc82292</td>\n",
       "      <td>هذا هو ما تم نصحنا به.</td>\n",
       "      <td>عندما يتم إخبارهم بما يجب عليهم فعله ، فشلت ال...</td>\n",
       "      <td>ar</td>\n",
       "      <td>Arabic</td>\n",
       "    </tr>\n",
       "    <tr>\n",
       "      <th>2</th>\n",
       "      <td>e98005252c</td>\n",
       "      <td>et cela est en grande partie dû au fait que le...</td>\n",
       "      <td>Les mères se droguent.</td>\n",
       "      <td>fr</td>\n",
       "      <td>French</td>\n",
       "    </tr>\n",
       "    <tr>\n",
       "      <th>3</th>\n",
       "      <td>58518c10ba</td>\n",
       "      <td>与城市及其他公民及社区组织代表就IMA的艺术发展进行对话&amp;amp</td>\n",
       "      <td>IMA与其他组织合作，因为它们都依靠共享资金。</td>\n",
       "      <td>zh</td>\n",
       "      <td>Chinese</td>\n",
       "    </tr>\n",
       "    <tr>\n",
       "      <th>4</th>\n",
       "      <td>c32b0d16df</td>\n",
       "      <td>Она все еще была там.</td>\n",
       "      <td>Мы думали, что она ушла, однако, она осталась.</td>\n",
       "      <td>ru</td>\n",
       "      <td>Russian</td>\n",
       "    </tr>\n",
       "  </tbody>\n",
       "</table>\n",
       "</div>"
      ],
      "text/plain": [
       "           id                                            premise  \\\n",
       "0  c6d58c3f69  بکس، کیسی، راہیل، یسعیاہ، کیلی، کیلی، اور کولم...   \n",
       "1  cefcc82292                             هذا هو ما تم نصحنا به.   \n",
       "2  e98005252c  et cela est en grande partie dû au fait que le...   \n",
       "3  58518c10ba                   与城市及其他公民及社区组织代表就IMA的艺术发展进行对话&amp   \n",
       "4  c32b0d16df                              Она все еще была там.   \n",
       "\n",
       "                                          hypothesis lang_abv language  \n",
       "0  کیسی کے لئے کوئی یادگار نہیں ہوگا, کولمین ہائی...       ur     Urdu  \n",
       "1  عندما يتم إخبارهم بما يجب عليهم فعله ، فشلت ال...       ar   Arabic  \n",
       "2                             Les mères se droguent.       fr   French  \n",
       "3                            IMA与其他组织合作，因为它们都依靠共享资金。       zh  Chinese  \n",
       "4     Мы думали, что она ушла, однако, она осталась.       ru  Russian  "
      ]
     },
     "execution_count": 23,
     "metadata": {},
     "output_type": "execute_result"
    }
   ],
   "source": [
    "#load test dataset\n",
    "test_kaggle_df = pd.read_csv(\"https://raw.githubusercontent.com/orsho/NLI-kaggle-competition-/main/data/kaggle%20test.csv\")\n",
    "print(\"The test dataset contain {} text pairs\".format(len(test_kaggle_df)))\n",
    "test_kaggle_df.head()"
   ]
  },
  {
   "cell_type": "code",
   "execution_count": 20,
   "metadata": {
    "colab": {
     "base_uri": "https://localhost:8080/",
     "height": 427
    },
    "id": "GFv-QxSIFiv1",
    "outputId": "e54a8e10-fedd-4719-def3-27ddd3853799"
   },
   "outputs": [
    {
     "data": {
      "image/png": "[encoded data removed]",
      "text/plain": [
       "<Figure size 1080x648 with 2 Axes>"
      ]
     },
     "metadata": {
      "tags": []
     },
     "output_type": "display_data"
    }
   ],
   "source": [
    "#show distribution of languages in train and test set\n",
    "labels_train, frequencies_train = np.unique(train_kaggle_df.language.values, return_counts = True)\n",
    "labels_test, frequencies_test = np.unique(test_kaggle_df.language.values, return_counts = True)\n",
    "\n",
    "fig = plt.figure(figsize = (15,9))\n",
    "\n",
    "plt.subplot(1,2,1)\n",
    "plt.pie(frequencies_train,labels = labels_train, autopct = '%1.1f%%')\n",
    "plt.title(\"Distribution of languages in the training set\")\n",
    "\n",
    "plt.subplot(1,2,2)\n",
    "plt.pie(frequencies_test,labels = labels_test, autopct = '%1.1f%%')\n",
    "plt.title(\"Distribution of languages in the test set\")\n",
    "\n",
    "plt.show()"
   ]
  },
  {
   "cell_type": "code",
   "execution_count": 24,
   "metadata": {
    "colab": {
     "base_uri": "https://localhost:8080/",
     "height": 607
    },
    "id": "MthAkFBjGkcm",
    "outputId": "a4963a3f-1bb4-4533-80ce-892e4b9594aa"
   },
   "outputs": [
    {
     "data": {
      "image/png": "[encoded data removed]",
      "text/plain": [
       "<Figure size 1080x720 with 4 Axes>"
      ]
     },
     "metadata": {
      "needs_background": "light"
     },
     "output_type": "display_data"
    }
   ],
   "source": [
    "#show word count for train/test dataset hypothesis/premise\n",
    "def word_count(dataset, column):\n",
    "    len_vector = []\n",
    "    for text in dataset[column]:\n",
    "        len_vector.append(len(text.split()))\n",
    "    \n",
    "    return len_vector\n",
    "\n",
    "train_premise = word_count(train_kaggle_df, 'premise')\n",
    "train_hypothesis = word_count(train_kaggle_df, 'hypothesis')\n",
    "\n",
    "# word count\n",
    "\n",
    "def word_count(dataset, column):\n",
    "    len_vector = []\n",
    "    for text in dataset[column]:\n",
    "        len_vector.append(len(text.split()))\n",
    "    \n",
    "    return len_vector\n",
    "\n",
    "train_premise = word_count(train_kaggle_df, 'premise')\n",
    "train_hypothesis = word_count(train_kaggle_df, 'hypothesis')\n",
    "\n",
    "test_premise = word_count(test_kaggle_df, 'premise')\n",
    "test_hypothesis = word_count(test_kaggle_df, 'hypothesis')\n",
    "\n",
    "fig = plt.figure(figsize = (15,10))\n",
    "\n",
    "plt.subplot(2,2,1)\n",
    "plt.title('word count for train dataset premise')\n",
    "sns.distplot(train_premise)\n",
    "\n",
    "plt.subplot(2,2,2)\n",
    "plt.title('word count for train dataset hypothesis')\n",
    "sns.distplot(train_hypothesis)\n",
    "\n",
    "plt.subplot(2,2,3)\n",
    "plt.title('word count for test dataset premise')\n",
    "sns.distplot(test_premise)\n",
    "\n",
    "plt.subplot(2,2,4)\n",
    "plt.title('word count for test dataset hypothesis')\n",
    "sns.distplot(test_hypothesis) \n",
    "\n",
    "plt.show()\n"
   ]
  },
  {
   "cell_type": "markdown",
   "metadata": {
    "id": "23CbBFm9OQ2Z"
   },
   "source": [
    "### More NLI datasets"
   ]
  },
  {
   "cell_type": "markdown",
   "metadata": {
    "id": "Lt8rk67eOmoF"
   },
   "source": [
    "##### Load MNLI dataset\n",
    "\n",
    "1. The Multi-Genre Natural Language Inference (MultiNLI) corpus is a crowd-sourced collection of 433k sentence pairs annotated with textual entailment information.\n",
    "2. The MultiNLI dataset comes with three subsets: train, dev_matched, dev_mismatched. The dev_matched dataset are from the same genres as the train dataset, while the dev_mismatched dataset are from genres not seen in the training dataset\n",
    "3. The dataset contains samples in English only"
   ]
  },
  {
   "cell_type": "code",
   "execution_count": 25,
   "metadata": {
    "colab": {
     "base_uri": "https://localhost:8080/"
    },
    "id": "m-s139juOYZA",
    "outputId": "d42d98b1-6a5c-4e39-ac9f-3a8ea15a786a"
   },
   "outputs": [
    {
     "data": {
      "application/vnd.jupyter.widget-view+json": {
       "model_id": "d09e63a4c26849728186d2d48dd92b17",
       "version_major": 2,
       "version_minor": 0
      },
      "text/plain": [
       "HBox(children=(HTML(value='Downloading'), FloatProgress(value=0.0, max=5048.0), HTML(value='')))"
      ]
     },
     "metadata": {},
     "output_type": "display_data"
    },
    {
     "name": "stdout",
     "output_type": "stream",
     "text": [
      "\n",
      "Downloading and preparing dataset multi_nli/plain_text (download: Unknown size, generated: Unknown size, post-processed: Unknown sizetotal: Unknown size) to C:\\Users\\Or Shoham\\.cache\\huggingface\\datasets\\multi_nli\\plain_text\\1.0.0\\60774175381b9f3f1e6ae1028229e3cdb270d50379f45b9f2c01008f50f09e6b...\n"
     ]
    },
    {
     "data": {
      "application/vnd.jupyter.widget-view+json": {
       "model_id": "529754b105184d15a7c7fbd24f2a50e6",
       "version_major": 2,
       "version_minor": 0
      },
      "text/plain": [
       "HBox(children=(HTML(value='Downloading'), FloatProgress(value=0.0, max=226850426.0), HTML(value='')))"
      ]
     },
     "metadata": {},
     "output_type": "display_data"
    },
    {
     "name": "stdout",
     "output_type": "stream",
     "text": [
      "\n"
     ]
    },
    {
     "ename": "OSError",
     "evalue": "[Errno 22] Invalid argument: 'C:\\\\Users\\\\Or Shoham\\\\.cache\\\\huggingface\\\\datasets\\\\downloads\\\\extracted\\\\5a93e08d090dc52c7a3d14080e1c1853859ef289758ac2d9ad6035f2647ce4fc\\\\multinli_1.0\\\\Icon\\r'",
     "output_type": "error",
     "traceback": [
      "\u001b[1;31m---------------------------------------------------------------------------\u001b[0m",
      "\u001b[1;31mOSError\u001b[0m                                   Traceback (most recent call last)",
      "\u001b[1;32m<ipython-input-25-80add17b49eb>\u001b[0m in \u001b[0;36m<module>\u001b[1;34m\u001b[0m\n\u001b[1;32m----> 1\u001b[1;33m \u001b[0mmnli\u001b[0m \u001b[1;33m=\u001b[0m \u001b[0mnlp\u001b[0m\u001b[1;33m.\u001b[0m\u001b[0mload_dataset\u001b[0m\u001b[1;33m(\u001b[0m\u001b[1;34m'multi_nli'\u001b[0m\u001b[1;33m)\u001b[0m\u001b[1;33m\u001b[0m\u001b[1;33m\u001b[0m\u001b[0m\n\u001b[0m\u001b[0;32m      2\u001b[0m \u001b[1;33m\u001b[0m\u001b[0m\n\u001b[0;32m      3\u001b[0m \u001b[1;31m#exploring the data\u001b[0m\u001b[1;33m\u001b[0m\u001b[1;33m\u001b[0m\u001b[1;33m\u001b[0m\u001b[0m\n\u001b[0;32m      4\u001b[0m \u001b[0mprint\u001b[0m\u001b[1;33m(\u001b[0m\u001b[1;34m'The number of training examples in mnli dataset:'\u001b[0m\u001b[1;33m,\u001b[0m \u001b[0mmnli\u001b[0m\u001b[1;33m[\u001b[0m\u001b[1;34m'train'\u001b[0m\u001b[1;33m]\u001b[0m\u001b[1;33m.\u001b[0m\u001b[0mnum_rows\u001b[0m\u001b[1;33m)\u001b[0m\u001b[1;33m\u001b[0m\u001b[1;33m\u001b[0m\u001b[0m\n\u001b[0;32m      5\u001b[0m \u001b[0mprint\u001b[0m\u001b[1;33m(\u001b[0m\u001b[1;34m'The number of validation examples in mnli dataset - part 1:'\u001b[0m\u001b[1;33m,\u001b[0m \u001b[0mmnli\u001b[0m\u001b[1;33m[\u001b[0m\u001b[1;34m'validation_matched'\u001b[0m\u001b[1;33m]\u001b[0m\u001b[1;33m.\u001b[0m\u001b[0mnum_rows\u001b[0m\u001b[1;33m)\u001b[0m\u001b[1;33m\u001b[0m\u001b[1;33m\u001b[0m\u001b[0m\n",
      "\u001b[1;32m~\\anaconda3\\lib\\site-packages\\nlp\\load.py\u001b[0m in \u001b[0;36mload_dataset\u001b[1;34m(path, name, version, data_dir, data_files, split, cache_dir, features, download_config, download_mode, ignore_verifications, save_infos, **config_kwargs)\u001b[0m\n\u001b[0;32m    546\u001b[0m \u001b[1;33m\u001b[0m\u001b[0m\n\u001b[0;32m    547\u001b[0m     \u001b[1;31m# Download and prepare data\u001b[0m\u001b[1;33m\u001b[0m\u001b[1;33m\u001b[0m\u001b[1;33m\u001b[0m\u001b[0m\n\u001b[1;32m--> 548\u001b[1;33m     builder_instance.download_and_prepare(\n\u001b[0m\u001b[0;32m    549\u001b[0m         \u001b[0mdownload_config\u001b[0m\u001b[1;33m=\u001b[0m\u001b[0mdownload_config\u001b[0m\u001b[1;33m,\u001b[0m \u001b[0mdownload_mode\u001b[0m\u001b[1;33m=\u001b[0m\u001b[0mdownload_mode\u001b[0m\u001b[1;33m,\u001b[0m \u001b[0mignore_verifications\u001b[0m\u001b[1;33m=\u001b[0m\u001b[0mignore_verifications\u001b[0m\u001b[1;33m,\u001b[0m\u001b[1;33m\u001b[0m\u001b[1;33m\u001b[0m\u001b[0m\n\u001b[0;32m    550\u001b[0m     )\n",
      "\u001b[1;32m~\\anaconda3\\lib\\site-packages\\nlp\\builder.py\u001b[0m in \u001b[0;36mdownload_and_prepare\u001b[1;34m(self, download_config, download_mode, ignore_verifications, try_from_hf_gcs, dl_manager, **download_and_prepare_kwargs)\u001b[0m\n\u001b[0;32m    460\u001b[0m                         \u001b[0mlogger\u001b[0m\u001b[1;33m.\u001b[0m\u001b[0minfo\u001b[0m\u001b[1;33m(\u001b[0m\u001b[1;34m\"Dataset not on Hf google storage. Downloading and preparing it from source\"\u001b[0m\u001b[1;33m)\u001b[0m\u001b[1;33m\u001b[0m\u001b[1;33m\u001b[0m\u001b[0m\n\u001b[0;32m    461\u001b[0m                 \u001b[1;32mif\u001b[0m \u001b[1;32mnot\u001b[0m \u001b[0mdownloaded_from_gcs\u001b[0m\u001b[1;33m:\u001b[0m\u001b[1;33m\u001b[0m\u001b[1;33m\u001b[0m\u001b[0m\n\u001b[1;32m--> 462\u001b[1;33m                     self._download_and_prepare(\n\u001b[0m\u001b[0;32m    463\u001b[0m                         \u001b[0mdl_manager\u001b[0m\u001b[1;33m=\u001b[0m\u001b[0mdl_manager\u001b[0m\u001b[1;33m,\u001b[0m \u001b[0mverify_infos\u001b[0m\u001b[1;33m=\u001b[0m\u001b[0mverify_infos\u001b[0m\u001b[1;33m,\u001b[0m \u001b[1;33m**\u001b[0m\u001b[0mdownload_and_prepare_kwargs\u001b[0m\u001b[1;33m\u001b[0m\u001b[1;33m\u001b[0m\u001b[0m\n\u001b[0;32m    464\u001b[0m                     )\n",
      "\u001b[1;32m~\\anaconda3\\lib\\site-packages\\nlp\\builder.py\u001b[0m in \u001b[0;36m_download_and_prepare\u001b[1;34m(self, dl_manager, verify_infos, **prepare_split_kwargs)\u001b[0m\n\u001b[0;32m    516\u001b[0m         \u001b[0msplit_dict\u001b[0m \u001b[1;33m=\u001b[0m \u001b[0mSplitDict\u001b[0m\u001b[1;33m(\u001b[0m\u001b[0mdataset_name\u001b[0m\u001b[1;33m=\u001b[0m\u001b[0mself\u001b[0m\u001b[1;33m.\u001b[0m\u001b[0mname\u001b[0m\u001b[1;33m)\u001b[0m\u001b[1;33m\u001b[0m\u001b[1;33m\u001b[0m\u001b[0m\n\u001b[0;32m    517\u001b[0m         \u001b[0msplit_generators_kwargs\u001b[0m \u001b[1;33m=\u001b[0m \u001b[0mself\u001b[0m\u001b[1;33m.\u001b[0m\u001b[0m_make_split_generators_kwargs\u001b[0m\u001b[1;33m(\u001b[0m\u001b[0mprepare_split_kwargs\u001b[0m\u001b[1;33m)\u001b[0m\u001b[1;33m\u001b[0m\u001b[1;33m\u001b[0m\u001b[0m\n\u001b[1;32m--> 518\u001b[1;33m         \u001b[0msplit_generators\u001b[0m \u001b[1;33m=\u001b[0m \u001b[0mself\u001b[0m\u001b[1;33m.\u001b[0m\u001b[0m_split_generators\u001b[0m\u001b[1;33m(\u001b[0m\u001b[0mdl_manager\u001b[0m\u001b[1;33m,\u001b[0m \u001b[1;33m**\u001b[0m\u001b[0msplit_generators_kwargs\u001b[0m\u001b[1;33m)\u001b[0m\u001b[1;33m\u001b[0m\u001b[1;33m\u001b[0m\u001b[0m\n\u001b[0m\u001b[0;32m    519\u001b[0m         \u001b[1;31m# Checksums verification\u001b[0m\u001b[1;33m\u001b[0m\u001b[1;33m\u001b[0m\u001b[1;33m\u001b[0m\u001b[0m\n\u001b[0;32m    520\u001b[0m         \u001b[1;32mif\u001b[0m \u001b[0mverify_infos\u001b[0m\u001b[1;33m:\u001b[0m\u001b[1;33m\u001b[0m\u001b[1;33m\u001b[0m\u001b[0m\n",
      "\u001b[1;32m~\\anaconda3\\lib\\site-packages\\nlp\\datasets\\multi_nli\\60774175381b9f3f1e6ae1028229e3cdb270d50379f45b9f2c01008f50f09e6b\\multi_nli.py\u001b[0m in \u001b[0;36m_split_generators\u001b[1;34m(self, dl_manager)\u001b[0m\n\u001b[0;32m     99\u001b[0m     \u001b[1;32mdef\u001b[0m \u001b[0m_split_generators\u001b[0m\u001b[1;33m(\u001b[0m\u001b[0mself\u001b[0m\u001b[1;33m,\u001b[0m \u001b[0mdl_manager\u001b[0m\u001b[1;33m)\u001b[0m\u001b[1;33m:\u001b[0m\u001b[1;33m\u001b[0m\u001b[1;33m\u001b[0m\u001b[0m\n\u001b[0;32m    100\u001b[0m \u001b[1;33m\u001b[0m\u001b[0m\n\u001b[1;32m--> 101\u001b[1;33m         downloaded_dir = dl_manager.download_and_extract(\n\u001b[0m\u001b[0;32m    102\u001b[0m             \u001b[1;34m\"http://storage.googleapis.com/tfds-data/downloads/multi_nli/multinli_1.0.zip\"\u001b[0m\u001b[1;33m\u001b[0m\u001b[1;33m\u001b[0m\u001b[0m\n\u001b[0;32m    103\u001b[0m         )\n",
      "\u001b[1;32m~\\anaconda3\\lib\\site-packages\\nlp\\utils\\download_manager.py\u001b[0m in \u001b[0;36mdownload_and_extract\u001b[1;34m(self, url_or_urls)\u001b[0m\n\u001b[0;32m    218\u001b[0m             \u001b[0mextracted_path\u001b[0m\u001b[1;33m(\u001b[0m\u001b[0ms\u001b[0m\u001b[1;33m)\u001b[0m\u001b[1;33m:\u001b[0m\u001b[0;31m \u001b[0m\u001b[0;31m`\u001b[0m\u001b[0mstr\u001b[0m\u001b[0;31m`\u001b[0m\u001b[1;33m,\u001b[0m \u001b[0mextracted\u001b[0m \u001b[0mpaths\u001b[0m \u001b[0mof\u001b[0m \u001b[0mgiven\u001b[0m \u001b[0mURL\u001b[0m\u001b[1;33m(\u001b[0m\u001b[0ms\u001b[0m\u001b[1;33m)\u001b[0m\u001b[1;33m.\u001b[0m\u001b[1;33m\u001b[0m\u001b[1;33m\u001b[0m\u001b[0m\n\u001b[0;32m    219\u001b[0m         \"\"\"\n\u001b[1;32m--> 220\u001b[1;33m         \u001b[1;32mreturn\u001b[0m \u001b[0mself\u001b[0m\u001b[1;33m.\u001b[0m\u001b[0mextract\u001b[0m\u001b[1;33m(\u001b[0m\u001b[0mself\u001b[0m\u001b[1;33m.\u001b[0m\u001b[0mdownload\u001b[0m\u001b[1;33m(\u001b[0m\u001b[0murl_or_urls\u001b[0m\u001b[1;33m)\u001b[0m\u001b[1;33m)\u001b[0m\u001b[1;33m\u001b[0m\u001b[1;33m\u001b[0m\u001b[0m\n\u001b[0m\u001b[0;32m    221\u001b[0m \u001b[1;33m\u001b[0m\u001b[0m\n\u001b[0;32m    222\u001b[0m     \u001b[1;32mdef\u001b[0m \u001b[0mget_recorded_sizes_checksums\u001b[0m\u001b[1;33m(\u001b[0m\u001b[0mself\u001b[0m\u001b[1;33m)\u001b[0m\u001b[1;33m:\u001b[0m\u001b[1;33m\u001b[0m\u001b[1;33m\u001b[0m\u001b[0m\n",
      "\u001b[1;32m~\\anaconda3\\lib\\site-packages\\nlp\\utils\\download_manager.py\u001b[0m in \u001b[0;36mextract\u001b[1;34m(self, path_or_paths)\u001b[0m\n\u001b[0;32m    195\u001b[0m                 \u001b[0mpath_or_paths\u001b[0m\u001b[1;33m.\u001b[0m\u001b[1;33m\u001b[0m\u001b[1;33m\u001b[0m\u001b[0m\n\u001b[0;32m    196\u001b[0m         \"\"\"\n\u001b[1;32m--> 197\u001b[1;33m         return map_nested(\n\u001b[0m\u001b[0;32m    198\u001b[0m             lambda path: cached_path(\n\u001b[0;32m    199\u001b[0m                 \u001b[0mpath\u001b[0m\u001b[1;33m,\u001b[0m \u001b[0mcache_dir\u001b[0m\u001b[1;33m=\u001b[0m\u001b[0mself\u001b[0m\u001b[1;33m.\u001b[0m\u001b[0m_download_config\u001b[0m\u001b[1;33m.\u001b[0m\u001b[0mcache_dir\u001b[0m\u001b[1;33m,\u001b[0m \u001b[0mextract_compressed_file\u001b[0m\u001b[1;33m=\u001b[0m\u001b[1;32mTrue\u001b[0m\u001b[1;33m,\u001b[0m \u001b[0mforce_extract\u001b[0m\u001b[1;33m=\u001b[0m\u001b[1;32mFalse\u001b[0m\u001b[1;33m\u001b[0m\u001b[1;33m\u001b[0m\u001b[0m\n",
      "\u001b[1;32m~\\anaconda3\\lib\\site-packages\\nlp\\utils\\py_utils.py\u001b[0m in \u001b[0;36mmap_nested\u001b[1;34m(function, data_struct, dict_only, map_list, map_tuple, map_numpy)\u001b[0m\n\u001b[0;32m    189\u001b[0m                 \u001b[1;32mreturn\u001b[0m \u001b[0mnp\u001b[0m\u001b[1;33m.\u001b[0m\u001b[0marray\u001b[0m\u001b[1;33m(\u001b[0m\u001b[0mmapped\u001b[0m\u001b[1;33m)\u001b[0m\u001b[1;33m\u001b[0m\u001b[1;33m\u001b[0m\u001b[0m\n\u001b[0;32m    190\u001b[0m     \u001b[1;31m# Singleton\u001b[0m\u001b[1;33m\u001b[0m\u001b[1;33m\u001b[0m\u001b[1;33m\u001b[0m\u001b[0m\n\u001b[1;32m--> 191\u001b[1;33m     \u001b[1;32mreturn\u001b[0m \u001b[0mfunction\u001b[0m\u001b[1;33m(\u001b[0m\u001b[0mdata_struct\u001b[0m\u001b[1;33m)\u001b[0m\u001b[1;33m\u001b[0m\u001b[1;33m\u001b[0m\u001b[0m\n\u001b[0m\u001b[0;32m    192\u001b[0m \u001b[1;33m\u001b[0m\u001b[0m\n\u001b[0;32m    193\u001b[0m \u001b[1;33m\u001b[0m\u001b[0m\n",
      "\u001b[1;32m~\\anaconda3\\lib\\site-packages\\nlp\\utils\\download_manager.py\u001b[0m in \u001b[0;36m<lambda>\u001b[1;34m(path)\u001b[0m\n\u001b[0;32m    196\u001b[0m         \"\"\"\n\u001b[0;32m    197\u001b[0m         return map_nested(\n\u001b[1;32m--> 198\u001b[1;33m             lambda path: cached_path(\n\u001b[0m\u001b[0;32m    199\u001b[0m                 \u001b[0mpath\u001b[0m\u001b[1;33m,\u001b[0m \u001b[0mcache_dir\u001b[0m\u001b[1;33m=\u001b[0m\u001b[0mself\u001b[0m\u001b[1;33m.\u001b[0m\u001b[0m_download_config\u001b[0m\u001b[1;33m.\u001b[0m\u001b[0mcache_dir\u001b[0m\u001b[1;33m,\u001b[0m \u001b[0mextract_compressed_file\u001b[0m\u001b[1;33m=\u001b[0m\u001b[1;32mTrue\u001b[0m\u001b[1;33m,\u001b[0m \u001b[0mforce_extract\u001b[0m\u001b[1;33m=\u001b[0m\u001b[1;32mFalse\u001b[0m\u001b[1;33m\u001b[0m\u001b[1;33m\u001b[0m\u001b[0m\n\u001b[0;32m    200\u001b[0m             ),\n",
      "\u001b[1;32m~\\anaconda3\\lib\\site-packages\\nlp\\utils\\file_utils.py\u001b[0m in \u001b[0;36mcached_path\u001b[1;34m(url_or_filename, download_config, **download_kwargs)\u001b[0m\n\u001b[0;32m    231\u001b[0m             \u001b[1;32mif\u001b[0m \u001b[0mis_zipfile\u001b[0m\u001b[1;33m(\u001b[0m\u001b[0moutput_path\u001b[0m\u001b[1;33m)\u001b[0m\u001b[1;33m:\u001b[0m\u001b[1;33m\u001b[0m\u001b[1;33m\u001b[0m\u001b[0m\n\u001b[0;32m    232\u001b[0m                 \u001b[1;32mwith\u001b[0m \u001b[0mZipFile\u001b[0m\u001b[1;33m(\u001b[0m\u001b[0moutput_path\u001b[0m\u001b[1;33m,\u001b[0m \u001b[1;34m\"r\"\u001b[0m\u001b[1;33m)\u001b[0m \u001b[1;32mas\u001b[0m \u001b[0mzip_file\u001b[0m\u001b[1;33m:\u001b[0m\u001b[1;33m\u001b[0m\u001b[1;33m\u001b[0m\u001b[0m\n\u001b[1;32m--> 233\u001b[1;33m                     \u001b[0mzip_file\u001b[0m\u001b[1;33m.\u001b[0m\u001b[0mextractall\u001b[0m\u001b[1;33m(\u001b[0m\u001b[0moutput_path_extracted\u001b[0m\u001b[1;33m)\u001b[0m\u001b[1;33m\u001b[0m\u001b[1;33m\u001b[0m\u001b[0m\n\u001b[0m\u001b[0;32m    234\u001b[0m                     \u001b[0mzip_file\u001b[0m\u001b[1;33m.\u001b[0m\u001b[0mclose\u001b[0m\u001b[1;33m(\u001b[0m\u001b[1;33m)\u001b[0m\u001b[1;33m\u001b[0m\u001b[1;33m\u001b[0m\u001b[0m\n\u001b[0;32m    235\u001b[0m             \u001b[1;32melif\u001b[0m \u001b[0mtarfile\u001b[0m\u001b[1;33m.\u001b[0m\u001b[0mis_tarfile\u001b[0m\u001b[1;33m(\u001b[0m\u001b[0moutput_path\u001b[0m\u001b[1;33m)\u001b[0m\u001b[1;33m:\u001b[0m\u001b[1;33m\u001b[0m\u001b[1;33m\u001b[0m\u001b[0m\n",
      "\u001b[1;32m~\\anaconda3\\lib\\zipfile.py\u001b[0m in \u001b[0;36mextractall\u001b[1;34m(self, path, members, pwd)\u001b[0m\n\u001b[0;32m   1644\u001b[0m \u001b[1;33m\u001b[0m\u001b[0m\n\u001b[0;32m   1645\u001b[0m         \u001b[1;32mfor\u001b[0m \u001b[0mzipinfo\u001b[0m \u001b[1;32min\u001b[0m \u001b[0mmembers\u001b[0m\u001b[1;33m:\u001b[0m\u001b[1;33m\u001b[0m\u001b[1;33m\u001b[0m\u001b[0m\n\u001b[1;32m-> 1646\u001b[1;33m             \u001b[0mself\u001b[0m\u001b[1;33m.\u001b[0m\u001b[0m_extract_member\u001b[0m\u001b[1;33m(\u001b[0m\u001b[0mzipinfo\u001b[0m\u001b[1;33m,\u001b[0m \u001b[0mpath\u001b[0m\u001b[1;33m,\u001b[0m \u001b[0mpwd\u001b[0m\u001b[1;33m)\u001b[0m\u001b[1;33m\u001b[0m\u001b[1;33m\u001b[0m\u001b[0m\n\u001b[0m\u001b[0;32m   1647\u001b[0m \u001b[1;33m\u001b[0m\u001b[0m\n\u001b[0;32m   1648\u001b[0m     \u001b[1;33m@\u001b[0m\u001b[0mclassmethod\u001b[0m\u001b[1;33m\u001b[0m\u001b[1;33m\u001b[0m\u001b[0m\n",
      "\u001b[1;32m~\\anaconda3\\lib\\zipfile.py\u001b[0m in \u001b[0;36m_extract_member\u001b[1;34m(self, member, targetpath, pwd)\u001b[0m\n\u001b[0;32m   1698\u001b[0m \u001b[1;33m\u001b[0m\u001b[0m\n\u001b[0;32m   1699\u001b[0m         \u001b[1;32mwith\u001b[0m \u001b[0mself\u001b[0m\u001b[1;33m.\u001b[0m\u001b[0mopen\u001b[0m\u001b[1;33m(\u001b[0m\u001b[0mmember\u001b[0m\u001b[1;33m,\u001b[0m \u001b[0mpwd\u001b[0m\u001b[1;33m=\u001b[0m\u001b[0mpwd\u001b[0m\u001b[1;33m)\u001b[0m \u001b[1;32mas\u001b[0m \u001b[0msource\u001b[0m\u001b[1;33m,\u001b[0m\u001b[0;31m \u001b[0m\u001b[0;31m\\\u001b[0m\u001b[1;33m\u001b[0m\u001b[1;33m\u001b[0m\u001b[0m\n\u001b[1;32m-> 1700\u001b[1;33m              \u001b[0mopen\u001b[0m\u001b[1;33m(\u001b[0m\u001b[0mtargetpath\u001b[0m\u001b[1;33m,\u001b[0m \u001b[1;34m\"wb\"\u001b[0m\u001b[1;33m)\u001b[0m \u001b[1;32mas\u001b[0m \u001b[0mtarget\u001b[0m\u001b[1;33m:\u001b[0m\u001b[1;33m\u001b[0m\u001b[1;33m\u001b[0m\u001b[0m\n\u001b[0m\u001b[0;32m   1701\u001b[0m             \u001b[0mshutil\u001b[0m\u001b[1;33m.\u001b[0m\u001b[0mcopyfileobj\u001b[0m\u001b[1;33m(\u001b[0m\u001b[0msource\u001b[0m\u001b[1;33m,\u001b[0m \u001b[0mtarget\u001b[0m\u001b[1;33m)\u001b[0m\u001b[1;33m\u001b[0m\u001b[1;33m\u001b[0m\u001b[0m\n\u001b[0;32m   1702\u001b[0m \u001b[1;33m\u001b[0m\u001b[0m\n",
      "\u001b[1;31mOSError\u001b[0m: [Errno 22] Invalid argument: 'C:\\\\Users\\\\Or Shoham\\\\.cache\\\\huggingface\\\\datasets\\\\downloads\\\\extracted\\\\5a93e08d090dc52c7a3d14080e1c1853859ef289758ac2d9ad6035f2647ce4fc\\\\multinli_1.0\\\\Icon\\r'"
     ]
    }
   ],
   "source": [
    "mnli = nlp.load_dataset('multi_nli')\n",
    "\n",
    "#exploring the data\n",
    "print('The number of training examples in mnli dataset:', mnli['train'].num_rows)\n",
    "print('The number of validation examples in mnli dataset - part 1:', mnli['validation_matched'].num_rows)\n",
    "print('The number of validation examples in mnli dataset - part 2:', mnli['validation_mismatched'].num_rows, '\\n')\n",
    "\n",
    "print('The class names in mnli dataset:', mnli['train'].features['label'].names)\n",
    "print('The feature names in mnli dataset:', list(mnli['train'].features.keys()), '\\n')"
   ]
  },
  {
   "cell_type": "markdown",
   "metadata": {
    "id": "UTPVoRdSO5eV"
   },
   "source": [
    "##### Load SNLI dataset\n",
    "\n",
    "1. The Stanford Natural Language Inference (SNLI) corpus is a collection of 570k human-written English sentence pairs manually labeled for balanced classification with the labels entailment, contradiction, and neutral"
   ]
  },
  {
   "cell_type": "code",
   "execution_count": 18,
   "metadata": {
    "colab": {
     "base_uri": "https://localhost:8080/"
    },
    "id": "S61srgJ6OrJr",
    "outputId": "fcac38a1-f167-43ed-eae9-85c1df05971c"
   },
   "outputs": [
    {
     "name": "stdout",
     "output_type": "stream",
     "text": [
      "The number of training examples in snli dataset: 550152\n",
      "The number of validation examples in snli dataset: 10000 \n",
      "\n",
      "The class names in snli dataset: ['entailment', 'neutral', 'contradiction']\n",
      "The feature names in snli dataset: ['premise', 'hypothesis', 'label'] \n",
      "\n"
     ]
    }
   ],
   "source": [
    "snli = nlp.load_dataset('snli')\n",
    "\n",
    "#exploring the data\n",
    "print('The number of training examples in snli dataset:', snli['train'].num_rows)\n",
    "print('The number of validation examples in snli dataset:', snli['validation'].num_rows, '\\n')\n",
    "\n",
    "print('The class names in snli dataset:', snli['train'].features['label'].names)\n",
    "print('The feature names in snli dataset:', list(snli['train'].features.keys()), '\\n')"
   ]
  },
  {
   "cell_type": "markdown",
   "metadata": {
    "id": "h9pd9s8PPWEp"
   },
   "source": [
    "##### Load XNLI dataset\n",
    "\n",
    "1. The Cross-lingual Natural Language Inference (XNLI) corpus is a crowd-sourced collection of 5,000 test and 2,500 dev pairs for the MultiNLI corpus\n",
    "2. The pairs are annotated with textual entailment and translated into 14 languages. This results in 112.5k annotated pairs\n",
    "3. The corpus is made to evaluate how to perform inference in any language when only English NLI data is available at training time\n"
   ]
  },
  {
   "cell_type": "code",
   "execution_count": 19,
   "metadata": {
    "colab": {
     "base_uri": "https://localhost:8080/",
     "height": 408
    },
    "id": "AXBChV_BPWUI",
    "outputId": "a9a2ff3d-301e-4df6-9eca-7f14cffd1a59"
   },
   "outputs": [
    {
     "name": "stdout",
     "output_type": "stream",
     "text": [
      "size of xnli data = 112500\n"
     ]
    },
    {
     "data": {
      "text/html": [
       "<div>\n",
       "<style scoped>\n",
       "    .dataframe tbody tr th:only-of-type {\n",
       "        vertical-align: middle;\n",
       "    }\n",
       "\n",
       "    .dataframe tbody tr th {\n",
       "        vertical-align: top;\n",
       "    }\n",
       "\n",
       "    .dataframe thead th {\n",
       "        text-align: right;\n",
       "    }\n",
       "</style>\n",
       "<table border=\"1\" class=\"dataframe\">\n",
       "  <thead>\n",
       "    <tr style=\"text-align: right;\">\n",
       "      <th></th>\n",
       "      <th>language</th>\n",
       "      <th>gold_label</th>\n",
       "      <th>sentence1_binary_parse</th>\n",
       "      <th>sentence2_binary_parse</th>\n",
       "      <th>sentence1_parse</th>\n",
       "      <th>sentence2_parse</th>\n",
       "      <th>sentence1</th>\n",
       "      <th>sentence2</th>\n",
       "      <th>promptID</th>\n",
       "      <th>pairID</th>\n",
       "      <th>genre</th>\n",
       "      <th>label1</th>\n",
       "      <th>label2</th>\n",
       "      <th>label3</th>\n",
       "      <th>label4</th>\n",
       "      <th>label5</th>\n",
       "      <th>sentence1_tokenized</th>\n",
       "      <th>sentence2_tokenized</th>\n",
       "      <th>match</th>\n",
       "    </tr>\n",
       "  </thead>\n",
       "  <tbody>\n",
       "    <tr>\n",
       "      <th>0</th>\n",
       "      <td>ar</td>\n",
       "      <td>neutral</td>\n",
       "      <td>NaN</td>\n",
       "      <td>NaN</td>\n",
       "      <td>NaN</td>\n",
       "      <td>NaN</td>\n",
       "      <td>وقال، ماما، لقد عدت للمنزل.</td>\n",
       "      <td>اتصل بأمه حالما أوصلته حافلة المدرسية.</td>\n",
       "      <td>1</td>\n",
       "      <td>1</td>\n",
       "      <td>facetoface</td>\n",
       "      <td>neutral</td>\n",
       "      <td>contradiction</td>\n",
       "      <td>neutral</td>\n",
       "      <td>neutral</td>\n",
       "      <td>neutral</td>\n",
       "      <td>وقال ، ماما ، لقد عدت للمنزل .</td>\n",
       "      <td>اتصل بأمه حالما أوصلته حافلة المدرسية .</td>\n",
       "      <td>True</td>\n",
       "    </tr>\n",
       "    <tr>\n",
       "      <th>1</th>\n",
       "      <td>ar</td>\n",
       "      <td>contradiction</td>\n",
       "      <td>NaN</td>\n",
       "      <td>NaN</td>\n",
       "      <td>NaN</td>\n",
       "      <td>NaN</td>\n",
       "      <td>وقال، ماما، لقد عدت للمنزل.</td>\n",
       "      <td>لم ينطق ببنت شفة.</td>\n",
       "      <td>1</td>\n",
       "      <td>2</td>\n",
       "      <td>facetoface</td>\n",
       "      <td>contradiction</td>\n",
       "      <td>contradiction</td>\n",
       "      <td>contradiction</td>\n",
       "      <td>contradiction</td>\n",
       "      <td>contradiction</td>\n",
       "      <td>وقال ، ماما ، لقد عدت للمنزل .</td>\n",
       "      <td>لم ينطق ببنت شفة .</td>\n",
       "      <td>True</td>\n",
       "    </tr>\n",
       "    <tr>\n",
       "      <th>2</th>\n",
       "      <td>ar</td>\n",
       "      <td>entailment</td>\n",
       "      <td>NaN</td>\n",
       "      <td>NaN</td>\n",
       "      <td>NaN</td>\n",
       "      <td>NaN</td>\n",
       "      <td>وقال، ماما، لقد عدت للمنزل.</td>\n",
       "      <td>أخبر أمه أنه قد عاد للمنزل.</td>\n",
       "      <td>1</td>\n",
       "      <td>3</td>\n",
       "      <td>facetoface</td>\n",
       "      <td>entailment</td>\n",
       "      <td>entailment</td>\n",
       "      <td>neutral</td>\n",
       "      <td>entailment</td>\n",
       "      <td>entailment</td>\n",
       "      <td>وقال ، ماما ، لقد عدت للمنزل .</td>\n",
       "      <td>أخبر أمه أنه قد عاد للمنزل .</td>\n",
       "      <td>True</td>\n",
       "    </tr>\n",
       "    <tr>\n",
       "      <th>3</th>\n",
       "      <td>ar</td>\n",
       "      <td>neutral</td>\n",
       "      <td>NaN</td>\n",
       "      <td>NaN</td>\n",
       "      <td>NaN</td>\n",
       "      <td>NaN</td>\n",
       "      <td>لم أعرف من أجل ماذا أنا ذاهب أو أي شىْ ، لذلك ...</td>\n",
       "      <td>لم أذهب إلى واشنطن من قبل، لذا عندما تم تكليفي...</td>\n",
       "      <td>6</td>\n",
       "      <td>16</td>\n",
       "      <td>facetoface</td>\n",
       "      <td>neutral</td>\n",
       "      <td>neutral</td>\n",
       "      <td>neutral</td>\n",
       "      <td>neutral</td>\n",
       "      <td>neutral</td>\n",
       "      <td>لم أعرف من أجل ماذا أنا ذاهب أو أي شىْ ، لذلك ...</td>\n",
       "      <td>لم أذهب إلى واشنطن من قبل ، لذا عندما تم تكليف...</td>\n",
       "      <td>True</td>\n",
       "    </tr>\n",
       "    <tr>\n",
       "      <th>4</th>\n",
       "      <td>ar</td>\n",
       "      <td>contradiction</td>\n",
       "      <td>NaN</td>\n",
       "      <td>NaN</td>\n",
       "      <td>NaN</td>\n",
       "      <td>NaN</td>\n",
       "      <td>لم أعرف من أجل ماذا أنا ذاهب أو أي شىْ ، لذلك ...</td>\n",
       "      <td>لقد عرفت بالضبط ما الذي احتجت أن أفعله عندما م...</td>\n",
       "      <td>6</td>\n",
       "      <td>17</td>\n",
       "      <td>facetoface</td>\n",
       "      <td>contradiction</td>\n",
       "      <td>contradiction</td>\n",
       "      <td>contradiction</td>\n",
       "      <td>contradiction</td>\n",
       "      <td>contradiction</td>\n",
       "      <td>لم أعرف من أجل ماذا أنا ذاهب أو أي شىْ ، لذلك ...</td>\n",
       "      <td>لقد عرفت بالضبط ما الذي احتجت أن أفعله عندما م...</td>\n",
       "      <td>True</td>\n",
       "    </tr>\n",
       "  </tbody>\n",
       "</table>\n",
       "</div>"
      ],
      "text/plain": [
       "  language  ... match\n",
       "0       ar  ...  True\n",
       "1       ar  ...  True\n",
       "2       ar  ...  True\n",
       "3       ar  ...  True\n",
       "4       ar  ...  True\n",
       "\n",
       "[5 rows x 19 columns]"
      ]
     },
     "execution_count": 19,
     "metadata": {
      "tags": []
     },
     "output_type": "execute_result"
    }
   ],
   "source": [
    "#load dev xnli\n",
    "filename_dev = 'https://raw.githubusercontent.com/orsho/NLI-kaggle-competition-/main/data/xnli.dev.tsv'\n",
    "df_dev = pd.read_csv(filename_dev, delimiter='\\t')\n",
    "\n",
    "#load test xnli part1\n",
    "filename_test1 = 'https://raw.githubusercontent.com/orsho/NLI-kaggle-competition-/main/data/xnli_test_part1.xlsx'\n",
    "df_test1 = pd.read_excel(filename_test1)\n",
    "\n",
    "#load test xnli part2\n",
    "filename_test2 = 'https://raw.githubusercontent.com/orsho/NLI-kaggle-competition-/main/data/xnli_test_part2.xlsx'\n",
    "df_test2 = pd.read_excel(filename_test2)\n",
    "\n",
    "#concat all df together\n",
    "train_xnli_df = pd.concat([df_dev, df_test1, df_test2], axis=0)\n",
    "print(\"size of xnli data = {}\".format(len(train_xnli_df)))\n",
    "train_xnli_df.head()"
   ]
  },
  {
   "cell_type": "code",
   "execution_count": 20,
   "metadata": {
    "id": "MbGnwAYto3i5"
   },
   "outputs": [],
   "source": [
    "def organize_xnli_files(df):\n",
    "  #convert xnli dataset to schema contain two columns\n",
    "  #first column - premise and hypothesis combined in one sentence ('SEP' between them)\n",
    "  #second column - the label (0/1/2)\n",
    "\n",
    "  #Parameters:\n",
    "  #    df :the dataframe which get converted\n",
    "\n",
    "  #Returns:\n",
    "  #    df :the converted dataframe\n",
    "\n",
    "  df['sentence1']= df['sentence1'].str.cat(df['sentence2'], sep =\" [SEP] \")\n",
    "  df = df.drop(columns=['language', 'sentence1_binary_parse', 'sentence2_binary_parse', 'sentence1_parse', 'sentence2_parse', \\\n",
    "                      'promptID', 'pairID', 'genre', 'label1', 'label2', 'label3', 'label4', 'label5', 'sentence1_tokenized', \\\n",
    "                      'sentence2_tokenized', 'match' , 'sentence2'])\n",
    "  df = df.rename(columns = {'sentence1': 'concat_sen', 'gold_label': 'label'}, inplace = False)\n",
    "  df[\"label\"].replace({\"entailment\": 0, \"neutral\": 1, \"contradiction\": 2}, inplace=True)\n",
    "  \n",
    "  return df"
   ]
  },
  {
   "cell_type": "markdown",
   "metadata": {
    "id": "mbIyS_atRJUz"
   },
   "source": [
    "### Organize all datasets for expirements"
   ]
  },
  {
   "cell_type": "markdown",
   "metadata": {
    "id": "ZcgkY5bdRXnn"
   },
   "source": [
    "##### Organize Kaggle data"
   ]
  },
  {
   "cell_type": "code",
   "execution_count": 21,
   "metadata": {
    "id": "nA_hG2ArRJh4"
   },
   "outputs": [],
   "source": [
    "#convert kaggle dataset to the desired format (two columns - the two sentences combined and the label)\n",
    "train_df_after_drop = train_kaggle_df.drop(columns=['id', 'lang_abv', 'language'])\n",
    "train_df_after_drop = organize_df(train_df_after_drop)\n",
    "train_df_after_drop.sample(frac=1, random_state=12)\n",
    "\n",
    "#split to train and validation set\n",
    "train_kaggle_df = train_df_after_drop[2400:]\n",
    "val_kaggle_df = train_df_after_drop[0:2400]"
   ]
  },
  {
   "cell_type": "markdown",
   "metadata": {
    "id": "bSNM5p9GhPhF"
   },
   "source": [
    "##### Organize all other datasets"
   ]
  },
  {
   "cell_type": "code",
   "execution_count": 22,
   "metadata": {
    "id": "tuqhL_7nhU8N"
   },
   "outputs": [],
   "source": [
    "# Unified MNLI train dataset to desired dataframe schema\n",
    "train_mnli_df = pd.DataFrame({'premise' : mnli['train']['premise'], 'hypothesis' : mnli['train']['hypothesis'], 'label' : mnli['train']['label']})\n",
    "train_mnli_df = organize_df(train_mnli_df)\n",
    "train_mnli_df.sample(frac=1, random_state=12)\n",
    "train_mnli_df = clean_data(train_mnli_df)\n",
    "\n",
    "# Unified SNLI train dataset to desired dataframe schema\n",
    "train_snli_df = pd.DataFrame({'premise' : snli['train']['premise'], 'hypothesis' : snli['train']['hypothesis'], 'label' : snli['train']['label']})\n",
    "train_snli_df = organize_df(train_snli_df)\n",
    "train_snli_df.sample(frac=1, random_state=12)\n",
    "train_snli_df = clean_data(train_snli_df)\n",
    "\n",
    "\n",
    "# Unified XNLI train dataset to desired dataframe schema\n",
    "train_xnli_df = organize_xnli_files(train_xnli_df)\n",
    "train_xnli_df.sample(frac=1, random_state=12)\n",
    "train_xnli_df = clean_data(train_xnli_df)\n"
   ]
  },
  {
   "cell_type": "markdown",
   "metadata": {
    "id": "7x9Hb7gIRyqX"
   },
   "source": [
    "##### concat all datasets together"
   ]
  },
  {
   "cell_type": "code",
   "execution_count": 23,
   "metadata": {
    "colab": {
     "base_uri": "https://localhost:8080/"
    },
    "id": "oHbKOaDMRyzy",
    "outputId": "2a536137-cbb8-4fa4-b0a8-09d5a21fac2d"
   },
   "outputs": [
    {
     "name": "stdout",
     "output_type": "stream",
     "text": [
      "size of kaggle train data = 9720\n",
      "size of mnli train data = 392680\n",
      "size of snli train data = 548820\n",
      "size of xnli train data = 112493\n",
      "size of all train data together = 1063713\n",
      "size of all train data except snli = 514893\n",
      "size of validation data = 2400\n"
     ]
    }
   ],
   "source": [
    "#concat and summuraize all the data for next expirements\n",
    "print(\"size of kaggle train data = {}\".format(len(train_kaggle_df)))\n",
    "print(\"size of mnli train data = {}\".format(len(train_mnli_df)))\n",
    "print(\"size of snli train data = {}\".format(len(train_snli_df)))\n",
    "print(\"size of xnli train data = {}\".format(len(train_xnli_df)))\n",
    "\n",
    "all_train_df = pd.concat([train_kaggle_df, train_mnli_df, train_snli_df, train_xnli_df], axis=0)\n",
    "train_kaggle_mnli_xnli = pd.concat([train_kaggle_df,train_mnli_df, train_xnli_df], axis=0)\n",
    "print(\"size of all train data together = {}\".format(len(all_train_df)))\n",
    "print(\"size of all train data except snli = {}\".format(len(train_kaggle_mnli_xnli)))\n",
    "print(\"size of validation data = {}\".format(len(val_kaggle_df)))"
   ]
  },
  {
   "cell_type": "markdown",
   "metadata": {
    "id": "BiKGtHGlWC3q"
   },
   "source": [
    "### Experiment 1\n",
    "\n",
    "naive approach in order to better understand the data and the task we are dealing with"
   ]
  },
  {
   "cell_type": "markdown",
   "metadata": {
    "id": "4b3w3NGXuRZE"
   },
   "source": [
    "##### Prepare the data and tokenize \n"
   ]
  },
  {
   "cell_type": "code",
   "execution_count": 31,
   "metadata": {
    "colab": {
     "base_uri": "https://localhost:8080/",
     "height": 212,
     "referenced_widgets": [
      "8a9811b951704f0ab4abb4f252b0168e",
      "379d8e7a5c1b48e49b203644d49c5e0c",
      "04197d2cd188412896a0b56f7485c468",
      "ae7e5fe511f643ea82f3667d3a42db6e",
      "8c8bbd08525d4ed7aa606b6e873f6b31",
      "4a9e457239b8462eb591fdc99683c55f",
      "bb63f122a6c0428483bd6672f32884d7",
      "cdb664d5dc8849cbb219698f9737dd45",
      "f6328b0127b84d4a996acf16084843e3",
      "5118f2db5a14409593c3f25bd7850a9c",
      "f05a54a0926548b2a47dd0bad3baf23f",
      "8d2469f18e97405381c2675455b7bd32",
      "980b2c43f0734731803fedcac16fc79e",
      "59bc2a91cee84e72987c0a9e7519161e",
      "8d1a4071b7164f859c8170971cbb0fda",
      "ba0dc1dc705f48059126019f20d8d414",
      "0f28e2af437a44769805bb54d5c66229",
      "6f55dbdf53a545aab0c9fbfd3759df5c",
      "44f5e21e7bc24d0781d2c5b683b16fab",
      "f9a1a9a5cc2c45e4884ec8e23790c871",
      "66d63e282d354f339732260f5f1819b8",
      "94b14c6c05a84425ac298f2f00ff6970",
      "1a6f3c9bab194c3c94a3c2286de77e38",
      "8eafd34c7a5d4ce5a4ac6fe646a450cf",
      "b064b453307a443bae345c54c607a56f",
      "706b8180882b45aa97581ff1e18bf9f3",
      "f87ad32bfe934ebd966256b14aca9c29",
      "3181742cbef144baaa52fad69ffb290a",
      "51f2b1b7e57b48f4ae8f0615a1e83f6b",
      "709330c3583e44e2930f0099b7d9064e",
      "d275e3a584e6481582c34c0f8c48a0fb",
      "e148fa010b4645db9ff049eb35c7f343"
     ]
    },
    "id": "6ANCZgUCgOZ5",
    "outputId": "e950fd98-d90f-4f55-fd24-ce4ff9ffd1bd"
   },
   "outputs": [
    {
     "data": {
      "application/vnd.jupyter.widget-view+json": {
       "model_id": "8a9811b951704f0ab4abb4f252b0168e",
       "version_major": 2,
       "version_minor": 0
      },
      "text/plain": [
       "HBox(children=(FloatProgress(value=0.0, description='Downloading', max=995526.0, style=ProgressStyle(descripti…"
      ]
     },
     "metadata": {
      "tags": []
     },
     "output_type": "display_data"
    },
    {
     "name": "stdout",
     "output_type": "stream",
     "text": [
      "\n"
     ]
    },
    {
     "data": {
      "application/vnd.jupyter.widget-view+json": {
       "model_id": "f6328b0127b84d4a996acf16084843e3",
       "version_major": 2,
       "version_minor": 0
      },
      "text/plain": [
       "HBox(children=(FloatProgress(value=0.0, description='Downloading', max=29.0, style=ProgressStyle(description_w…"
      ]
     },
     "metadata": {
      "tags": []
     },
     "output_type": "display_data"
    },
    {
     "name": "stdout",
     "output_type": "stream",
     "text": [
      "\n"
     ]
    },
    {
     "data": {
      "application/vnd.jupyter.widget-view+json": {
       "model_id": "0f28e2af437a44769805bb54d5c66229",
       "version_major": 2,
       "version_minor": 0
      },
      "text/plain": [
       "HBox(children=(FloatProgress(value=0.0, description='Downloading', max=1961828.0, style=ProgressStyle(descript…"
      ]
     },
     "metadata": {
      "tags": []
     },
     "output_type": "display_data"
    },
    {
     "name": "stdout",
     "output_type": "stream",
     "text": [
      "\n"
     ]
    },
    {
     "data": {
      "application/vnd.jupyter.widget-view+json": {
       "model_id": "b064b453307a443bae345c54c607a56f",
       "version_major": 2,
       "version_minor": 0
      },
      "text/plain": [
       "HBox(children=(FloatProgress(value=0.0, description='Downloading', max=625.0, style=ProgressStyle(description_…"
      ]
     },
     "metadata": {
      "tags": []
     },
     "output_type": "display_data"
    },
    {
     "name": "stdout",
     "output_type": "stream",
     "text": [
      "\n"
     ]
    }
   ],
   "source": [
    "#for the first experiment we chose 'bert-base-multilingual-cased'\n",
    "#pretrained model of the top 104 languages with the largest Wikipedia - didn;t train specific for NLI purposes \n",
    "model_name = 'bert-base-multilingual-cased' \n",
    "tokenizer = BertTokenizer.from_pretrained(model_name)\n",
    "\n",
    "#convert to numpy\n",
    "train_kaggle = train_kaggle_df.to_numpy()\n",
    "val_kaggle = val_kaggle_df.to_numpy()\n",
    "\n",
    "#convert the data into tokenize format\n",
    "train_tokenized = prepare_data(train_kaggle, tokenizer, batch_size=32)\n",
    "val_tokenized = prepare_data(val_kaggle, tokenizer)"
   ]
  },
  {
   "cell_type": "code",
   "execution_count": 32,
   "metadata": {
    "colab": {
     "base_uri": "https://localhost:8080/"
    },
    "id": "mHihHVc_HOFb",
    "outputId": "92029962-da3e-45f0-e2c9-ab7dbb389430"
   },
   "outputs": [
    {
     "data": {
      "text/plain": [
       "{'attention_mask': torch.Size([32, 118]),\n",
       " 'input_ids': torch.Size([32, 118]),\n",
       " 'labels': torch.Size([32]),\n",
       " 'token_type_ids': torch.Size([32, 118])}"
      ]
     },
     "execution_count": 32,
     "metadata": {
      "tags": []
     },
     "output_type": "execute_result"
    }
   ],
   "source": [
    "#verify the batches in the right format\n",
    "for batch in train_tokenized:\n",
    "    break\n",
    "{k: v.shape for k, v in batch.items()}"
   ]
  },
  {
   "cell_type": "markdown",
   "metadata": {
    "id": "v-7wsdNdvBOM"
   },
   "source": [
    "##### Set model parameters and train"
   ]
  },
  {
   "cell_type": "code",
   "execution_count": 33,
   "metadata": {
    "colab": {
     "base_uri": "https://localhost:8080/",
     "height": 616,
     "referenced_widgets": [
      "d218ed7cbfa64d9d9f799a5a47d8d8c7",
      "7968c355284f4350883035256963b04f",
      "497757afd69144b3be17a0ef7e8876ae",
      "f1ab487210ff4a5791eed28708148f85",
      "a3c425e980d6464baef2c780bf9e7f37",
      "ff2eb8000388482bb455d6cf0a425feb",
      "f241b0414baf4ba5bc1a13132947f952",
      "1a9fd51babce4e8481c59db8a8035be8"
     ]
    },
    "id": "XJ_mA3ZBaxD1",
    "outputId": "5ee3afd3-b30b-42ab-8ad8-b728628e0dd3"
   },
   "outputs": [
    {
     "data": {
      "application/vnd.jupyter.widget-view+json": {
       "model_id": "d218ed7cbfa64d9d9f799a5a47d8d8c7",
       "version_major": 2,
       "version_minor": 0
      },
      "text/plain": [
       "HBox(children=(FloatProgress(value=0.0, description='Downloading', max=714314041.0, style=ProgressStyle(descri…"
      ]
     },
     "metadata": {
      "tags": []
     },
     "output_type": "display_data"
    },
    {
     "name": "stdout",
     "output_type": "stream",
     "text": [
      "\n"
     ]
    },
    {
     "name": "stderr",
     "output_type": "stream",
     "text": [
      "Some weights of the model checkpoint at bert-base-multilingual-cased were not used when initializing BertForSequenceClassification: ['cls.predictions.transform.dense.bias', 'cls.seq_relationship.weight', 'cls.predictions.transform.dense.weight', 'cls.predictions.transform.LayerNorm.weight', 'cls.seq_relationship.bias', 'cls.predictions.decoder.weight', 'cls.predictions.bias', 'cls.predictions.transform.LayerNorm.bias']\n",
      "- This IS expected if you are initializing BertForSequenceClassification from the checkpoint of a model trained on another task or with another architecture (e.g. initializing a BertForSequenceClassification model from a BertForPreTraining model).\n",
      "- This IS NOT expected if you are initializing BertForSequenceClassification from the checkpoint of a model that you expect to be exactly identical (initializing a BertForSequenceClassification model from a BertForSequenceClassification model).\n",
      "Some weights of BertForSequenceClassification were not initialized from the model checkpoint at bert-base-multilingual-cased and are newly initialized: ['classifier.weight', 'classifier.bias']\n",
      "You should probably TRAIN this model on a down-stream task to be able to use it for predictions and inference.\n"
     ]
    },
    {
     "name": "stdout",
     "output_type": "stream",
     "text": [
      "----------Epoch 0, train loss=1.0509268963023235---------\n",
      "----------Epoch 0, val loss=1.0195870701471965---------\n",
      "----------Epoch 1, train loss=0.9535707760798303---------\n",
      "----------Epoch 1, val loss=0.9788087836901347---------\n",
      "----------Epoch 2, train loss=0.8878098191007188---------\n",
      "----------Epoch 2, val loss=0.988372220993042---------\n",
      "----------Epoch 3, train loss=0.8298594047756571---------\n",
      "----------Epoch 3, val loss=1.0187284429868062---------\n",
      "----------Epoch 4, train loss=0.7651605961942359---------\n",
      "----------Epoch 4, val loss=1.0670499229431152---------\n"
     ]
    },
    {
     "data": {
      "image/png": "[encoded data removed]",
      "text/plain": [
       "<Figure size 432x288 with 1 Axes>"
      ]
     },
     "metadata": {
      "needs_background": "light",
      "tags": []
     },
     "output_type": "display_data"
    }
   ],
   "source": [
    "#load the pre-trained model\n",
    "model = BertForSequenceClassification.from_pretrained(model_name, num_labels = 3)\n",
    "\n",
    "set_parameters(model.named_parameters(), 181) # fine-tuning only the last layer\n",
    "\n",
    "model.to(device)\n",
    "\n",
    "n_epochs = 5\n",
    "lr=1e-4\n",
    "\n",
    "optimizer = torch.optim.Adam(model.parameters(), lr=lr) #set an Adam optimizer with learning rate\n",
    "\n",
    "train_loop(model, n_epochs, train_tokenized, val_tokenized) #train the model "
   ]
  },
  {
   "cell_type": "markdown",
   "metadata": {
    "id": "A5MOKnacyKhP"
   },
   "source": [
    "##### Evaluate model"
   ]
  },
  {
   "cell_type": "code",
   "execution_count": 34,
   "metadata": {
    "colab": {
     "base_uri": "https://localhost:8080/",
     "height": 175
    },
    "id": "AsQXpag6QBQd",
    "outputId": "093988df-c3f4-49cc-cd23-e37b3d3c3d9b"
   },
   "outputs": [
    {
     "name": "stdout",
     "output_type": "stream",
     "text": [
      "********Results*********\n",
      "The model accuracy is 0.5495833333333333\n"
     ]
    },
    {
     "data": {
      "text/html": [
       "<div>\n",
       "<style scoped>\n",
       "    .dataframe tbody tr th:only-of-type {\n",
       "        vertical-align: middle;\n",
       "    }\n",
       "\n",
       "    .dataframe tbody tr th {\n",
       "        vertical-align: top;\n",
       "    }\n",
       "\n",
       "    .dataframe thead th {\n",
       "        text-align: right;\n",
       "    }\n",
       "</style>\n",
       "<table border=\"1\" class=\"dataframe\">\n",
       "  <thead>\n",
       "    <tr style=\"text-align: right;\">\n",
       "      <th></th>\n",
       "      <th>0</th>\n",
       "      <th>1</th>\n",
       "      <th>2</th>\n",
       "    </tr>\n",
       "  </thead>\n",
       "  <tbody>\n",
       "    <tr>\n",
       "      <th>precision_val</th>\n",
       "      <td>0.550588</td>\n",
       "      <td>0.535802</td>\n",
       "      <td>0.563514</td>\n",
       "    </tr>\n",
       "    <tr>\n",
       "      <th>recall_val</th>\n",
       "      <td>0.572127</td>\n",
       "      <td>0.545912</td>\n",
       "      <td>0.529860</td>\n",
       "    </tr>\n",
       "    <tr>\n",
       "      <th>f1_val</th>\n",
       "      <td>0.561151</td>\n",
       "      <td>0.540810</td>\n",
       "      <td>0.546169</td>\n",
       "    </tr>\n",
       "  </tbody>\n",
       "</table>\n",
       "</div>"
      ],
      "text/plain": [
       "                      0         1         2\n",
       "precision_val  0.550588  0.535802  0.563514\n",
       "recall_val     0.572127  0.545912  0.529860\n",
       "f1_val         0.561151  0.540810  0.546169"
      ]
     },
     "execution_count": 34,
     "metadata": {
      "tags": []
     },
     "output_type": "execute_result"
    }
   ],
   "source": [
    "precision_val, recall_val, f1_val, acc = evaluate(model, val_tokenized)\n",
    "print_eval(precision_val, recall_val, f1_val, acc)"
   ]
  },
  {
   "cell_type": "markdown",
   "metadata": {
    "id": "YvzbbUjurM5K"
   },
   "source": [
    "### Experiment 2\n",
    "\n",
    "Adding regularization and another way of fine-tuning to reduce early over-fitting"
   ]
  },
  {
   "cell_type": "markdown",
   "metadata": {
    "id": "pijVcrN93b6r"
   },
   "source": [
    "##### Tokenize kaggle data"
   ]
  },
  {
   "cell_type": "code",
   "execution_count": null,
   "metadata": {
    "colab": {
     "base_uri": "https://localhost:8080/",
     "height": 215,
     "referenced_widgets": [
      "4fe0ba9f08db42bba7b16170b57bf802",
      "d43dfff4939349f98848d64be958ad88",
      "f50cf5acbff74b3dbb8b6b89176b87e0",
      "370d91a0e2284ad9a1679793d1ad7cf9",
      "3e3213e5d5c146718533b2d10d3cccec",
      "48fbfb5b1c3b4a2a99d1559d61cb36e4",
      "97bf74c6d45945139e38dfa737472114",
      "9b8aaff8e166463597407d45ae9d4ff2",
      "476f77f7031442e1bb5d7c205ff73009",
      "3c647c51afef4bc9b9ff371276e8b2af",
      "ff7fe2c9c6a145fea407ae401e23456c",
      "751a2bd3e83c49f8bfbffd3a030b58be",
      "1410c6e41ec04a5c853fa334b310fdc1",
      "15607f380c224e879f7ccc7fc434812a",
      "3b8c2c3201424388b7f73f356d6cdb20",
      "98ce1c8c3327407890053e7d15a09a14",
      "18ba57209fae459f9648a0d77806b3f3",
      "7deda6047f1c4d44a079aa1472fc5624",
      "369626b737a141029b5817cb2fcd5551",
      "85263eda10404787a0fc0f561ddc9f6a",
      "6b011b5f27d54e4fb732511350acfc79",
      "1fcf94d07430413a951199104cf2e118",
      "34efdf676d4d45a484fcf7e55e23b9d3",
      "ed3e454ab2214d5d811e4cbf897763e4",
      "e92fbde32d554eb7aa0ecb0ca6dcecdd",
      "775325926a924e05a61290a266809f82",
      "47c252a0d8504b51b603f0bcc8c9ff9e",
      "bc40f8442bb04d1495d67f8b7e524087",
      "7b51edc5f38c4131af2eec4c07952c3b",
      "9507941db66a495da20d2097f7c30a86",
      "b0a4f9ed800c407393e60b6b8cb6f44c",
      "a845c76645f441e38b9bbaad98fd46f5"
     ]
    },
    "id": "2nBGxGbb2HtW",
    "outputId": "44b496ad-d104-4e12-f7a7-22da230da306"
   },
   "outputs": [
    {
     "data": {
      "application/vnd.jupyter.widget-view+json": {
       "model_id": "4fe0ba9f08db42bba7b16170b57bf802",
       "version_major": 2,
       "version_minor": 0
      },
      "text/plain": [
       "HBox(children=(FloatProgress(value=0.0, description='Downloading', max=995526.0, style=ProgressStyle(descripti…"
      ]
     },
     "metadata": {
      "tags": []
     },
     "output_type": "display_data"
    },
    {
     "name": "stdout",
     "output_type": "stream",
     "text": [
      "\n"
     ]
    },
    {
     "data": {
      "application/vnd.jupyter.widget-view+json": {
       "model_id": "476f77f7031442e1bb5d7c205ff73009",
       "version_major": 2,
       "version_minor": 0
      },
      "text/plain": [
       "HBox(children=(FloatProgress(value=0.0, description='Downloading', max=29.0, style=ProgressStyle(description_w…"
      ]
     },
     "metadata": {
      "tags": []
     },
     "output_type": "display_data"
    },
    {
     "name": "stdout",
     "output_type": "stream",
     "text": [
      "\n"
     ]
    },
    {
     "data": {
      "application/vnd.jupyter.widget-view+json": {
       "model_id": "18ba57209fae459f9648a0d77806b3f3",
       "version_major": 2,
       "version_minor": 0
      },
      "text/plain": [
       "HBox(children=(FloatProgress(value=0.0, description='Downloading', max=1961828.0, style=ProgressStyle(descript…"
      ]
     },
     "metadata": {
      "tags": []
     },
     "output_type": "display_data"
    },
    {
     "name": "stdout",
     "output_type": "stream",
     "text": [
      "\n"
     ]
    },
    {
     "data": {
      "application/vnd.jupyter.widget-view+json": {
       "model_id": "e92fbde32d554eb7aa0ecb0ca6dcecdd",
       "version_major": 2,
       "version_minor": 0
      },
      "text/plain": [
       "HBox(children=(FloatProgress(value=0.0, description='Downloading', max=625.0, style=ProgressStyle(description_…"
      ]
     },
     "metadata": {
      "tags": []
     },
     "output_type": "display_data"
    },
    {
     "name": "stdout",
     "output_type": "stream",
     "text": [
      "\n"
     ]
    }
   ],
   "source": [
    "#same model as experiment 1\n",
    "model_name = 'bert-base-multilingual-cased'\n",
    "tokenizer = BertTokenizer.from_pretrained(model_name)\n",
    "\n",
    "train_kaggle = train_kaggle_df.to_numpy()\n",
    "val_kaggle = val_kaggle_df.to_numpy()\n",
    "\n",
    "train_tokenized = prepare_data(train_kaggle, tokenizer)\n",
    "val_tokenized = prepare_data(val_kaggle, tokenizer)"
   ]
  },
  {
   "cell_type": "markdown",
   "metadata": {
    "id": "9fFJarvY3YSH"
   },
   "source": [
    "##### Build model and train"
   ]
  },
  {
   "cell_type": "code",
   "execution_count": null,
   "metadata": {
    "colab": {
     "base_uri": "https://localhost:8080/",
     "height": 594
    },
    "id": "XbtVsU4o3Sfn",
    "outputId": "8f7be578-cdd3-4d0d-8005-b35ad6561b65"
   },
   "outputs": [
    {
     "name": "stderr",
     "output_type": "stream",
     "text": [
      "Some weights of the model checkpoint at bert-base-multilingual-cased were not used when initializing BertForSequenceClassification: ['cls.predictions.bias', 'cls.predictions.transform.LayerNorm.bias', 'cls.seq_relationship.bias', 'cls.seq_relationship.weight', 'cls.predictions.transform.dense.bias', 'cls.predictions.transform.LayerNorm.weight', 'cls.predictions.transform.dense.weight', 'cls.predictions.decoder.weight']\n",
      "- This IS expected if you are initializing BertForSequenceClassification from the checkpoint of a model trained on another task or with another architecture (e.g. initializing a BertForSequenceClassification model from a BertForPreTraining model).\n",
      "- This IS NOT expected if you are initializing BertForSequenceClassification from the checkpoint of a model that you expect to be exactly identical (initializing a BertForSequenceClassification model from a BertForSequenceClassification model).\n",
      "Some weights of BertForSequenceClassification were not initialized from the model checkpoint at bert-base-multilingual-cased and are newly initialized: ['classifier.weight', 'classifier.bias']\n",
      "You should probably TRAIN this model on a down-stream task to be able to use it for predictions and inference.\n"
     ]
    },
    {
     "name": "stdout",
     "output_type": "stream",
     "text": [
      "Epoch 0, loss_train=1.086916534328147\n",
      "Epoch 0, loss_eval=1.0564739076296488\n",
      "Epoch 1, loss_train=0.9980954308258859\n",
      "Epoch 1, loss_eval=1.0036153149604798\n",
      "Epoch 2, loss_train=0.9369672770170789\n",
      "Epoch 2, loss_eval=0.9936124753952026\n",
      "Epoch 3, loss_train=0.8910388634785226\n",
      "Epoch 3, loss_eval=0.9805555121103923\n",
      "Epoch 4, loss_train=0.8509259318050585\n",
      "Epoch 4, loss_eval=1.0000786622365316\n",
      "Finished Training\n"
     ]
    },
    {
     "data": {
      "image/png": "[encoded data removed]",
      "text/plain": [
       "<Figure size 432x288 with 1 Axes>"
      ]
     },
     "metadata": {
      "tags": []
     },
     "output_type": "display_data"
    }
   ],
   "source": [
    "#fine-tuning model using kaggle data\n",
    "\n",
    "#choose the best dropout for the model\n",
    "#dropout = 0.1\n",
    "#dropout = 0.4\n",
    "dropout = 0.8\n",
    "\n",
    "#create the model with adding to more fc layers and dropout\n",
    "model_ft = BERT_ft(model_name, dropout=dropout).cuda()\n",
    " \n",
    "n_epochs = 5\n",
    "lr=1e-4\n",
    "layers_to_freeze = 181 # freeze all but the last layer\n",
    "\n",
    "optimizer = AdamW(model_ft.parameters(), lr)\n",
    "\n",
    "trainBERT_ft(model_ft, optimizer, n_epochs, train_tokenized, val_tokenized, freeze=layers_to_freeze)"
   ]
  },
  {
   "cell_type": "markdown",
   "metadata": {
    "id": "efxkmvknuOQG"
   },
   "source": [
    "#####Evaluate model"
   ]
  },
  {
   "cell_type": "code",
   "execution_count": null,
   "metadata": {
    "colab": {
     "base_uri": "https://localhost:8080/",
     "height": 177
    },
    "id": "0_70JZW10tBO",
    "outputId": "fb9ef69a-a14e-4cfd-e9d0-7e06a3db51e8"
   },
   "outputs": [
    {
     "name": "stdout",
     "output_type": "stream",
     "text": [
      "********Results*********\n",
      "The model accuracy is 0.5704166666666667\n"
     ]
    },
    {
     "data": {
      "text/html": [
       "<div>\n",
       "<style scoped>\n",
       "    .dataframe tbody tr th:only-of-type {\n",
       "        vertical-align: middle;\n",
       "    }\n",
       "\n",
       "    .dataframe tbody tr th {\n",
       "        vertical-align: top;\n",
       "    }\n",
       "\n",
       "    .dataframe thead th {\n",
       "        text-align: right;\n",
       "    }\n",
       "</style>\n",
       "<table border=\"1\" class=\"dataframe\">\n",
       "  <thead>\n",
       "    <tr style=\"text-align: right;\">\n",
       "      <th></th>\n",
       "      <th>0</th>\n",
       "      <th>1</th>\n",
       "      <th>2</th>\n",
       "    </tr>\n",
       "  </thead>\n",
       "  <tbody>\n",
       "    <tr>\n",
       "      <th>precision_val</th>\n",
       "      <td>0.559211</td>\n",
       "      <td>0.567968</td>\n",
       "      <td>0.586577</td>\n",
       "    </tr>\n",
       "    <tr>\n",
       "      <th>recall_val</th>\n",
       "      <td>0.623472</td>\n",
       "      <td>0.530818</td>\n",
       "      <td>0.555273</td>\n",
       "    </tr>\n",
       "    <tr>\n",
       "      <th>f1_val</th>\n",
       "      <td>0.589595</td>\n",
       "      <td>0.548765</td>\n",
       "      <td>0.570496</td>\n",
       "    </tr>\n",
       "  </tbody>\n",
       "</table>\n",
       "</div>"
      ],
      "text/plain": [
       "                      0         1         2\n",
       "precision_val  0.559211  0.567968  0.586577\n",
       "recall_val     0.623472  0.530818  0.555273\n",
       "f1_val         0.589595  0.548765  0.570496"
      ]
     },
     "execution_count": 26,
     "metadata": {
      "tags": []
     },
     "output_type": "execute_result"
    }
   ],
   "source": [
    "precision_val, recall_val, f1_val, acc = evaluateBERT_ft(model_ft, val_tokenized)\n",
    "print_eval(precision_val, recall_val, f1_val, acc)"
   ]
  },
  {
   "cell_type": "markdown",
   "metadata": {
    "id": "OnMHMOOeD_yo"
   },
   "source": [
    "### Experiment 3 \n",
    "\n",
    "Adding more data to the training process"
   ]
  },
  {
   "cell_type": "markdown",
   "metadata": {
    "id": "Bip5c143aPT2"
   },
   "source": [
    "##### Prepare the data and tokenize \n"
   ]
  },
  {
   "cell_type": "code",
   "execution_count": 21,
   "metadata": {
    "colab": {
     "base_uri": "https://localhost:8080/",
     "height": 212,
     "referenced_widgets": [
      "0d39eabc843340069c0eebf4e731e0c0",
      "4676ada5944e4e4f98748fcfbf32c8e2",
      "c215223077184613a0c6d2ba6e8413ca",
      "45e96a36cdbb448bb4c2e6abe9e302cd",
      "8f1f81e9d60645bea6b5608b06de355f",
      "ce303260fb124306b2590bc2a937d6ce",
      "55a60a83c91e4411be8db5a5b27af547",
      "69711b96d65b494dabc5b4d2986db80e",
      "d5f7afbda84c47aa89f5ce6c90858f53",
      "ea6f8f55d20745e59616b35845f98c27",
      "320c5d51dbd84fb78bef5216e8bf1c8e",
      "11bed48a6c124714b1edaa80b5f55f9b",
      "f5b8bcaa31894762b20b02548c9b8da3",
      "39d442f426ee4b2eb573edf7370a4d88",
      "7479e5a441034f2c97a16ec6cd57d9f8",
      "8409029c9e134637a14b828342592cee",
      "c096d6b88d2a4230af857a62567379d2",
      "a587d0d63e444f73a1e90b898e25588b",
      "f017f90ed50c47bcb4825e6a08da6033",
      "ec9cb039d4e6434495cde0fc719f2ba5",
      "b9a285b888694264b72d69b6a07b8fb4",
      "41e1f0c0728d4bd6ba669d201dd15797",
      "6120f3b84c0a4a0398f2678336070188",
      "b22d60cb4b3f4fdba9c2bee991232cb1",
      "e294fd7628504ad0a8ec0497f50cca2f",
      "9fcda2ddc80941d9bebb8c6658e1593d",
      "22d54b5bbd79405a8718723978b0d197",
      "4f694c14fc974ce0a13a790113932202",
      "2019005e4301421e9d0f7e7720a5b94a",
      "aa313144ba444c39a6a75faf9869b0da",
      "32f144a071a24eb4bda4eebeacab12f6",
      "bd8b8e4e07ff41d29615bd1fa6874fd7"
     ]
    },
    "id": "D6p2-sXlK5oN",
    "outputId": "e4716809-9929-4fef-89b7-069cbf354858"
   },
   "outputs": [
    {
     "data": {
      "application/vnd.jupyter.widget-view+json": {
       "model_id": "0d39eabc843340069c0eebf4e731e0c0",
       "version_major": 2,
       "version_minor": 0
      },
      "text/plain": [
       "HBox(children=(FloatProgress(value=0.0, description='Downloading', max=995526.0, style=ProgressStyle(descripti…"
      ]
     },
     "metadata": {
      "tags": []
     },
     "output_type": "display_data"
    },
    {
     "name": "stdout",
     "output_type": "stream",
     "text": [
      "\n"
     ]
    },
    {
     "data": {
      "application/vnd.jupyter.widget-view+json": {
       "model_id": "d5f7afbda84c47aa89f5ce6c90858f53",
       "version_major": 2,
       "version_minor": 0
      },
      "text/plain": [
       "HBox(children=(FloatProgress(value=0.0, description='Downloading', max=29.0, style=ProgressStyle(description_w…"
      ]
     },
     "metadata": {
      "tags": []
     },
     "output_type": "display_data"
    },
    {
     "name": "stdout",
     "output_type": "stream",
     "text": [
      "\n"
     ]
    },
    {
     "data": {
      "application/vnd.jupyter.widget-view+json": {
       "model_id": "c096d6b88d2a4230af857a62567379d2",
       "version_major": 2,
       "version_minor": 0
      },
      "text/plain": [
       "HBox(children=(FloatProgress(value=0.0, description='Downloading', max=1961828.0, style=ProgressStyle(descript…"
      ]
     },
     "metadata": {
      "tags": []
     },
     "output_type": "display_data"
    },
    {
     "name": "stdout",
     "output_type": "stream",
     "text": [
      "\n"
     ]
    },
    {
     "data": {
      "application/vnd.jupyter.widget-view+json": {
       "model_id": "e294fd7628504ad0a8ec0497f50cca2f",
       "version_major": 2,
       "version_minor": 0
      },
      "text/plain": [
       "HBox(children=(FloatProgress(value=0.0, description='Downloading', max=625.0, style=ProgressStyle(description_…"
      ]
     },
     "metadata": {
      "tags": []
     },
     "output_type": "display_data"
    },
    {
     "name": "stdout",
     "output_type": "stream",
     "text": [
      "\n"
     ]
    }
   ],
   "source": [
    "#same model as experiment 1 and 2\n",
    "model_name = 'bert-base-multilingual-cased' \n",
    "tokenizer = BertTokenizer.from_pretrained(model_name)\n",
    "\n",
    "#used only mnli and xnli since snli didn't help to improve accuracy\n",
    "train_kaggle_mnli_xnli_numpy = train_kaggle_mnli_xnli.to_numpy()\n",
    "val_kaggle = val_kaggle_df.to_numpy()\n",
    "\n",
    "train_kaggle_mnli_xnli_tokenized = prepare_data(train_kaggle_mnli_xnli_numpy, tokenizer)\n",
    "val_kaggle_tokenized = prepare_data(val_kaggle, tokenizer)\n"
   ]
  },
  {
   "cell_type": "markdown",
   "metadata": {
    "id": "vEMBJFORaY36"
   },
   "source": [
    "##### Set model parameters and train"
   ]
  },
  {
   "cell_type": "code",
   "execution_count": 22,
   "metadata": {
    "colab": {
     "base_uri": "https://localhost:8080/",
     "height": 633,
     "referenced_widgets": [
      "d7dcb87d75a0411cb51ee63593167de4",
      "14db70a9dcd342278c465106b7d2b326",
      "5d8be6cbd79b43cfa3d251306ae5ca59",
      "76ccbf40b960410b995764e040041675",
      "167000583c564be4aa5dc85998922bb1",
      "8130625bb7564da2b16753e376e847c3",
      "9b0bf10642f74f8fa67a269b20bef84a",
      "7b952a0bc647428498a42d4fc1b304c8"
     ]
    },
    "id": "K8tTvTqALG3c",
    "outputId": "06127b38-a72c-4df6-a45f-1deff532474c"
   },
   "outputs": [
    {
     "data": {
      "application/vnd.jupyter.widget-view+json": {
       "model_id": "d7dcb87d75a0411cb51ee63593167de4",
       "version_major": 2,
       "version_minor": 0
      },
      "text/plain": [
       "HBox(children=(FloatProgress(value=0.0, description='Downloading', max=714314041.0, style=ProgressStyle(descri…"
      ]
     },
     "metadata": {
      "tags": []
     },
     "output_type": "display_data"
    },
    {
     "name": "stdout",
     "output_type": "stream",
     "text": [
      "\n"
     ]
    },
    {
     "name": "stderr",
     "output_type": "stream",
     "text": [
      "Some weights of the model checkpoint at bert-base-multilingual-cased were not used when initializing BertForSequenceClassification: ['cls.predictions.bias', 'cls.predictions.transform.LayerNorm.weight', 'cls.predictions.transform.dense.weight', 'cls.predictions.transform.dense.bias', 'cls.seq_relationship.weight', 'cls.predictions.decoder.weight', 'cls.predictions.transform.LayerNorm.bias', 'cls.seq_relationship.bias']\n",
      "- This IS expected if you are initializing BertForSequenceClassification from the checkpoint of a model trained on another task or with another architecture (e.g. initializing a BertForSequenceClassification model from a BertForPreTraining model).\n",
      "- This IS NOT expected if you are initializing BertForSequenceClassification from the checkpoint of a model that you expect to be exactly identical (initializing a BertForSequenceClassification model from a BertForSequenceClassification model).\n",
      "Some weights of BertForSequenceClassification were not initialized from the model checkpoint at bert-base-multilingual-cased and are newly initialized: ['classifier.bias', 'classifier.weight']\n",
      "You should probably TRAIN this model on a down-stream task to be able to use it for predictions and inference.\n"
     ]
    },
    {
     "name": "stdout",
     "output_type": "stream",
     "text": [
      "Epoch 0, loss_train=0.8339451954318388\n",
      "Epoch 0, loss_eval=0.8286500636736552\n",
      "Epoch 1, loss_train=0.7338591298923237\n",
      "Epoch 1, loss_eval=0.7986508671442668\n",
      "Epoch 2, loss_train=0.6913488080249157\n",
      "Epoch 2, loss_eval=0.7582783591747284\n",
      "Epoch 3, loss_train=0.6589221934654668\n",
      "Epoch 3, loss_eval=0.7511963812510173\n",
      "Epoch 4, loss_train=0.6324380861232609\n",
      "Epoch 4, loss_eval=0.7629752723375957\n",
      "Finished Training\n"
     ]
    },
    {
     "data": {
      "image/png": "[encoded data removed]",
      "text/plain": [
       "<Figure size 432x288 with 1 Axes>"
      ]
     },
     "metadata": {
      "needs_background": "light",
      "tags": []
     },
     "output_type": "display_data"
    }
   ],
   "source": [
    "model_ft = BERT_ft(model_name).to(device)\n",
    " \n",
    "n_epochs = 5\n",
    "lr=1e-5\n",
    "layers_to_freeze = 149 # freeze all but the 2 last layers\n",
    "\n",
    "optimizer = AdamW(model_ft.parameters(), lr)\n",
    "\n",
    "trainBERT_ft(model_ft, optimizer, n_epochs, train_kaggle_mnli_xnli_tokenized, val_kaggle_tokenized, freeze=layers_to_freeze)"
   ]
  },
  {
   "cell_type": "markdown",
   "metadata": {
    "id": "gjXCqDPIOrla"
   },
   "source": [
    "##### Evaluate model"
   ]
  },
  {
   "cell_type": "code",
   "execution_count": 23,
   "metadata": {
    "colab": {
     "base_uri": "https://localhost:8080/",
     "height": 175
    },
    "id": "dW7g43mwLS1D",
    "outputId": "4b1d840c-7326-4fba-ad83-76d835b0f810"
   },
   "outputs": [
    {
     "name": "stdout",
     "output_type": "stream",
     "text": [
      "********Results*********\n",
      "The model accuracy is 0.7133333333333334\n"
     ]
    },
    {
     "data": {
      "text/html": [
       "<div>\n",
       "<style scoped>\n",
       "    .dataframe tbody tr th:only-of-type {\n",
       "        vertical-align: middle;\n",
       "    }\n",
       "\n",
       "    .dataframe tbody tr th {\n",
       "        vertical-align: top;\n",
       "    }\n",
       "\n",
       "    .dataframe thead th {\n",
       "        text-align: right;\n",
       "    }\n",
       "</style>\n",
       "<table border=\"1\" class=\"dataframe\">\n",
       "  <thead>\n",
       "    <tr style=\"text-align: right;\">\n",
       "      <th></th>\n",
       "      <th>0</th>\n",
       "      <th>1</th>\n",
       "      <th>2</th>\n",
       "    </tr>\n",
       "  </thead>\n",
       "  <tbody>\n",
       "    <tr>\n",
       "      <th>precision_val</th>\n",
       "      <td>0.658342</td>\n",
       "      <td>0.705210</td>\n",
       "      <td>0.813725</td>\n",
       "    </tr>\n",
       "    <tr>\n",
       "      <th>recall_val</th>\n",
       "      <td>0.805623</td>\n",
       "      <td>0.698113</td>\n",
       "      <td>0.632783</td>\n",
       "    </tr>\n",
       "    <tr>\n",
       "      <th>f1_val</th>\n",
       "      <td>0.724574</td>\n",
       "      <td>0.701643</td>\n",
       "      <td>0.711937</td>\n",
       "    </tr>\n",
       "  </tbody>\n",
       "</table>\n",
       "</div>"
      ],
      "text/plain": [
       "                      0         1         2\n",
       "precision_val  0.658342  0.705210  0.813725\n",
       "recall_val     0.805623  0.698113  0.632783\n",
       "f1_val         0.724574  0.701643  0.711937"
      ]
     },
     "execution_count": 23,
     "metadata": {
      "tags": []
     },
     "output_type": "execute_result"
    }
   ],
   "source": [
    "precision_val, recall_val, f1_val, acc = evaluateBERT_ft(model_ft, val_kaggle_tokenized)\n",
    "print_eval(precision_val, recall_val, f1_val, acc)\n",
    "  \n"
   ]
  },
  {
   "cell_type": "code",
   "execution_count": null,
   "metadata": {
    "id": "GfTB-c8hkxFl"
   },
   "outputs": [],
   "source": [
    "\"\"\"\n",
    "model = BertForSequenceClassification.from_pretrained(model_name, num_labels = 3).to(device)\n",
    "\n",
    "n_epochs = 5\n",
    "lr=1e-4\n",
    "layers_to_freeze = 149 # freeze all but the 2 last layeres\n",
    "\n",
    "set_parameters(model.named_parameters(), 149)\n",
    "\n",
    "optimizer = torch.optim.Adam(model.parameters(), lr=0.00001, eps = 1e-8)\n",
    "\n",
    "train_loop(model, n_epochs, train_kaggle_mnli_xnli_tokenized, val_kaggle_tokenized)\n",
    "\"\"\""
   ]
  },
  {
   "cell_type": "markdown",
   "metadata": {
    "id": "twM14LPnLbDX"
   },
   "source": [
    "### Experiment 4\n",
    "\n",
    "Several different experiments that try to improve the model's performances"
   ]
  },
  {
   "cell_type": "markdown",
   "metadata": {
    "id": "vb1vIM_Am-Jz"
   },
   "source": [
    "#####Tokenize data"
   ]
  },
  {
   "cell_type": "code",
   "execution_count": null,
   "metadata": {
    "id": "oI3hxP2ULdye"
   },
   "outputs": [],
   "source": [
    "model_name = 'xlm-roberta-large'\n",
    "\n",
    "tokenizer = XLMRobertaTokenizer.from_pretrained(model_name)\n",
    "train = train_kaggle_mnli_xnli.to_numpy()\n",
    "val_kaggle = val_kaggle_df.to_numpy()\n",
    "val_kaggle = val_kaggle_english_df.to_numpy()\n",
    "train_tokenized = prepare_data(train, tokenizer)\n",
    "val_tokenized = prepare_data(val_kaggle, tokenizer)\n"
   ]
  },
  {
   "cell_type": "markdown",
   "metadata": {
    "id": "9ckxow1TnTGA"
   },
   "source": [
    "#####Experiment 4.1 - XLMroberta with maximum data"
   ]
  },
  {
   "cell_type": "code",
   "execution_count": null,
   "metadata": {
    "colab": {
     "base_uri": "https://localhost:8080/",
     "height": 559
    },
    "id": "ALwHnT7Oj1Pw",
    "outputId": "aebe1d53-123f-42ff-b707-37db70b46684"
   },
   "outputs": [
    {
     "name": "stderr",
     "output_type": "stream",
     "text": [
      "Some weights of the model checkpoint at xlm-roberta-large were not used when initializing XLMRobertaForSequenceClassification: ['lm_head.decoder.weight', 'lm_head.bias', 'roberta.pooler.dense.weight', 'lm_head.layer_norm.weight', 'lm_head.dense.weight', 'lm_head.dense.bias', 'lm_head.layer_norm.bias', 'roberta.pooler.dense.bias']\n",
      "- This IS expected if you are initializing XLMRobertaForSequenceClassification from the checkpoint of a model trained on another task or with another architecture (e.g. initializing a BertForSequenceClassification model from a BertForPreTraining model).\n",
      "- This IS NOT expected if you are initializing XLMRobertaForSequenceClassification from the checkpoint of a model that you expect to be exactly identical (initializing a BertForSequenceClassification model from a BertForSequenceClassification model).\n",
      "Some weights of XLMRobertaForSequenceClassification were not initialized from the model checkpoint at xlm-roberta-large and are newly initialized: ['classifier.dense.bias', 'classifier.out_proj.bias', 'classifier.dense.weight', 'classifier.out_proj.weight']\n",
      "You should probably TRAIN this model on a down-stream task to be able to use it for predictions and inference.\n"
     ]
    },
    {
     "name": "stdout",
     "output_type": "stream",
     "text": [
      "Epoch 0, loss_train=0.7003142671238537\n",
      "Epoch 0, loss_eval=0.6750284957885743\n",
      "Epoch 1, loss_train=0.5585444562163301\n",
      "Epoch 1, loss_eval=0.6610916650295258\n",
      "Epoch 2, loss_train=0.510702429998426\n",
      "Epoch 2, loss_eval=0.5821885528167089\n",
      "Epoch 3, loss_train=0.47807502301746835\n",
      "Epoch 3, loss_eval=0.6072693904240926\n",
      "Finished Training\n"
     ]
    },
    {
     "data": {
      "image/png": "[encoded data removed]",
      "text/plain": [
       "<Figure size 432x288 with 1 Axes>"
      ]
     },
     "metadata": {
      "tags": []
     },
     "output_type": "display_data"
    }
   ],
   "source": [
    "#find tune model using original data\n",
    "model_XLM = BERT_ft(model_name).cuda()\n",
    " \n",
    "n_epochs = 4\n",
    "lr=1e-4\n",
    "optimizer = AdamW(model_XLM.parameters(), lr)\n",
    "trainBERT_ft(model_XLM, optimizer, n_epochs, train_tokenized, val_tokenized,freeze=357)"
   ]
  },
  {
   "cell_type": "markdown",
   "metadata": {
    "id": "1scTaFR7nbbh"
   },
   "source": [
    "#####Evaluation Ex. 4.1"
   ]
  },
  {
   "cell_type": "code",
   "execution_count": null,
   "metadata": {
    "colab": {
     "base_uri": "https://localhost:8080/",
     "height": 177
    },
    "id": "76Yh1SZ3l0r-",
    "outputId": "deb90745-f6db-4715-d3a3-2e13c7b289fd"
   },
   "outputs": [
    {
     "name": "stdout",
     "output_type": "stream",
     "text": [
      "********Results*********\n",
      "The model accuracy is 0.825\n"
     ]
    },
    {
     "data": {
      "text/html": [
       "<div>\n",
       "<style scoped>\n",
       "    .dataframe tbody tr th:only-of-type {\n",
       "        vertical-align: middle;\n",
       "    }\n",
       "\n",
       "    .dataframe tbody tr th {\n",
       "        vertical-align: top;\n",
       "    }\n",
       "\n",
       "    .dataframe thead th {\n",
       "        text-align: right;\n",
       "    }\n",
       "</style>\n",
       "<table border=\"1\" class=\"dataframe\">\n",
       "  <thead>\n",
       "    <tr style=\"text-align: right;\">\n",
       "      <th></th>\n",
       "      <th>0</th>\n",
       "      <th>1</th>\n",
       "      <th>2</th>\n",
       "    </tr>\n",
       "  </thead>\n",
       "  <tbody>\n",
       "    <tr>\n",
       "      <th>precision_val</th>\n",
       "      <td>0.795806</td>\n",
       "      <td>0.844702</td>\n",
       "      <td>0.840994</td>\n",
       "    </tr>\n",
       "    <tr>\n",
       "      <th>recall_val</th>\n",
       "      <td>0.881418</td>\n",
       "      <td>0.732075</td>\n",
       "      <td>0.860229</td>\n",
       "    </tr>\n",
       "    <tr>\n",
       "      <th>f1_val</th>\n",
       "      <td>0.836427</td>\n",
       "      <td>0.784367</td>\n",
       "      <td>0.850503</td>\n",
       "    </tr>\n",
       "  </tbody>\n",
       "</table>\n",
       "</div>"
      ],
      "text/plain": [
       "                      0         1         2\n",
       "precision_val  0.795806  0.844702  0.840994\n",
       "recall_val     0.881418  0.732075  0.860229\n",
       "f1_val         0.836427  0.784367  0.850503"
      ]
     },
     "execution_count": 42,
     "metadata": {
      "tags": []
     },
     "output_type": "execute_result"
    }
   ],
   "source": [
    "precision_val, recall_val, f1_val, acc = evaluateBERT_ft(model_XLM, val_tokenized)\n",
    "print_eval(precision_val, recall_val, f1_val, acc)"
   ]
  },
  {
   "cell_type": "code",
   "execution_count": null,
   "metadata": {
    "id": "SgvExfOIlzmn"
   },
   "outputs": [],
   "source": [
    "save_model(model_XLM,4,'XLMrobertaFullData',0.001)"
   ]
  },
  {
   "cell_type": "markdown",
   "metadata": {
    "id": "UHdlXaBJojWs"
   },
   "source": [
    "#####Experiment 4.2 - using mean of hidden vectors"
   ]
  },
  {
   "cell_type": "code",
   "execution_count": null,
   "metadata": {
    "colab": {
     "base_uri": "https://localhost:8080/",
     "height": 559
    },
    "id": "ix3xaHoloSWA",
    "outputId": "1d00905e-f3c0-49e7-964e-9ebac60e3615"
   },
   "outputs": [
    {
     "name": "stderr",
     "output_type": "stream",
     "text": [
      "Some weights of the model checkpoint at xlm-roberta-large were not used when initializing XLMRobertaForSequenceClassification: ['lm_head.decoder.weight', 'lm_head.bias', 'roberta.pooler.dense.weight', 'lm_head.layer_norm.weight', 'lm_head.dense.weight', 'lm_head.dense.bias', 'lm_head.layer_norm.bias', 'roberta.pooler.dense.bias']\n",
      "- This IS expected if you are initializing XLMRobertaForSequenceClassification from the checkpoint of a model trained on another task or with another architecture (e.g. initializing a BertForSequenceClassification model from a BertForPreTraining model).\n",
      "- This IS NOT expected if you are initializing XLMRobertaForSequenceClassification from the checkpoint of a model that you expect to be exactly identical (initializing a BertForSequenceClassification model from a BertForSequenceClassification model).\n",
      "Some weights of XLMRobertaForSequenceClassification were not initialized from the model checkpoint at xlm-roberta-large and are newly initialized: ['classifier.dense.bias', 'classifier.out_proj.bias', 'classifier.dense.weight', 'classifier.out_proj.weight']\n",
      "You should probably TRAIN this model on a down-stream task to be able to use it for predictions and inference.\n"
     ]
    },
    {
     "name": "stdout",
     "output_type": "stream",
     "text": [
      "Epoch 0, loss_train=0.6736881561127326\n",
      "Epoch 0, loss_eval=0.671314288576444\n",
      "Epoch 1, loss_train=0.5565936640982144\n",
      "Epoch 1, loss_eval=0.6459895567099253\n",
      "Epoch 2, loss_train=0.5141546036703307\n",
      "Epoch 2, loss_eval=0.5985287541151046\n",
      "Epoch 3, loss_train=0.48726635106832067\n",
      "Epoch 3, loss_eval=0.5704005322853725\n",
      "Finished Training\n"
     ]
    },
    {
     "data": {
      "image/png": "[encoded data removed]",
      "text/plain": [
       "<Figure size 432x288 with 1 Axes>"
      ]
     },
     "metadata": {
      "tags": []
     },
     "output_type": "display_data"
    }
   ],
   "source": [
    "\n",
    "\n",
    "#find tune model using original data\n",
    "model_XLM_mean = BERT_ft(model_name, classifier_input='mean').cuda()\n",
    "n_epochs = 4\n",
    "lr=1e-4\n",
    "layers_to_freeze = 357 # freeze all but the last two layers\n",
    "optimizer = AdamW(model_XLM_mean.parameters(), lr)\n",
    "trainBERT_ft(model_XLM_mean, optimizer, n_epochs, train_tokenized, val_tokenized,freeze=layers_to_freeze)"
   ]
  },
  {
   "cell_type": "markdown",
   "metadata": {
    "id": "glybMB8apj_d"
   },
   "source": [
    "#####Evaluation Ex. 4.2"
   ]
  },
  {
   "cell_type": "code",
   "execution_count": null,
   "metadata": {
    "colab": {
     "base_uri": "https://localhost:8080/",
     "height": 177
    },
    "id": "7A7-LhfJoMDr",
    "outputId": "2b0b1d77-fa9b-48fd-c70a-ecf3aefb254b"
   },
   "outputs": [
    {
     "name": "stdout",
     "output_type": "stream",
     "text": [
      "********Results*********\n",
      "The model accuracy is 0.8145833333333333\n"
     ]
    },
    {
     "data": {
      "text/html": [
       "<div>\n",
       "<style scoped>\n",
       "    .dataframe tbody tr th:only-of-type {\n",
       "        vertical-align: middle;\n",
       "    }\n",
       "\n",
       "    .dataframe tbody tr th {\n",
       "        vertical-align: top;\n",
       "    }\n",
       "\n",
       "    .dataframe thead th {\n",
       "        text-align: right;\n",
       "    }\n",
       "</style>\n",
       "<table border=\"1\" class=\"dataframe\">\n",
       "  <thead>\n",
       "    <tr style=\"text-align: right;\">\n",
       "      <th></th>\n",
       "      <th>0</th>\n",
       "      <th>1</th>\n",
       "      <th>2</th>\n",
       "    </tr>\n",
       "  </thead>\n",
       "  <tbody>\n",
       "    <tr>\n",
       "      <th>precision_val</th>\n",
       "      <td>0.790929</td>\n",
       "      <td>0.829446</td>\n",
       "      <td>0.828395</td>\n",
       "    </tr>\n",
       "    <tr>\n",
       "      <th>recall_val</th>\n",
       "      <td>0.874083</td>\n",
       "      <td>0.715723</td>\n",
       "      <td>0.852605</td>\n",
       "    </tr>\n",
       "    <tr>\n",
       "      <th>f1_val</th>\n",
       "      <td>0.830430</td>\n",
       "      <td>0.768400</td>\n",
       "      <td>0.840326</td>\n",
       "    </tr>\n",
       "  </tbody>\n",
       "</table>\n",
       "</div>"
      ],
      "text/plain": [
       "                      0         1         2\n",
       "precision_val  0.790929  0.829446  0.828395\n",
       "recall_val     0.874083  0.715723  0.852605\n",
       "f1_val         0.830430  0.768400  0.840326"
      ]
     },
     "execution_count": 45,
     "metadata": {
      "tags": []
     },
     "output_type": "execute_result"
    }
   ],
   "source": [
    "precision_val, recall_val, f1_val, acc = evaluateBERT_ft(model_XLM_mean, val_tokenized)\n",
    "print_eval(precision_val, recall_val, f1_val, acc)"
   ]
  },
  {
   "cell_type": "code",
   "execution_count": null,
   "metadata": {
    "id": "xlxYBkM8jqfh"
   },
   "outputs": [],
   "source": [
    "save_model(model_XLM_mean,4,'XLMrobertaMean',0.001)"
   ]
  },
  {
   "cell_type": "markdown",
   "metadata": {
    "id": "OwQQ6-v0o36K"
   },
   "source": [
    "#####Experiment 4.3 - binary classifier for the worst 2 labels"
   ]
  },
  {
   "cell_type": "markdown",
   "metadata": {
    "id": "mOzGhm_2tP1R"
   },
   "source": [
    "######Creating binary data"
   ]
  },
  {
   "cell_type": "code",
   "execution_count": null,
   "metadata": {
    "id": "BGhR0bJypvde"
   },
   "outputs": [],
   "source": [
    "#create data for two labels\n",
    "model_name = 'xlm-roberta-large'\n",
    "\n",
    "tokenizer = XLMRobertaTokenizer.from_pretrained(model_name)\n",
    "train_binary_df = train_kaggle_mnli_xnli.copy()\n",
    "train_binary_df = train_binary_df[train_binary_df.label != 2]\n",
    "train_binary = train_binary_df.to_numpy()\n",
    "\n",
    "val_kaggle_binary_df = val_kaggle_df.copy()\n",
    "val_kaggle_binary_df = val_kaggle_binary_df[val_kaggle_binary_df.label != 2]\n",
    "val_kaggle_binary = val_kaggle_binary_df.to_numpy()\n",
    "\n",
    "train_binary_tokenized = prepare_data(train_binary, tokenizer)\n",
    "val_binary_tokenized = prepare_data(val_kaggle_binary, tokenizer)"
   ]
  },
  {
   "cell_type": "markdown",
   "metadata": {
    "id": "yhQ4Fpy8tVin"
   },
   "source": [
    "######training binary model"
   ]
  },
  {
   "cell_type": "code",
   "execution_count": null,
   "metadata": {
    "colab": {
     "base_uri": "https://localhost:8080/",
     "height": 608,
     "referenced_widgets": [
      "30c9abd6f19c4467b6eaed664d1fb3b2",
      "fcb4afc36c0d43e98fb2fca03fd16414",
      "2a78d880b51b4e91b676efc90265fa24",
      "6570b48c87784641b96949acdbdb754d",
      "d3a86882f7a8494bad7f8c0c29d81f4f",
      "d96facc353844ec69c485ba709f3f9a3",
      "87eb7035fec14d988e925e4cb1a4ff81",
      "00f61ddb67874115baddffafa471659e"
     ]
    },
    "id": "Do7wySWNp0QW",
    "outputId": "875aefea-53f4-4ab3-f2cb-95e6d724407a"
   },
   "outputs": [
    {
     "data": {
      "application/vnd.jupyter.widget-view+json": {
       "model_id": "30c9abd6f19c4467b6eaed664d1fb3b2",
       "version_major": 2,
       "version_minor": 0
      },
      "text/plain": [
       "HBox(children=(FloatProgress(value=0.0, description='Downloading', max=2244861551.0, style=ProgressStyle(descr…"
      ]
     },
     "metadata": {
      "tags": []
     },
     "output_type": "display_data"
    },
    {
     "name": "stdout",
     "output_type": "stream",
     "text": [
      "\n"
     ]
    },
    {
     "name": "stderr",
     "output_type": "stream",
     "text": [
      "Some weights of the model checkpoint at xlm-roberta-large were not used when initializing XLMRobertaForSequenceClassification: ['lm_head.dense.weight', 'lm_head.dense.bias', 'lm_head.layer_norm.weight', 'lm_head.decoder.weight', 'lm_head.layer_norm.bias', 'lm_head.bias', 'roberta.pooler.dense.bias', 'roberta.pooler.dense.weight']\n",
      "- This IS expected if you are initializing XLMRobertaForSequenceClassification from the checkpoint of a model trained on another task or with another architecture (e.g. initializing a BertForSequenceClassification model from a BertForPreTraining model).\n",
      "- This IS NOT expected if you are initializing XLMRobertaForSequenceClassification from the checkpoint of a model that you expect to be exactly identical (initializing a BertForSequenceClassification model from a BertForSequenceClassification model).\n",
      "Some weights of XLMRobertaForSequenceClassification were not initialized from the model checkpoint at xlm-roberta-large and are newly initialized: ['classifier.out_proj.weight', 'classifier.dense.weight', 'classifier.out_proj.bias', 'classifier.dense.bias']\n",
      "You should probably TRAIN this model on a down-stream task to be able to use it for predictions and inference.\n"
     ]
    },
    {
     "name": "stdout",
     "output_type": "stream",
     "text": [
      "Epoch 0, loss_train=0.44421590094530944\n",
      "Epoch 0, loss_eval=0.5497781914823195\n",
      "Epoch 1, loss_train=0.3678863286621679\n",
      "Epoch 1, loss_eval=0.47693705091289446\n",
      "Epoch 2, loss_train=0.3405213670674275\n",
      "Epoch 2, loss_eval=0.3917478436932844\n",
      "Epoch 3, loss_train=0.31886043513215057\n",
      "Epoch 3, loss_eval=0.4072446411146837\n",
      "Finished Training\n"
     ]
    },
    {
     "data": {
      "image/png": "[encoded data removed]",
      "text/plain": [
       "<Figure size 432x288 with 1 Axes>"
      ]
     },
     "metadata": {
      "tags": []
     },
     "output_type": "display_data"
    }
   ],
   "source": [
    "#train model for two labels\n",
    "model_XLM_binary = BERT_ft(model_name, num_labels=2).cuda()\n",
    "n_epochs = 4\n",
    "lr=1e-4\n",
    "layers_to_freeze = 357\n",
    "optimizer = AdamW(model_XLM_binary.parameters(), lr)\n",
    "trainBERT_ft(model_XLM_binary, optimizer, n_epochs, train_binary_tokenized, val_binary_tokenized,freeze=layers_to_freeze)"
   ]
  },
  {
   "cell_type": "markdown",
   "metadata": {
    "id": "bMMhKvRhtrxB"
   },
   "source": [
    "######Evaluating binary classifier"
   ]
  },
  {
   "cell_type": "code",
   "execution_count": null,
   "metadata": {
    "colab": {
     "base_uri": "https://localhost:8080/",
     "height": 302
    },
    "id": "_pS_ghhrf4L3",
    "outputId": "d4ec35f7-5a86-4dba-82cd-516d6bb383bd"
   },
   "outputs": [
    {
     "name": "stdout",
     "output_type": "stream",
     "text": [
      "********Results*********\n",
      "The model accuracy is 0.8648481091134532\n"
     ]
    },
    {
     "name": "stderr",
     "output_type": "stream",
     "text": [
      "/usr/local/lib/python3.7/dist-packages/sklearn/metrics/_classification.py:1272: UndefinedMetricWarning: Precision is ill-defined and being set to 0.0 due to no predicted samples. Use `zero_division` parameter to control this behavior.\n",
      "  _warn_prf(average, modifier, msg_start, len(result))\n",
      "/usr/local/lib/python3.7/dist-packages/sklearn/metrics/_classification.py:1272: UndefinedMetricWarning: Recall is ill-defined and being set to 0.0 due to no true samples. Use `zero_division` parameter to control this behavior.\n",
      "  _warn_prf(average, modifier, msg_start, len(result))\n",
      "/usr/local/lib/python3.7/dist-packages/sklearn/metrics/_classification.py:1515: UndefinedMetricWarning: F-score is ill-defined and being set to 0.0 due to no true nor predicted samples. Use `zero_division` parameter to control this behavior.\n",
      "  average, \"true nor predicted\", 'F-score is', len(true_sum)\n"
     ]
    },
    {
     "data": {
      "text/html": [
       "<div>\n",
       "<style scoped>\n",
       "    .dataframe tbody tr th:only-of-type {\n",
       "        vertical-align: middle;\n",
       "    }\n",
       "\n",
       "    .dataframe tbody tr th {\n",
       "        vertical-align: top;\n",
       "    }\n",
       "\n",
       "    .dataframe thead th {\n",
       "        text-align: right;\n",
       "    }\n",
       "</style>\n",
       "<table border=\"1\" class=\"dataframe\">\n",
       "  <thead>\n",
       "    <tr style=\"text-align: right;\">\n",
       "      <th></th>\n",
       "      <th>0</th>\n",
       "      <th>1</th>\n",
       "      <th>2</th>\n",
       "    </tr>\n",
       "  </thead>\n",
       "  <tbody>\n",
       "    <tr>\n",
       "      <th>precision_val</th>\n",
       "      <td>0.832594</td>\n",
       "      <td>0.905767</td>\n",
       "      <td>0.0</td>\n",
       "    </tr>\n",
       "    <tr>\n",
       "      <th>recall_val</th>\n",
       "      <td>0.918093</td>\n",
       "      <td>0.810063</td>\n",
       "      <td>0.0</td>\n",
       "    </tr>\n",
       "    <tr>\n",
       "      <th>f1_val</th>\n",
       "      <td>0.873256</td>\n",
       "      <td>0.855246</td>\n",
       "      <td>0.0</td>\n",
       "    </tr>\n",
       "  </tbody>\n",
       "</table>\n",
       "</div>"
      ],
      "text/plain": [
       "                      0         1    2\n",
       "precision_val  0.832594  0.905767  0.0\n",
       "recall_val     0.918093  0.810063  0.0\n",
       "f1_val         0.873256  0.855246  0.0"
      ]
     },
     "execution_count": 23,
     "metadata": {
      "tags": []
     },
     "output_type": "execute_result"
    }
   ],
   "source": [
    "#evaluating binary calssifier\n",
    "precision_val, recall_val, f1_val, acc = evaluateBERT_ft(model_XLM_binary, val_binary_tokenized)\n",
    "print_eval(precision_val, recall_val, f1_val, acc)"
   ]
  },
  {
   "cell_type": "code",
   "execution_count": null,
   "metadata": {
    "colab": {
     "base_uri": "https://localhost:8080/",
     "height": 175,
     "referenced_widgets": [
      "031ed9da48d246b8ba968bc883cf9efc",
      "bcd1df29e7184c5b8bd0f3ddc415751a",
      "2192e4caf6024a11b258755a4c474989",
      "7c07310d8ddb4b96bc59e3c75efdce9b",
      "ef76ae7913634a3a92f6136e00c6cd8a",
      "24c40d8b3ea74a1ca8df43870db31db5",
      "6eef796258ea40eebd3b6dc3144db94c",
      "07888905fe7f465385212ebfeccb6ab9"
     ]
    },
    "id": "3J_XkqD1gQlx",
    "outputId": "5f41f3ea-c0ce-41a8-bba6-85a1aa82f993"
   },
   "outputs": [
    {
     "data": {
      "application/vnd.jupyter.widget-view+json": {
       "model_id": "031ed9da48d246b8ba968bc883cf9efc",
       "version_major": 2,
       "version_minor": 0
      },
      "text/plain": [
       "HBox(children=(FloatProgress(value=0.0, description='Downloading', max=2244861551.0, style=ProgressStyle(descr…"
      ]
     },
     "metadata": {
      "tags": []
     },
     "output_type": "display_data"
    },
    {
     "name": "stdout",
     "output_type": "stream",
     "text": [
      "\n"
     ]
    },
    {
     "name": "stderr",
     "output_type": "stream",
     "text": [
      "Some weights of the model checkpoint at xlm-roberta-large were not used when initializing XLMRobertaForSequenceClassification: ['lm_head.dense.weight', 'roberta.pooler.dense.weight', 'lm_head.layer_norm.weight', 'roberta.pooler.dense.bias', 'lm_head.dense.bias', 'lm_head.decoder.weight', 'lm_head.bias', 'lm_head.layer_norm.bias']\n",
      "- This IS expected if you are initializing XLMRobertaForSequenceClassification from the checkpoint of a model trained on another task or with another architecture (e.g. initializing a BertForSequenceClassification model from a BertForPreTraining model).\n",
      "- This IS NOT expected if you are initializing XLMRobertaForSequenceClassification from the checkpoint of a model that you expect to be exactly identical (initializing a BertForSequenceClassification model from a BertForSequenceClassification model).\n",
      "Some weights of XLMRobertaForSequenceClassification were not initialized from the model checkpoint at xlm-roberta-large and are newly initialized: ['classifier.out_proj.weight', 'classifier.dense.weight', 'classifier.dense.bias', 'classifier.out_proj.bias']\n",
      "You should probably TRAIN this model on a down-stream task to be able to use it for predictions and inference.\n"
     ]
    }
   ],
   "source": [
    "#load saved model\n",
    "lr=1e-4\n",
    "model_XLM = BERT_ft(model_name).cuda()\n",
    "optimizer = AdamW(model_XLM.parameters(), lr)\n",
    "PATH = '/content/drive/My Drive/Colab Notebooks/NLP final project/saved models/XLMrobertaFullDataE4.pt'\n",
    "load_model(model_XLM,optimizer,PATH,train=False)"
   ]
  },
  {
   "cell_type": "markdown",
   "metadata": {
    "id": "KJDY85KZt7di"
   },
   "source": [
    "#####Evaluation Ex. 4.3"
   ]
  },
  {
   "cell_type": "code",
   "execution_count": null,
   "metadata": {
    "id": "kQRh4pPJgNsE"
   },
   "outputs": [],
   "source": [
    "#evaluating using binary classifier\n",
    "def evaluateAdvance(model, test_sequences):\n",
    "  all_predictions = []\n",
    "  all_true_labels = []\n",
    " \n",
    "  precision_list = []\n",
    "  recall_list = []\n",
    "  f1_list = []\n",
    "\n",
    "  model.eval()\n",
    "  with torch.no_grad():\n",
    "      for data in test_sequences:\n",
    "          inputs = data['input_ids']\n",
    "          masks = data['attention_mask']\n",
    "          labels = data['labels']\n",
    "          \n",
    " \n",
    "          inputs = inputs.cuda()  # -- for GPU\n",
    "          masks = masks.cuda()  # -- for GPU\n",
    "          labels = labels.cuda()  # -- for GPU\n",
    " \n",
    "          outputs = model(inputs,masks)\n",
    "          \n",
    "          predicted = torch.max(outputs.data, 1)[1]\n",
    "\n",
    "          for i in range(predicted.shape[0]):\n",
    "            if predicted[i]!=2:\n",
    "              inputs = data['input_ids'][i,:].view(1,-1)\n",
    "              masks = data['attention_mask'][i,:].view(1,-1)\n",
    "              inputs = inputs.cuda()  # -- for GPU\n",
    "              masks = masks.cuda()  # -- for GPU\n",
    "              output = model_XLM_binary(inputs,masks)\n",
    "              predicted[i] = torch.max(output.data, 1)[1]\n",
    "         \n",
    "          prediction_batch = predicted.cpu().numpy()\n",
    "          true_label_batch = labels.cpu().numpy()\n",
    "          all_predictions.extend(prediction_batch)\n",
    "          all_true_labels.extend(true_label_batch)\n",
    " \n",
    "  #calc precision and recall for each class separately\n",
    "  for i in range(3):\n",
    "        \n",
    "    #precision\n",
    "    class_precision = precision_score(all_true_labels, all_predictions, labels=[i], average='weighted')\n",
    "    precision_list.append(class_precision)\n",
    " \n",
    "    #recall\n",
    "    class_recall = recall_score(all_true_labels, all_predictions, labels=[i], average='weighted')\n",
    "    recall_list.append(class_recall)\n",
    " \n",
    "    #f-1\n",
    "    class_f1 = f1_score(all_true_labels, all_predictions, labels=[i], average='weighted')\n",
    "    f1_list.append(class_f1)\n",
    "\n",
    "  #accuracy\n",
    "  accuracy = accuracy_score(all_true_labels, all_predictions)\n",
    " \n",
    "  return precision_list, recall_list, f1_list, accuracy"
   ]
  },
  {
   "cell_type": "code",
   "execution_count": null,
   "metadata": {
    "colab": {
     "base_uri": "https://localhost:8080/",
     "height": 177
    },
    "id": "jYbSIY2sgFo1",
    "outputId": "45c07913-69bb-4264-c3ec-a8e498e38bf7"
   },
   "outputs": [
    {
     "name": "stdout",
     "output_type": "stream",
     "text": [
      "********Results*********\n",
      "The model accuracy is 0.8204166666666667\n"
     ]
    },
    {
     "data": {
      "text/html": [
       "<div>\n",
       "<style scoped>\n",
       "    .dataframe tbody tr th:only-of-type {\n",
       "        vertical-align: middle;\n",
       "    }\n",
       "\n",
       "    .dataframe tbody tr th {\n",
       "        vertical-align: top;\n",
       "    }\n",
       "\n",
       "    .dataframe thead th {\n",
       "        text-align: right;\n",
       "    }\n",
       "</style>\n",
       "<table border=\"1\" class=\"dataframe\">\n",
       "  <thead>\n",
       "    <tr style=\"text-align: right;\">\n",
       "      <th></th>\n",
       "      <th>0</th>\n",
       "      <th>1</th>\n",
       "      <th>2</th>\n",
       "    </tr>\n",
       "  </thead>\n",
       "  <tbody>\n",
       "    <tr>\n",
       "      <th>precision_val</th>\n",
       "      <td>0.783784</td>\n",
       "      <td>0.846269</td>\n",
       "      <td>0.840994</td>\n",
       "    </tr>\n",
       "    <tr>\n",
       "      <th>recall_val</th>\n",
       "      <td>0.886308</td>\n",
       "      <td>0.713208</td>\n",
       "      <td>0.860229</td>\n",
       "    </tr>\n",
       "    <tr>\n",
       "      <th>f1_val</th>\n",
       "      <td>0.831899</td>\n",
       "      <td>0.774061</td>\n",
       "      <td>0.850503</td>\n",
       "    </tr>\n",
       "  </tbody>\n",
       "</table>\n",
       "</div>"
      ],
      "text/plain": [
       "                      0         1         2\n",
       "precision_val  0.783784  0.846269  0.840994\n",
       "recall_val     0.886308  0.713208  0.860229\n",
       "f1_val         0.831899  0.774061  0.850503"
      ]
     },
     "execution_count": 26,
     "metadata": {
      "tags": []
     },
     "output_type": "execute_result"
    }
   ],
   "source": [
    "precision_val, recall_val, f1_val, acc = evaluateAdvance(model_XLM, val_tokenized)\n",
    "print_eval(precision_val, recall_val, f1_val, acc)"
   ]
  },
  {
   "cell_type": "markdown",
   "metadata": {
    "id": "L8mNvNbsZmXD"
   },
   "source": [
    "#####Experiment 4.4 - Reduction to MaskedLM model"
   ]
  },
  {
   "cell_type": "markdown",
   "metadata": {
    "id": "KkfFYaXyRv2W"
   },
   "source": [
    "######Methods for Ex.4.4"
   ]
  },
  {
   "cell_type": "code",
   "execution_count": null,
   "metadata": {
    "id": "2xL6zn4dxDyr"
   },
   "outputs": [],
   "source": [
    "def prepare_data_Mask(data, tokenizer, batch_size=32):\n",
    "    data_sequences = []\n",
    "    batch_sequences = []\n",
    "    batch_labels = []\n",
    "    count=0\n",
    " \n",
    "    #iterate through all sentences in the data\n",
    "    for i in range (len(data)):\n",
    "        if (i+1)%(batch_size) == 0:\n",
    "            #iterate through the sentences in the batch\n",
    "            for j in range(batch_size):\n",
    "                batch_sequences.append(data[i-j][0])\n",
    "            \n",
    "            try:\n",
    "              tokenized_inputs = tokenizer(batch_sequences, padding=True, return_tensors=\"pt\") #create a tensor for the batch in \"tokenized\" format\n",
    "              \n",
    "              index_col = np.sum(tokenized_inputs['attention_mask'].numpy(),axis=1)-2\n",
    "              index_row=np.array(range(batch_size))\n",
    "              \n",
    "              tokenized_labels = tokenized_inputs['input_ids'].detach().clone() #create a tensor for the labels batch in \"tokenized\" format\n",
    "              tokenized_inputs['input_ids'][index_row,index_col] = 103              \n",
    "              tokenized_inputs.update({'labels':tokenized_labels}) #add labels to tokenized_inputs\n",
    "              #print(tokenized_inputs)\n",
    " \n",
    "              data_sequences.append(tokenized_inputs)\n",
    "            except:\n",
    "              print('problematic instance')\n",
    "            batch_sequences = []\n",
    "            batch_labels = []\n",
    " \n",
    "    return data_sequences\n",
    "\n",
    "\n",
    "def evaluate_Mask(model, data):\n",
    "  #evaluate the given model on a given data\n",
    "\n",
    "  #Parameters:\n",
    "  #    model :the model to evaluate\n",
    "  #    data :the data to evaluate on\n",
    "\n",
    "  #Returns:\n",
    "  #    precision_list :the precision of each label (0/1/2)  \n",
    "  #    recall_list :the recall of each label (0/1/2)   \n",
    "  #    f1_list :the f1 score of each label (0/1/2)  \n",
    "  #    accuracy :the accuracy of the model\n",
    "\n",
    "  all_predictions = []\n",
    "  all_true_labels = []\n",
    "\n",
    "  precision_list = []\n",
    "  recall_list = []\n",
    "  f1_list = []\n",
    "\n",
    "  model.eval()\n",
    "  \n",
    "  for batch in data:\n",
    "    batch = {k: v.to(device) for k, v in batch.items()}\n",
    "    with torch.no_grad():\n",
    "        input_ids = batch['input_ids'].to(device)\n",
    "        attention_mask = batch['attention_mask'].to(device)\n",
    "        labels = batch['labels'].to(device)\n",
    "        outputs = model(input_ids, attention_mask=attention_mask, labels=labels)\n",
    "    \n",
    "    logits = outputs.logits\n",
    "    \n",
    "    predictions = torch.argmax(logits, dim=-1)\n",
    "    index_col = np.sum(batch['attention_mask'].cpu().numpy(),axis=1)-2\n",
    "    index_row=np.array(range(batch['attention_mask'].cpu().shape[0]))\n",
    "    prediction_batch = predictions.cpu().numpy()[index_row,index_col]\n",
    "    #2765,  8699, 26917\n",
    "    prediction_batch[prediction_batch==2765] = 0\n",
    "    prediction_batch[prediction_batch==8699] = 1\n",
    "    prediction_batch[prediction_batch==26917] = 2\n",
    "    \n",
    "    true_label_batch = batch['labels'].cpu().numpy()[index_row,index_col]\n",
    "    true_label_batch[true_label_batch==2765] = 0\n",
    "    true_label_batch[true_label_batch==8699] = 1\n",
    "    true_label_batch[true_label_batch==26917] = 2\n",
    "    \n",
    "    #create one big lists of all batches of the predictions and the true labels\n",
    "    all_predictions.extend(prediction_batch)\n",
    "    all_true_labels.extend(true_label_batch)\n",
    "\n",
    "  #print(all_predictions)\n",
    "  #print(all_true_labels)\n",
    "\n",
    "  #calc precision and recall for each class separately\n",
    "  for i in range(3):\n",
    "        \n",
    "    #precision\n",
    "    class_precision = precision_score(all_true_labels, all_predictions, labels=[i], average='weighted')\n",
    "    precision_list.append(class_precision)\n",
    "\n",
    "    #recall\n",
    "    class_recall = recall_score(all_true_labels, all_predictions, labels=[i], average='weighted')\n",
    "    recall_list.append(class_recall)\n",
    "\n",
    "    #f-1\n",
    "    class_f1 = f1_score(all_true_labels, all_predictions, labels=[i], average='weighted')\n",
    "    f1_list.append(class_f1)\n",
    "\n",
    "  #accuracy\n",
    "  accuracy = accuracy_score(all_true_labels, all_predictions)\n",
    "\n",
    "  return precision_list, recall_list, f1_list, accuracy"
   ]
  },
  {
   "cell_type": "markdown",
   "metadata": {
    "id": "wK-38uFiSHUH"
   },
   "source": [
    "######Creating data suited for MaskedLM model"
   ]
  },
  {
   "cell_type": "code",
   "execution_count": null,
   "metadata": {
    "colab": {
     "base_uri": "https://localhost:8080/"
    },
    "id": "uxhLlebHUAyV",
    "outputId": "ad20cdcd-1408-4e18-8fa1-e03ac2c5c52e"
   },
   "outputs": [
    {
     "name": "stderr",
     "output_type": "stream",
     "text": [
      "/usr/local/lib/python3.7/dist-packages/ipykernel_launcher.py:11: SettingWithCopyWarning: \n",
      "A value is trying to be set on a copy of a slice from a DataFrame\n",
      "\n",
      "See the caveats in the documentation: https://pandas.pydata.org/pandas-docs/stable/user_guide/indexing.html#returning-a-view-versus-a-copy\n",
      "  # This is added back by InteractiveShellApp.init_path()\n",
      "/usr/local/lib/python3.7/dist-packages/ipykernel_launcher.py:12: SettingWithCopyWarning: \n",
      "A value is trying to be set on a copy of a slice from a DataFrame\n",
      "\n",
      "See the caveats in the documentation: https://pandas.pydata.org/pandas-docs/stable/user_guide/indexing.html#returning-a-view-versus-a-copy\n",
      "  if sys.path[0] == '':\n",
      "/usr/local/lib/python3.7/dist-packages/ipykernel_launcher.py:13: SettingWithCopyWarning: \n",
      "A value is trying to be set on a copy of a slice from a DataFrame\n",
      "\n",
      "See the caveats in the documentation: https://pandas.pydata.org/pandas-docs/stable/user_guide/indexing.html#returning-a-view-versus-a-copy\n",
      "  del sys.path[0]\n"
     ]
    }
   ],
   "source": [
    "#Using english data only for train (using mnli) and validation (using kaggle validation)\n",
    "train_df = train_mnli_df.copy()\n",
    "train_df['concat_sen'] = train_df['concat_sen'] + ' [SEP] The relation between the two sentnences is'\n",
    "train_df['concat_sen'][train_df['label']==0] = train_df['concat_sen']+' result' \n",
    "train_df['concat_sen'][train_df['label']==1] = train_df['concat_sen']+' neutral' \n",
    "train_df['concat_sen'][train_df['label']==2] = train_df['concat_sen']+' contradiction'\n",
    "train_Mask = train_df.to_numpy()\n",
    "\n",
    "val_df = val_kaggle_english_df.copy()\n",
    "val_df['concat_sen'] = val_df['concat_sen'] + ' [SEP] The relation between the two sentnences is'\n",
    "val_df['concat_sen'][val_df['label']==0] = val_df['concat_sen']+' result' \n",
    "val_df['concat_sen'][val_df['label']==1] = val_df['concat_sen']+' neutral' \n",
    "val_df['concat_sen'][val_df['label']==2] = val_df['concat_sen']+' contradiction'\n",
    "val_kaggle_Mask = val_df.to_numpy()\n"
   ]
  },
  {
   "cell_type": "code",
   "execution_count": null,
   "metadata": {
    "colab": {
     "base_uri": "https://localhost:8080/",
     "height": 215,
     "referenced_widgets": [
      "794f7442455c4380a979ae73e37af6f2",
      "aa7c294633bc4f30bb10b75408e653cc",
      "20cec1cd85d546a5b563be76128ceff1",
      "93cf4067122244debb2be6d836a79cbd",
      "ad82e651135a492cbd24335f207313f8",
      "72692981b76a42278bfd498f34f276b8",
      "fd83414a151b4f5fa85162bd6fc2fc33",
      "7d5ac96040e94ff5934c12b3c04b2b5c",
      "eeb04c6f89294f0ea47737191f9f02b4",
      "ff164ef7d0604e5d881c412e84ff2daf",
      "d45f322b89304449910350e5ef27cb26",
      "63ef3a94a17042d6a528f5c8cfe53f9c",
      "2569a6c1e26a46ebbdfd14ee32a8ea44",
      "c56c7b3869c44aa390fb1ed8a5a25a10",
      "201fef846a5045afad6308710f0660ea",
      "ade8b9850a364fe8aaf768e16928df45",
      "2fd9faafe59e4148a735c4e01a43c6c7",
      "b526dc8c3063440ea16bfd52c52caf41",
      "0010b01c551341d1bd21c13a0047b93f",
      "79f0c3903a8e41a99acf07a73e6e363c",
      "0b51ab7264044acca99b51cb493a2bc6",
      "6c0ca0d855f44f13a579802bbca236ba",
      "03b6d8ef3d094de88c3894f4a51cb326",
      "a433982322e84b4e9393544e34787e7d",
      "2f47786e14354c0786dd77f52e754f0a",
      "4e87b122c9894ebcabf94769f682da30",
      "7f98552bf1d74a9f80c86d6423fbb51e",
      "6a8c3135a3854e21a6f672aa03b6b33e",
      "eff8b3e56d074950866c69cd89b93bd4",
      "c9261ac7009c48d5b8a6e8c906a5cff0",
      "a3a89b75aae24afdad19833519cc42c9",
      "9682ee9cc14d465c923952f49d69d80b"
     ]
    },
    "id": "ot4D5R9wvItb",
    "outputId": "cad83fce-aa68-4ae7-8f5a-f2ade448a310"
   },
   "outputs": [
    {
     "data": {
      "application/vnd.jupyter.widget-view+json": {
       "model_id": "794f7442455c4380a979ae73e37af6f2",
       "version_major": 2,
       "version_minor": 0
      },
      "text/plain": [
       "HBox(children=(FloatProgress(value=0.0, description='Downloading', max=231508.0, style=ProgressStyle(descripti…"
      ]
     },
     "metadata": {
      "tags": []
     },
     "output_type": "display_data"
    },
    {
     "name": "stdout",
     "output_type": "stream",
     "text": [
      "\n"
     ]
    },
    {
     "data": {
      "application/vnd.jupyter.widget-view+json": {
       "model_id": "eeb04c6f89294f0ea47737191f9f02b4",
       "version_major": 2,
       "version_minor": 0
      },
      "text/plain": [
       "HBox(children=(FloatProgress(value=0.0, description='Downloading', max=28.0, style=ProgressStyle(description_w…"
      ]
     },
     "metadata": {
      "tags": []
     },
     "output_type": "display_data"
    },
    {
     "name": "stdout",
     "output_type": "stream",
     "text": [
      "\n"
     ]
    },
    {
     "data": {
      "application/vnd.jupyter.widget-view+json": {
       "model_id": "2fd9faafe59e4148a735c4e01a43c6c7",
       "version_major": 2,
       "version_minor": 0
      },
      "text/plain": [
       "HBox(children=(FloatProgress(value=0.0, description='Downloading', max=466062.0, style=ProgressStyle(descripti…"
      ]
     },
     "metadata": {
      "tags": []
     },
     "output_type": "display_data"
    },
    {
     "name": "stdout",
     "output_type": "stream",
     "text": [
      "\n"
     ]
    },
    {
     "data": {
      "application/vnd.jupyter.widget-view+json": {
       "model_id": "2f47786e14354c0786dd77f52e754f0a",
       "version_major": 2,
       "version_minor": 0
      },
      "text/plain": [
       "HBox(children=(FloatProgress(value=0.0, description='Downloading', max=570.0, style=ProgressStyle(description_…"
      ]
     },
     "metadata": {
      "tags": []
     },
     "output_type": "display_data"
    },
    {
     "name": "stdout",
     "output_type": "stream",
     "text": [
      "\n"
     ]
    }
   ],
   "source": [
    "#tokenize the data using the method prepare_data_Mask\n",
    "tokenizer = BertTokenizer.from_pretrained('bert-base-uncased')\n",
    "train_tokenized_Mask = prepare_data_Mask(train_Mask, tokenizer)\n",
    "val_tokenized_Mask = prepare_data_Mask(val_kaggle_Mask, tokenizer)"
   ]
  },
  {
   "cell_type": "markdown",
   "metadata": {
    "id": "FJVXtMN0SQqt"
   },
   "source": [
    "######Training MaskedLM model"
   ]
  },
  {
   "cell_type": "code",
   "execution_count": null,
   "metadata": {
    "colab": {
     "base_uri": "https://localhost:8080/"
    },
    "id": "pWiOLbC4Jtdh",
    "outputId": "9571582e-4ca3-4b15-9b29-3bc13e177d7d"
   },
   "outputs": [
    {
     "name": "stderr",
     "output_type": "stream",
     "text": [
      "Some weights of the model checkpoint at bert-base-uncased were not used when initializing BertForMaskedLM: ['cls.seq_relationship.weight', 'cls.seq_relationship.bias']\n",
      "- This IS expected if you are initializing BertForMaskedLM from the checkpoint of a model trained on another task or with another architecture (e.g. initializing a BertForSequenceClassification model from a BertForPreTraining model).\n",
      "- This IS NOT expected if you are initializing BertForMaskedLM from the checkpoint of a model that you expect to be exactly identical (initializing a BertForSequenceClassification model from a BertForSequenceClassification model).\n"
     ]
    }
   ],
   "source": [
    "model_Mask = BertForMaskedLM.from_pretrained('bert-base-uncased').to(device)\n",
    "set_parameters(model_Mask.named_parameters(), 165)\n",
    "optimizer = AdamW(model_Mask.parameters(), lr=0.0001)\n",
    "num_epochs = 4"
   ]
  },
  {
   "cell_type": "code",
   "execution_count": null,
   "metadata": {
    "colab": {
     "base_uri": "https://localhost:8080/",
     "height": 436
    },
    "id": "DYtEDSAbJQzx",
    "outputId": "dc07796c-07e5-4f83-f892-d4269fd2cb97"
   },
   "outputs": [
    {
     "name": "stdout",
     "output_type": "stream",
     "text": [
      "----------Epoch 0, train loss=0.10912122501354236---------\n",
      "----------Epoch 0, val loss=0.01673951471845309---------\n",
      "----------Epoch 1, train loss=0.011121450431651596---------\n",
      "----------Epoch 1, val loss=0.011936784212787946---------\n",
      "----------Epoch 2, train loss=0.008590381573964991---------\n",
      "----------Epoch 2, val loss=0.011403023327390353---------\n",
      "----------Epoch 3, train loss=0.007609461040160767---------\n",
      "----------Epoch 3, val loss=0.011067294242481391---------\n"
     ]
    },
    {
     "data": {
      "image/png": "[encoded data removed]",
      "text/plain": [
       "<Figure size 432x288 with 1 Axes>"
      ]
     },
     "metadata": {
      "needs_background": "light",
      "tags": []
     },
     "output_type": "display_data"
    }
   ],
   "source": [
    "train_loop(model_Mask, num_epochs, train_tokenized_Mask, val_tokenized_Mask) #train the model"
   ]
  },
  {
   "cell_type": "markdown",
   "metadata": {
    "id": "4_b13RjoSY3H"
   },
   "source": [
    "######Evalutaing MaskedLM model"
   ]
  },
  {
   "cell_type": "code",
   "execution_count": null,
   "metadata": {
    "colab": {
     "base_uri": "https://localhost:8080/",
     "height": 178
    },
    "id": "cQ_KusQKLloc",
    "outputId": "a120862a-a1cc-4d30-b08e-0decf3346bb6"
   },
   "outputs": [
    {
     "name": "stdout",
     "output_type": "stream",
     "text": [
      "********Results*********\n",
      "The model accuracy is 0.7683333333333333\n"
     ]
    },
    {
     "data": {
      "text/html": [
       "<div>\n",
       "<style scoped>\n",
       "    .dataframe tbody tr th:only-of-type {\n",
       "        vertical-align: middle;\n",
       "    }\n",
       "\n",
       "    .dataframe tbody tr th {\n",
       "        vertical-align: top;\n",
       "    }\n",
       "\n",
       "    .dataframe thead th {\n",
       "        text-align: right;\n",
       "    }\n",
       "</style>\n",
       "<table border=\"1\" class=\"dataframe\">\n",
       "  <thead>\n",
       "    <tr style=\"text-align: right;\">\n",
       "      <th></th>\n",
       "      <th>0</th>\n",
       "      <th>1</th>\n",
       "      <th>2</th>\n",
       "    </tr>\n",
       "  </thead>\n",
       "  <tbody>\n",
       "    <tr>\n",
       "      <th>precision_val</th>\n",
       "      <td>0.798802</td>\n",
       "      <td>0.706918</td>\n",
       "      <td>0.798701</td>\n",
       "    </tr>\n",
       "    <tr>\n",
       "      <th>recall_val</th>\n",
       "      <td>0.797847</td>\n",
       "      <td>0.731771</td>\n",
       "      <td>0.772613</td>\n",
       "    </tr>\n",
       "    <tr>\n",
       "      <th>f1_val</th>\n",
       "      <td>0.798324</td>\n",
       "      <td>0.719130</td>\n",
       "      <td>0.785441</td>\n",
       "    </tr>\n",
       "  </tbody>\n",
       "</table>\n",
       "</div>"
      ],
      "text/plain": [
       "                      0         1         2\n",
       "precision_val  0.798802  0.706918  0.798701\n",
       "recall_val     0.797847  0.731771  0.772613\n",
       "f1_val         0.798324  0.719130  0.785441"
      ]
     },
     "execution_count": 56,
     "metadata": {
      "tags": []
     },
     "output_type": "execute_result"
    }
   ],
   "source": [
    "precision_val, recall_val, f1_val, acc = evaluate_Mask(model_Mask, val_tokenized_Mask)\n",
    "print_eval(precision_val, recall_val, f1_val, acc)"
   ]
  },
  {
   "cell_type": "code",
   "execution_count": null,
   "metadata": {
    "id": "FSVblJlTMHJ9"
   },
   "outputs": [],
   "source": [
    "save_model(model_Mask,num_epochs,'MLMonMNLIbertBaseUncased',0.001)"
   ]
  },
  {
   "cell_type": "markdown",
   "metadata": {
    "id": "OkUd8Bo_SllI"
   },
   "source": [
    "#####Evaluation Ex. 4.4"
   ]
  },
  {
   "cell_type": "code",
   "execution_count": null,
   "metadata": {
    "colab": {
     "base_uri": "https://localhost:8080/",
     "height": 139,
     "referenced_widgets": [
      "6d6a649148ed449c92542debfe8bcae7",
      "2bbc7259e3bb4fb18d0c68044274b3d0",
      "d5a0448bae604b71b8b96b7c7523ac1c",
      "e9a6e4ff615a4580a305dfe21088c7f4",
      "bcdfb2ff1b9e48f59ec154a0953ef4de",
      "860215e14fd74789aeed3ab7833cd652",
      "70b9b543fe71402a85e43d47d1529c0f",
      "a1f6ac94a49e45a0b83b91b015a9d95a"
     ]
    },
    "id": "No8pgHF1vcme",
    "outputId": "d8d66706-23a7-44e6-e447-2b6705b2434f"
   },
   "outputs": [
    {
     "data": {
      "application/vnd.jupyter.widget-view+json": {
       "model_id": "6d6a649148ed449c92542debfe8bcae7",
       "version_major": 2,
       "version_minor": 0
      },
      "text/plain": [
       "HBox(children=(FloatProgress(value=0.0, description='Downloading', max=440473133.0, style=ProgressStyle(descri…"
      ]
     },
     "metadata": {
      "tags": []
     },
     "output_type": "display_data"
    },
    {
     "name": "stdout",
     "output_type": "stream",
     "text": [
      "\n"
     ]
    },
    {
     "name": "stderr",
     "output_type": "stream",
     "text": [
      "Some weights of the model checkpoint at bert-base-uncased were not used when initializing BertForMaskedLM: ['cls.seq_relationship.bias', 'cls.seq_relationship.weight']\n",
      "- This IS expected if you are initializing BertForMaskedLM from the checkpoint of a model trained on another task or with another architecture (e.g. initializing a BertForSequenceClassification model from a BertForPreTraining model).\n",
      "- This IS NOT expected if you are initializing BertForMaskedLM from the checkpoint of a model that you expect to be exactly identical (initializing a BertForSequenceClassification model from a BertForSequenceClassification model).\n"
     ]
    }
   ],
   "source": [
    "#load saved model\n",
    "lr=1e-4\n",
    "model_Mask = BertForMaskedLM.from_pretrained('bert-base-uncased').to(device)\n",
    "optimizer = AdamW(model_Mask.parameters(), lr)\n",
    "PATH = '/content/drive/My Drive/Colab Notebooks/NLP final project/saved models/MLMonMNLIbertBaseUncasedE4.pt'\n",
    "load_model(model_Mask,optimizer,PATH,train=False)"
   ]
  },
  {
   "cell_type": "code",
   "execution_count": null,
   "metadata": {
    "id": "VLnDtSy4do6z"
   },
   "outputs": [],
   "source": [
    "import torch.nn.functional as F\n",
    "#this method predicting the label using the standart evaluation method.\n",
    "#if the difference between the probability of the chosen label and the second best is small than the threshold -\n",
    "#then, we will predict this instance using model_MaskLM\n",
    "def evaluateBERT_Advance2(model, val_data,val_data_Mask, threshold):\n",
    "  #evaluate the given model on a given data with the class 'Bert_ft'  \n",
    "\n",
    "  #Parameters:\n",
    "  #    model :the model to evaluate\n",
    "  #    data :the data to evaluate on\n",
    "\n",
    "  #Returns:\n",
    "  #    precision_list :the precision of each label (0/1/2)  \n",
    "  #    recall_list :the recall of each label (0/1/2)   \n",
    "  #    f1_list :the f1 score of each label (0/1/2)  \n",
    "  #    accuracy :the accuracy of the model\n",
    " \n",
    "  all_predictions = []\n",
    "  all_true_labels = []\n",
    " \n",
    "  precision_list = []\n",
    "  recall_list = []\n",
    "  f1_list = []\n",
    "\n",
    "  model.eval()\n",
    "  with torch.no_grad():\n",
    "      count=0\n",
    "      count2 = 0\n",
    "      for i in range(len(val_data)):\n",
    "          inputs = val_data[i]['input_ids']\n",
    "          masks = val_data[i]['attention_mask']\n",
    "          labels = val_data[i]['labels']\n",
    "          \n",
    " \n",
    "          inputs = inputs.cuda()  # -- for GPU\n",
    "          masks = masks.cuda()  # -- for GPU\n",
    "          labels = labels.cuda()  # -- for GPU\n",
    "\n",
    "          inputs_Mask = val_data_Mask[i]['input_ids']\n",
    "          masks_Mask = val_data_Mask[i]['attention_mask']\n",
    "          labels_Mask = val_data_Mask[i]['labels']\n",
    "          \n",
    " \n",
    "          inputs_Mask = inputs_Mask.cuda()  # -- for GPU\n",
    "          masks_Mask = masks_Mask.cuda()  # -- for GPU\n",
    "          labels_Mask = labels_Mask.cuda()  # -- for GPU\n",
    "          \n",
    " \n",
    "          outputs = model(inputs,masks)\n",
    "          predicted = torch.max(outputs.data, 1)[1]\n",
    "\n",
    "          softM_outputs = F.softmax(outputs).cpu().numpy()\n",
    "          \n",
    "          for j in range(outputs.shape[0]):\n",
    "            max = np.argmax(softM_outputs[j]) \n",
    "            if abs(softM_outputs[j,max]-softM_outputs[j,(max+1)%3])<threshold or abs(softM_outputs[j,max]-softM_outputs[j,(max+2)%3])<threshold:\n",
    "              count+=1\n",
    "              if max==labels[j]:\n",
    "                count2+=1\n",
    "              \n",
    "              outputMask = model_Mask(inputs_Mask[j].view(1,-1), attention_mask=masks_Mask[j].view(1,-1), labels=labels_Mask[j].view(1,-1))\n",
    "              logits = outputMask.logits\n",
    "              predictions_Mask = torch.argmax(logits, dim=-1)\n",
    "              index = np.sum(masks_Mask[j].cpu().numpy())-2\n",
    "              prediction_label = predictions_Mask.cpu().numpy()[0,index]\n",
    "              #3672,  8699, 26917\n",
    "              if prediction_label==2765:\n",
    "                prediction_label = 0\n",
    "              elif prediction_label==8699:\n",
    "                prediction_label = 1\n",
    "              elif prediction_label==26917:\n",
    "                prediction_label = 2\n",
    "\n",
    "             \n",
    "              predicted[j] = prediction_label\n",
    "\n",
    "         \n",
    "          prediction_batch = predicted.cpu().numpy()\n",
    "          true_label_batch = labels.cpu().numpy()\n",
    "          all_predictions.extend(prediction_batch)\n",
    "          all_true_labels.extend(true_label_batch)\n",
    "  print('The number of instances with predictions close to the second best by ' + str(threshold) +': ' +str(count))\n",
    "  print('The prediction accuracy is: '+ str(count2/count))\n",
    "\n",
    "  #calc precision and recall for each class separately\n",
    "  for i in range(3):\n",
    "        \n",
    "    #precision\n",
    "    class_precision = precision_score(all_true_labels, all_predictions, labels=[i], average='weighted')\n",
    "    precision_list.append(class_precision)\n",
    " \n",
    "    #recall\n",
    "    class_recall = recall_score(all_true_labels, all_predictions, labels=[i], average='weighted')\n",
    "    recall_list.append(class_recall)\n",
    " \n",
    "    #f-1\n",
    "    class_f1 = f1_score(all_true_labels, all_predictions, labels=[i], average='weighted')\n",
    "    f1_list.append(class_f1)\n",
    "\n",
    "  #accuracy\n",
    "  accuracy = accuracy_score(all_true_labels, all_predictions)\n",
    " \n",
    "  return precision_list, recall_list, f1_list, accuracy"
   ]
  },
  {
   "cell_type": "code",
   "execution_count": null,
   "metadata": {
    "colab": {
     "base_uri": "https://localhost:8080/"
    },
    "id": "mGidnJWcZbv5",
    "outputId": "a9e22add-86d1-4e27-fda3-1f4ad76450e2"
   },
   "outputs": [
    {
     "name": "stdout",
     "output_type": "stream",
     "text": [
      "threshold = 0.01\n"
     ]
    },
    {
     "name": "stderr",
     "output_type": "stream",
     "text": [
      "/usr/local/lib/python3.7/dist-packages/ipykernel_launcher.py:49: UserWarning: Implicit dimension choice for softmax has been deprecated. Change the call to include dim=X as an argument.\n"
     ]
    },
    {
     "name": "stdout",
     "output_type": "stream",
     "text": [
      "The number of instances with predictions close to the second best by 0.01: 7\n",
      "The prediction accuracy is: 0.2857142857142857\n",
      "********Results*********\n",
      "The model accuracy is 0.8079166666666666\n",
      "*********************************************************************************************\n",
      "threshold = 0.05\n",
      "The number of instances with predictions close to the second best by 0.05: 32\n",
      "The prediction accuracy is: 0.34375\n",
      "********Results*********\n",
      "The model accuracy is 0.80625\n",
      "*********************************************************************************************\n",
      "threshold = 0.075\n",
      "The number of instances with predictions close to the second best by 0.075: 47\n",
      "The prediction accuracy is: 0.425531914893617\n",
      "********Results*********\n",
      "The model accuracy is 0.8058333333333333\n",
      "*********************************************************************************************\n",
      "threshold = 0.1\n",
      "The number of instances with predictions close to the second best by 0.1: 57\n",
      "The prediction accuracy is: 0.40350877192982454\n",
      "********Results*********\n",
      "The model accuracy is 0.80625\n",
      "*********************************************************************************************\n",
      "threshold = 0.2\n",
      "The number of instances with predictions close to the second best by 0.2: 114\n",
      "The prediction accuracy is: 0.43859649122807015\n",
      "********Results*********\n",
      "The model accuracy is 0.8033333333333333\n",
      "*********************************************************************************************\n"
     ]
    }
   ],
   "source": [
    "#prediction using different threshold values\n",
    "threshold = [0.01,0.05,0.075,0.1,0.2]\n",
    "for th in threshold:\n",
    "  print('threshold = ' + str(th))\n",
    "  precision_val, recall_val, f1_val, acc = evaluateBERT_Advance2(model_XLM, val_tokenized,val_tokenized_Mask,th)\n",
    "  print_eval(precision_val, recall_val, f1_val, acc)\n",
    "  print('*********************************************************************************************')"
   ]
  },
  {
   "cell_type": "code",
   "execution_count": null,
   "metadata": {
    "colab": {
     "base_uri": "https://localhost:8080/",
     "height": 178
    },
    "id": "1zEIEex4YDKV",
    "outputId": "0b7640c1-2fc5-45b7-a9fc-84b9cb42bc13"
   },
   "outputs": [
    {
     "name": "stdout",
     "output_type": "stream",
     "text": [
      "********Results*********\n",
      "The model accuracy is 0.8079166666666666\n"
     ]
    },
    {
     "data": {
      "text/html": [
       "<div>\n",
       "<style scoped>\n",
       "    .dataframe tbody tr th:only-of-type {\n",
       "        vertical-align: middle;\n",
       "    }\n",
       "\n",
       "    .dataframe tbody tr th {\n",
       "        vertical-align: top;\n",
       "    }\n",
       "\n",
       "    .dataframe thead th {\n",
       "        text-align: right;\n",
       "    }\n",
       "</style>\n",
       "<table border=\"1\" class=\"dataframe\">\n",
       "  <thead>\n",
       "    <tr style=\"text-align: right;\">\n",
       "      <th></th>\n",
       "      <th>0</th>\n",
       "      <th>1</th>\n",
       "      <th>2</th>\n",
       "    </tr>\n",
       "  </thead>\n",
       "  <tbody>\n",
       "    <tr>\n",
       "      <th>precision_val</th>\n",
       "      <td>0.787975</td>\n",
       "      <td>0.835182</td>\n",
       "      <td>0.809988</td>\n",
       "    </tr>\n",
       "    <tr>\n",
       "      <th>recall_val</th>\n",
       "      <td>0.893541</td>\n",
       "      <td>0.686198</td>\n",
       "      <td>0.835427</td>\n",
       "    </tr>\n",
       "    <tr>\n",
       "      <th>f1_val</th>\n",
       "      <td>0.837444</td>\n",
       "      <td>0.753395</td>\n",
       "      <td>0.822511</td>\n",
       "    </tr>\n",
       "  </tbody>\n",
       "</table>\n",
       "</div>"
      ],
      "text/plain": [
       "                      0         1         2\n",
       "precision_val  0.787975  0.835182  0.809988\n",
       "recall_val     0.893541  0.686198  0.835427\n",
       "f1_val         0.837444  0.753395  0.822511"
      ]
     },
     "execution_count": 31,
     "metadata": {
      "tags": []
     },
     "output_type": "execute_result"
    }
   ],
   "source": [
    "#comparing the results to the standart model_XLM from Ex. 4.1 - we can see that maskLM doesn't improve the results.\n",
    "precision_val, recall_val, f1_val, acc = evaluateBERT_ft(model_XLM, val_tokenized)\n",
    "print_eval(precision_val, recall_val, f1_val, acc)"
   ]
  },
  {
   "cell_type": "markdown",
   "metadata": {
    "id": "V0rM6Zy3nv9f"
   },
   "source": [
    "### Experiment 5 - best model acheived\n",
    "\n",
    "1. Divided kaggle data into english sentences and not english sentences\n",
    "2. used best pre-trained models - \"microsoft/deberta-v2-xlarge-mnli\" for english sentences and \"joeddav/xlm-roberta-large-xnli\" for not english sentences\n",
    "3. for english sentences - trained with mnli+xnli(english only)+kaggle (english only)\n",
    "4. For other languages sentences - didn't make any train since results gave 98% accuracy"
   ]
  },
  {
   "cell_type": "markdown",
   "metadata": {
    "id": "__SV0uqq8_yK"
   },
   "source": [
    "##### Split Kaggle train data into English and other languages"
   ]
  },
  {
   "cell_type": "code",
   "execution_count": 24,
   "metadata": {
    "id": "1ADzrwiQ9Eo6"
   },
   "outputs": [],
   "source": [
    "#load Kaggle data and split to English and other languages\n",
    "train_kaggle_df = pd.read_csv(\"https://raw.githubusercontent.com/orsho/NLI-kaggle-competition-/main/train.csv\")\n",
    "train_kaggle_english_df = train_kaggle_df[train_kaggle_df.language == 'English']\n",
    "val_kaggle_other_df = train_kaggle_df[train_kaggle_df.language != 'English'] #all other instances are validation (since we won't do any training)\n",
    "\n",
    "#convert data to the desired schema\n",
    "train_kaggle_english_df = train_kaggle_english_df.drop(columns=['id', 'lang_abv', 'language'])\n",
    "val_kaggle_other_df = val_kaggle_other_df.drop(columns=['id', 'lang_abv', 'language'])\n",
    "train_kaggle_english_df = organize_df(train_kaggle_english_df)\n",
    "val_kaggle_other_df = organize_df(val_kaggle_other_df)\n",
    "train_kaggle_english_df.sample(frac=1, random_state=12)\n",
    "\n",
    "#split english to train and val\n",
    "val_kaggle_english_df = train_kaggle_english_df[0:2400]\n",
    "train_kaggle_english_df = train_kaggle_english_df[2400:]"
   ]
  },
  {
   "cell_type": "markdown",
   "metadata": {
    "id": "KuOyidjGtsZJ"
   },
   "source": [
    "##### Extract from xnli dataset only english sentences"
   ]
  },
  {
   "cell_type": "code",
   "execution_count": 25,
   "metadata": {
    "colab": {
     "base_uri": "https://localhost:8080/"
    },
    "id": "SE357PBboiH5",
    "outputId": "89a41e7a-634f-4b7f-a0da-9d678a2b6e12"
   },
   "outputs": [
    {
     "name": "stdout",
     "output_type": "stream",
     "text": [
      "size of xnli data = 7500\n"
     ]
    }
   ],
   "source": [
    "train_xnli_english_df = pd.concat([df_dev, df_test1, df_test2], axis=0)\n",
    "train_xnli_english_df = train_xnli_english_df[train_xnli_english_df.language == 'en']\n",
    "print(\"size of xnli data = {}\".format(len(train_xnli_english_df)))\n",
    "\n",
    "# Unified english XNLI train dataset to desired dataframe schema\n",
    "train_xnli_english_df = organize_xnli_files(train_xnli_english_df)\n",
    "train_xnli_english_df.sample(frac=1, random_state=12)\n",
    "train_xnli_english_df = clean_data(train_xnli_english_df)"
   ]
  },
  {
   "cell_type": "markdown",
   "metadata": {
    "id": "Mb4htB4e9UJz"
   },
   "source": [
    "##### Concat english data"
   ]
  },
  {
   "cell_type": "code",
   "execution_count": 32,
   "metadata": {
    "colab": {
     "base_uri": "https://localhost:8080/",
     "height": 417
    },
    "id": "13d2ueLu9TkC",
    "outputId": "cea7221e-63c1-46fd-ab49-6e2d838f7732"
   },
   "outputs": [
    {
     "data": {
      "text/html": [
       "<div>\n",
       "<style scoped>\n",
       "    .dataframe tbody tr th:only-of-type {\n",
       "        vertical-align: middle;\n",
       "    }\n",
       "\n",
       "    .dataframe tbody tr th {\n",
       "        vertical-align: top;\n",
       "    }\n",
       "\n",
       "    .dataframe thead th {\n",
       "        text-align: right;\n",
       "    }\n",
       "</style>\n",
       "<table border=\"1\" class=\"dataframe\">\n",
       "  <thead>\n",
       "    <tr style=\"text-align: right;\">\n",
       "      <th></th>\n",
       "      <th>concat_sen</th>\n",
       "      <th>label</th>\n",
       "    </tr>\n",
       "  </thead>\n",
       "  <tbody>\n",
       "    <tr>\n",
       "      <th>10075</th>\n",
       "      <td>'Not entirely,' I snapped, harsher than intend...</td>\n",
       "      <td>0</td>\n",
       "    </tr>\n",
       "    <tr>\n",
       "      <th>7540</th>\n",
       "      <td>The museum is well laid out and the perfect si...</td>\n",
       "      <td>2</td>\n",
       "    </tr>\n",
       "    <tr>\n",
       "      <th>21613</th>\n",
       "      <td>I suppose that is after the fashion of your ki...</td>\n",
       "      <td>1</td>\n",
       "    </tr>\n",
       "    <tr>\n",
       "      <th>22494</th>\n",
       "      <td>Visitors can also see a 28-minute  virtual his...</td>\n",
       "      <td>0</td>\n",
       "    </tr>\n",
       "    <tr>\n",
       "      <th>12363</th>\n",
       "      <td>One can also find some definitions here and th...</td>\n",
       "      <td>1</td>\n",
       "    </tr>\n",
       "    <tr>\n",
       "      <th>...</th>\n",
       "      <td>...</td>\n",
       "      <td>...</td>\n",
       "    </tr>\n",
       "    <tr>\n",
       "      <th>10842</th>\n",
       "      <td>\"Give it to me.\" He handed it to her. [SEP] S...</td>\n",
       "      <td>1</td>\n",
       "    </tr>\n",
       "    <tr>\n",
       "      <th>20489</th>\n",
       "      <td>He told me what exactly he needed and that he ...</td>\n",
       "      <td>0</td>\n",
       "    </tr>\n",
       "    <tr>\n",
       "      <th>10120</th>\n",
       "      <td>New York Times columnist Bob Herbert asserts t...</td>\n",
       "      <td>1</td>\n",
       "    </tr>\n",
       "    <tr>\n",
       "      <th>22686</th>\n",
       "      <td>Mercury emissions contribute to mercury deposi...</td>\n",
       "      <td>1</td>\n",
       "    </tr>\n",
       "    <tr>\n",
       "      <th>11277</th>\n",
       "      <td>But her work on the bench affects the lives of...</td>\n",
       "      <td>1</td>\n",
       "    </tr>\n",
       "  </tbody>\n",
       "</table>\n",
       "<p>11970 rows × 2 columns</p>\n",
       "</div>"
      ],
      "text/plain": [
       "                                              concat_sen  label\n",
       "10075  'Not entirely,' I snapped, harsher than intend...      0\n",
       "7540   The museum is well laid out and the perfect si...      2\n",
       "21613  I suppose that is after the fashion of your ki...      1\n",
       "22494  Visitors can also see a 28-minute  virtual his...      0\n",
       "12363  One can also find some definitions here and th...      1\n",
       "...                                                  ...    ...\n",
       "10842   \"Give it to me.\" He handed it to her. [SEP] S...      1\n",
       "20489  He told me what exactly he needed and that he ...      0\n",
       "10120  New York Times columnist Bob Herbert asserts t...      1\n",
       "22686  Mercury emissions contribute to mercury deposi...      1\n",
       "11277  But her work on the bench affects the lives of...      1\n",
       "\n",
       "[11970 rows x 2 columns]"
      ]
     },
     "execution_count": 32,
     "metadata": {
      "tags": []
     },
     "output_type": "execute_result"
    }
   ],
   "source": [
    "all_train_english_df = pd.concat([train_kaggle_english_df, train_xnli_english_df], axis=0)\n",
    "all_train_english_df.sample(frac=1, random_state=12)"
   ]
  },
  {
   "cell_type": "markdown",
   "metadata": {
    "id": "IW6T-XQF9Y_f"
   },
   "source": [
    "##### Tokenize train and val data"
   ]
  },
  {
   "cell_type": "code",
   "execution_count": 33,
   "metadata": {
    "colab": {
     "base_uri": "https://localhost:8080/"
    },
    "id": "PJ_e9mcr9ZH8",
    "outputId": "782b5305-c080-4306-9088-66c654c41382"
   },
   "outputs": [
    {
     "name": "stderr",
     "output_type": "stream",
     "text": [
      "Special tokens have been added in the vocabulary, make sure the associated word embeddings are fine-tuned or trained.\n"
     ]
    }
   ],
   "source": [
    "#other models we tried\n",
    "\"\"\"\n",
    "model_name_english = 'roberta-large-mnli' #pre-trained on NLI english sentences\n",
    "model_name_english = 'sentence-transformers/nli-bert-base-max-pooling'\n",
    "model_name_other = 'joeddav/xlm-roberta-large-xnli'\n",
    "\"\"\"\n",
    "\n",
    "model_name_english = 'microsoft/deberta-v2-xlarge-mnli' #the chosen model for english sentences\n",
    "tokenizer_english = AutoTokenizer.from_pretrained(model_name_english)\n",
    "\n",
    "model_name_other = 'joeddav/xlm-roberta-large-xnli' #pre-trained on NLI multilingual sentences\n",
    "tokenizer_other = AutoTokenizer.from_pretrained(model_name_other)\n",
    "\n",
    "#convert to numpy\n",
    "all_train_english = all_train_english_df.to_numpy()\n",
    "val_kaggle_english = val_kaggle_english_df.to_numpy()\n",
    "val_kaggle_other = val_kaggle_other_df.to_numpy()\n",
    "\n",
    "#tokenize data\n",
    "all_train_english_tokenized = prepare_data(all_train_english, tokenizer_english, roberta_nli=True)\n",
    "val_kaggle_english_tokenized = prepare_data(val_kaggle_english, tokenizer_english, roberta_nli=True)\n",
    "val_kaggle_other_tokenized = prepare_data(val_kaggle_other, tokenizer_other, roberta_nli=True)\n"
   ]
  },
  {
   "cell_type": "markdown",
   "metadata": {
    "id": "AP1m4feUtfMN"
   },
   "source": [
    "##### Load test data"
   ]
  },
  {
   "cell_type": "code",
   "execution_count": 28,
   "metadata": {
    "colab": {
     "base_uri": "https://localhost:8080/",
     "height": 203
    },
    "id": "ShFtnnHqnwLc",
    "outputId": "fca1a107-dd67-4306-fb47-3a905ac619b2"
   },
   "outputs": [
    {
     "data": {
      "text/html": [
       "<div>\n",
       "<style scoped>\n",
       "    .dataframe tbody tr th:only-of-type {\n",
       "        vertical-align: middle;\n",
       "    }\n",
       "\n",
       "    .dataframe tbody tr th {\n",
       "        vertical-align: top;\n",
       "    }\n",
       "\n",
       "    .dataframe thead th {\n",
       "        text-align: right;\n",
       "    }\n",
       "</style>\n",
       "<table border=\"1\" class=\"dataframe\">\n",
       "  <thead>\n",
       "    <tr style=\"text-align: right;\">\n",
       "      <th></th>\n",
       "      <th>id</th>\n",
       "      <th>premise</th>\n",
       "      <th>hypothesis</th>\n",
       "      <th>lang_abv</th>\n",
       "      <th>language</th>\n",
       "    </tr>\n",
       "  </thead>\n",
       "  <tbody>\n",
       "    <tr>\n",
       "      <th>0</th>\n",
       "      <td>c6d58c3f69</td>\n",
       "      <td>بکس، کیسی، راہیل، یسعیاہ، کیلی، کیلی، اور کولم...</td>\n",
       "      <td>کیسی کے لئے کوئی یادگار نہیں ہوگا, کولمین ہائی...</td>\n",
       "      <td>ur</td>\n",
       "      <td>Urdu</td>\n",
       "    </tr>\n",
       "    <tr>\n",
       "      <th>1</th>\n",
       "      <td>cefcc82292</td>\n",
       "      <td>هذا هو ما تم نصحنا به.</td>\n",
       "      <td>عندما يتم إخبارهم بما يجب عليهم فعله ، فشلت ال...</td>\n",
       "      <td>ar</td>\n",
       "      <td>Arabic</td>\n",
       "    </tr>\n",
       "    <tr>\n",
       "      <th>2</th>\n",
       "      <td>e98005252c</td>\n",
       "      <td>et cela est en grande partie dû au fait que le...</td>\n",
       "      <td>Les mères se droguent.</td>\n",
       "      <td>fr</td>\n",
       "      <td>French</td>\n",
       "    </tr>\n",
       "    <tr>\n",
       "      <th>3</th>\n",
       "      <td>58518c10ba</td>\n",
       "      <td>与城市及其他公民及社区组织代表就IMA的艺术发展进行对话&amp;amp</td>\n",
       "      <td>IMA与其他组织合作，因为它们都依靠共享资金。</td>\n",
       "      <td>zh</td>\n",
       "      <td>Chinese</td>\n",
       "    </tr>\n",
       "    <tr>\n",
       "      <th>4</th>\n",
       "      <td>c32b0d16df</td>\n",
       "      <td>Она все еще была там.</td>\n",
       "      <td>Мы думали, что она ушла, однако, она осталась.</td>\n",
       "      <td>ru</td>\n",
       "      <td>Russian</td>\n",
       "    </tr>\n",
       "  </tbody>\n",
       "</table>\n",
       "</div>"
      ],
      "text/plain": [
       "           id  ... language\n",
       "0  c6d58c3f69  ...     Urdu\n",
       "1  cefcc82292  ...   Arabic\n",
       "2  e98005252c  ...   French\n",
       "3  58518c10ba  ...  Chinese\n",
       "4  c32b0d16df  ...  Russian\n",
       "\n",
       "[5 rows x 5 columns]"
      ]
     },
     "execution_count": 28,
     "metadata": {
      "tags": []
     },
     "output_type": "execute_result"
    }
   ],
   "source": [
    "test_df = pd.read_csv(\"https://raw.githubusercontent.com/orsho/NLI-kaggle-competition-/main/test.csv\")\n",
    "test_df.head()"
   ]
  },
  {
   "cell_type": "markdown",
   "metadata": {
    "id": "jWOOdNditiHW"
   },
   "source": [
    "##### Split test data into English and other languages"
   ]
  },
  {
   "cell_type": "code",
   "execution_count": 29,
   "metadata": {
    "id": "uKo-IX7In3Dq"
   },
   "outputs": [],
   "source": [
    "test_df['premise']= test_df['premise'].str.cat(test_df['hypothesis'], sep =\" [SEP] \")\n",
    "test_df = test_df.rename(columns = {'premise': 'concat_sen'}, inplace = False)\n",
    "\n",
    "test_kaggle_english_df = test_df[test_df.language == 'English']\n",
    "test_kaggle_other_df = test_df[test_df.language != 'English']\n",
    "\n",
    "#get test ids (we will use it for the submission)\n",
    "test_english_ids = test_kaggle_english_df.id\n",
    "test_other_ids = test_kaggle_other_df.id\n",
    "\n",
    "test_kaggle_english_df = test_kaggle_english_df.drop(columns=['id', 'hypothesis','lang_abv','language'])\n",
    "test_kaggle_other_df = test_kaggle_other_df.drop(columns=['id', 'hypothesis','lang_abv','language'])"
   ]
  },
  {
   "cell_type": "markdown",
   "metadata": {
    "id": "x7S_57kHuBrT"
   },
   "source": [
    "##### Tokenized the test data"
   ]
  },
  {
   "cell_type": "code",
   "execution_count": 30,
   "metadata": {
    "id": "FYdYPQ_An3Kl"
   },
   "outputs": [],
   "source": [
    "test_kaggle_english = test_kaggle_english_df.to_numpy()\n",
    "test_kaggle_other = test_kaggle_other_df.to_numpy()\n",
    "\n",
    "test_kaggle_english_tokenized = prepare_test_data(test_kaggle_english, tokenizer_english)\n",
    "test_kaggle_other_tokenized = prepare_test_data(test_kaggle_other, tokenizer_other)\n"
   ]
  },
  {
   "cell_type": "markdown",
   "metadata": {
    "id": "n52QJ8crb1kU"
   },
   "source": [
    "##### Predict English sentences"
   ]
  },
  {
   "cell_type": "code",
   "execution_count": 34,
   "metadata": {
    "colab": {
     "base_uri": "https://localhost:8080/",
     "height": 446
    },
    "id": "Y74GeSMRJCTD",
    "outputId": "5a9e020d-47cb-4b41-b347-406aae992708"
   },
   "outputs": [
    {
     "name": "stdout",
     "output_type": "stream",
     "text": [
      "Epoch 0, loss_train=0.3999527575969696\n",
      "Epoch 0, loss_eval=0.27244943459828697\n",
      "Epoch 1, loss_train=0.25719607750574747\n",
      "Epoch 1, loss_eval=0.27089018325010933\n",
      "Epoch 2, loss_train=0.24942447609702745\n",
      "Epoch 2, loss_eval=0.2562108318010966\n",
      "Epoch 3, loss_train=0.2512338841756185\n",
      "Epoch 3, loss_eval=0.2623297925790151\n",
      "Finished Training\n"
     ]
    },
    {
     "data": {
      "image/png": "[encoded data removed]",
      "text/plain": [
       "<Figure size 432x288 with 1 Axes>"
      ]
     },
     "metadata": {
      "needs_background": "light",
      "tags": []
     },
     "output_type": "display_data"
    }
   ],
   "source": [
    "model_english = BERT_ft(model_name_english).to(device)\n",
    " \n",
    "n_epochs = 4\n",
    "lr=1e-5\n",
    "layers_to_freeze = 0 # freeze all layers but the 2 fc layers we added\n",
    "\n",
    "optimizer = AdamW(model_english.parameters(), lr)\n",
    "trainBERT_ft(model_english, optimizer, n_epochs, all_train_english_tokenized, val_kaggle_english_tokenized, freeze=layers_to_freeze)\n",
    "\n",
    "predictions_english = predict_Bert_ft(model_english, test_kaggle_english_tokenized, roberta_nli=True) #predict for test english data\n"
   ]
  },
  {
   "cell_type": "markdown",
   "metadata": {
    "id": "XuTxaQhHvN10"
   },
   "source": [
    "##### Evaluation English"
   ]
  },
  {
   "cell_type": "code",
   "execution_count": 35,
   "metadata": {
    "colab": {
     "base_uri": "https://localhost:8080/",
     "height": 175
    },
    "id": "g4XWkonYKWZ1",
    "outputId": "ead1ceb1-b48f-4dc2-d79b-81357261b128"
   },
   "outputs": [
    {
     "name": "stdout",
     "output_type": "stream",
     "text": [
      "********Results*********\n",
      "The model accuracy is 0.9191666666666667\n"
     ]
    },
    {
     "data": {
      "text/html": [
       "<div>\n",
       "<style scoped>\n",
       "    .dataframe tbody tr th:only-of-type {\n",
       "        vertical-align: middle;\n",
       "    }\n",
       "\n",
       "    .dataframe tbody tr th {\n",
       "        vertical-align: top;\n",
       "    }\n",
       "\n",
       "    .dataframe thead th {\n",
       "        text-align: right;\n",
       "    }\n",
       "</style>\n",
       "<table border=\"1\" class=\"dataframe\">\n",
       "  <thead>\n",
       "    <tr style=\"text-align: right;\">\n",
       "      <th></th>\n",
       "      <th>0</th>\n",
       "      <th>1</th>\n",
       "      <th>2</th>\n",
       "    </tr>\n",
       "  </thead>\n",
       "  <tbody>\n",
       "    <tr>\n",
       "      <th>precision_val</th>\n",
       "      <td>0.943890</td>\n",
       "      <td>0.893617</td>\n",
       "      <td>0.918440</td>\n",
       "    </tr>\n",
       "    <tr>\n",
       "      <th>recall_val</th>\n",
       "      <td>0.951005</td>\n",
       "      <td>0.875000</td>\n",
       "      <td>0.929426</td>\n",
       "    </tr>\n",
       "    <tr>\n",
       "      <th>f1_val</th>\n",
       "      <td>0.947434</td>\n",
       "      <td>0.884211</td>\n",
       "      <td>0.923900</td>\n",
       "    </tr>\n",
       "  </tbody>\n",
       "</table>\n",
       "</div>"
      ],
      "text/plain": [
       "                      0         1         2\n",
       "precision_val  0.943890  0.893617  0.918440\n",
       "recall_val     0.951005  0.875000  0.929426\n",
       "f1_val         0.947434  0.884211  0.923900"
      ]
     },
     "execution_count": 35,
     "metadata": {
      "tags": []
     },
     "output_type": "execute_result"
    }
   ],
   "source": [
    "precision_val_english, recall_val_english, f1_val_english, acc_english = evaluateBERT_ft(model_english, val_kaggle_english_tokenized)\n",
    "print_eval(precision_val_english, recall_val_english, f1_val_english, acc_english)"
   ]
  },
  {
   "cell_type": "markdown",
   "metadata": {
    "id": "vjP8Xkl0uE4l"
   },
   "source": [
    "##### Predict other languages sentences"
   ]
  },
  {
   "cell_type": "code",
   "execution_count": 36,
   "metadata": {
    "colab": {
     "base_uri": "https://localhost:8080/",
     "height": 136,
     "referenced_widgets": [
      "c414a799387f4620a363dd05504b38d9",
      "af0b40c2865748479dea295b349a2a6b",
      "7422aeaefc6543be9a691950acd979cb",
      "b9a64a9efc834787b7037951c9e53f7f",
      "987d478c025041ed8bd98e87a1753ef3",
      "9595bcb8351a4cd7befeb78c8d014031",
      "4f1d9cee04ed4a1dbda236a78e56622c",
      "66c7b97965e14730856e6843662453f8"
     ]
    },
    "id": "1yZZztHeo67K",
    "outputId": "d60b7b57-1d1d-4c40-a25c-737d7e568eec"
   },
   "outputs": [
    {
     "data": {
      "application/vnd.jupyter.widget-view+json": {
       "model_id": "c414a799387f4620a363dd05504b38d9",
       "version_major": 2,
       "version_minor": 0
      },
      "text/plain": [
       "HBox(children=(FloatProgress(value=0.0, description='Downloading', max=2243942751.0, style=ProgressStyle(descr…"
      ]
     },
     "metadata": {
      "tags": []
     },
     "output_type": "display_data"
    },
    {
     "name": "stdout",
     "output_type": "stream",
     "text": [
      "\n"
     ]
    },
    {
     "name": "stderr",
     "output_type": "stream",
     "text": [
      "Some weights of the model checkpoint at joeddav/xlm-roberta-large-xnli were not used when initializing XLMRobertaForSequenceClassification: ['roberta.pooler.dense.bias', 'roberta.pooler.dense.weight']\n",
      "- This IS expected if you are initializing XLMRobertaForSequenceClassification from the checkpoint of a model trained on another task or with another architecture (e.g. initializing a BertForSequenceClassification model from a BertForPreTraining model).\n",
      "- This IS NOT expected if you are initializing XLMRobertaForSequenceClassification from the checkpoint of a model that you expect to be exactly identical (initializing a BertForSequenceClassification model from a BertForSequenceClassification model).\n"
     ]
    }
   ],
   "source": [
    "model_other = AutoModelForSequenceClassification.from_pretrained(model_name_other).to(device) #for \"joeddav/xlm-roberta-large-xnli\"\n",
    "\n",
    "#decided not to train the sentences which are not in English since we got great result (above 97.6%) without that training \n",
    "\"\"\" \n",
    "#set_parameters(model_other.named_parameters(), 341) # backprop of the only last 2 layer \n",
    "set_parameters(model_other.named_parameters(), 373) # backprop of the only last layer \n",
    "optimizer = torch.optim.Adam(model_other.parameters(), lr=0.0001, eps = 1e-8)\n",
    "train_loop(model_other, 5, train_all_tokenized, val_kaggle_tokenized) #train the model \n",
    "\"\"\"\n",
    "\n",
    "predictions_other = predict(model_other, test_kaggle_other_tokenized, roberta_nli=True) #predict for test other languages data"
   ]
  },
  {
   "cell_type": "markdown",
   "metadata": {
    "id": "wG9I5lsO8j9F"
   },
   "source": [
    "##### Evaluation other languages"
   ]
  },
  {
   "cell_type": "code",
   "execution_count": 37,
   "metadata": {
    "colab": {
     "base_uri": "https://localhost:8080/",
     "height": 175
    },
    "id": "it42cqy38kIw",
    "outputId": "03216a4f-1aff-445d-e0b2-30d93c0d3801"
   },
   "outputs": [
    {
     "name": "stdout",
     "output_type": "stream",
     "text": [
      "********Results*********\n",
      "The model accuracy is 0.9767619047619047\n"
     ]
    },
    {
     "data": {
      "text/html": [
       "<div>\n",
       "<style scoped>\n",
       "    .dataframe tbody tr th:only-of-type {\n",
       "        vertical-align: middle;\n",
       "    }\n",
       "\n",
       "    .dataframe tbody tr th {\n",
       "        vertical-align: top;\n",
       "    }\n",
       "\n",
       "    .dataframe thead th {\n",
       "        text-align: right;\n",
       "    }\n",
       "</style>\n",
       "<table border=\"1\" class=\"dataframe\">\n",
       "  <thead>\n",
       "    <tr style=\"text-align: right;\">\n",
       "      <th></th>\n",
       "      <th>0</th>\n",
       "      <th>1</th>\n",
       "      <th>2</th>\n",
       "    </tr>\n",
       "  </thead>\n",
       "  <tbody>\n",
       "    <tr>\n",
       "      <th>precision_val</th>\n",
       "      <td>0.992614</td>\n",
       "      <td>0.956324</td>\n",
       "      <td>0.981471</td>\n",
       "    </tr>\n",
       "    <tr>\n",
       "      <th>recall_val</th>\n",
       "      <td>0.977616</td>\n",
       "      <td>0.983664</td>\n",
       "      <td>0.969125</td>\n",
       "    </tr>\n",
       "    <tr>\n",
       "      <th>f1_val</th>\n",
       "      <td>0.985058</td>\n",
       "      <td>0.969802</td>\n",
       "      <td>0.975259</td>\n",
       "    </tr>\n",
       "  </tbody>\n",
       "</table>\n",
       "</div>"
      ],
      "text/plain": [
       "                      0         1         2\n",
       "precision_val  0.992614  0.956324  0.981471\n",
       "recall_val     0.977616  0.983664  0.969125\n",
       "f1_val         0.985058  0.969802  0.975259"
      ]
     },
     "execution_count": 37,
     "metadata": {
      "tags": []
     },
     "output_type": "execute_result"
    }
   ],
   "source": [
    "precision_val_other, recall_val_other, f1_val_other, acc_other = evaluate(model_other, val_kaggle_other_tokenized)\n",
    "print_eval(precision_val_other, recall_val_other, f1_val_other, acc_other)"
   ]
  },
  {
   "cell_type": "markdown",
   "metadata": {
    "id": "-lt50Kmpo4WX"
   },
   "source": [
    "##### Submission for Kaggle \n",
    "\n",
    "(got 94.28 accuracy on Kaggle - top 7% percentile)"
   ]
  },
  {
   "cell_type": "code",
   "execution_count": null,
   "metadata": {
    "colab": {
     "base_uri": "https://localhost:8080/",
     "height": 17
    },
    "id": "7yjxDSeOowvX",
    "outputId": "9b8dc046-b6b4-4555-ec26-c30a97319f36"
   },
   "outputs": [
    {
     "data": {
      "application/javascript": [
       "\n",
       "    async function download(id, filename, size) {\n",
       "      if (!google.colab.kernel.accessAllowed) {\n",
       "        return;\n",
       "      }\n",
       "      const div = document.createElement('div');\n",
       "      const label = document.createElement('label');\n",
       "      label.textContent = `Downloading \"${filename}\": `;\n",
       "      div.appendChild(label);\n",
       "      const progress = document.createElement('progress');\n",
       "      progress.max = size;\n",
       "      div.appendChild(progress);\n",
       "      document.body.appendChild(div);\n",
       "\n",
       "      const buffers = [];\n",
       "      let downloaded = 0;\n",
       "\n",
       "      const channel = await google.colab.kernel.comms.open(id);\n",
       "      // Send a message to notify the kernel that we're ready.\n",
       "      channel.send({})\n",
       "\n",
       "      for await (const message of channel.messages) {\n",
       "        // Send a message to notify the kernel that we're ready.\n",
       "        channel.send({})\n",
       "        if (message.buffers) {\n",
       "          for (const buffer of message.buffers) {\n",
       "            buffers.push(buffer);\n",
       "            downloaded += buffer.byteLength;\n",
       "            progress.value = downloaded;\n",
       "          }\n",
       "        }\n",
       "      }\n",
       "      const blob = new Blob(buffers, {type: 'application/binary'});\n",
       "      const a = document.createElement('a');\n",
       "      a.href = window.URL.createObjectURL(blob);\n",
       "      a.download = filename;\n",
       "      div.appendChild(a);\n",
       "      a.click();\n",
       "      div.remove();\n",
       "    }\n",
       "  "
      ],
      "text/plain": [
       "<IPython.core.display.Javascript object>"
      ]
     },
     "metadata": {
      "tags": []
     },
     "output_type": "display_data"
    },
    {
     "data": {
      "application/javascript": [
       "download(\"download_7631100b-76fb-4ad7-b0e6-5fc58196667d\", \"submission.csv\", 67549)"
      ],
      "text/plain": [
       "<IPython.core.display.Javascript object>"
      ]
     },
     "metadata": {
      "tags": []
     },
     "output_type": "display_data"
    }
   ],
   "source": [
    "all_predictions = np.concatenate((predictions_english, predictions_other), axis=0)\n",
    "\n",
    "all_ids = pd.concat([test_english_ids, test_other_ids], axis=0)\n",
    "submission = all_ids.copy().to_frame()\n",
    "\n",
    "\n",
    "submission['prediction'] = all_predictions\n",
    "submission.to_csv('submission.csv', index = False)\n",
    "from google.colab import files\n",
    "files.download(\"submission.csv\")"
   ]
  }
 ],
 "metadata": {
  "accelerator": "GPU",
  "colab": {
   "collapsed_sections": [],
   "machine_shape": "hm",
   "name": "NLP Project - NLI task using BERT",
   "provenance": [],
   "toc_visible": true
  },
  "kernelspec": {
   "display_name": "Python 3",
   "language": "python",
   "name": "python3"
  },
  "language_info": {
   "codemirror_mode": {
    "name": "ipython",
    "version": 3
   },
   "file_extension": ".py",
   "mimetype": "text/x-python",
   "name": "python",
   "nbconvert_exporter": "python",
   "pygments_lexer": "ipython3",
   "version": "3.8.3"
  },
  "widgets": {
   "application/vnd.jupyter.widget-state+json": {
    "0010b01c551341d1bd21c13a0047b93f": {
     "model_module": "@jupyter-widgets/controls",
     "model_name": "FloatProgressModel",
     "state": {
      "_dom_classes": [],
      "_model_module": "@jupyter-widgets/controls",
      "_model_module_version": "1.5.0",
      "_model_name": "FloatProgressModel",
      "_view_count": null,
      "_view_module": "@jupyter-widgets/controls",
      "_view_module_version": "1.5.0",
      "_view_name": "ProgressView",
      "bar_style": "success",
      "description": "Downloading: 100%",
      "description_tooltip": null,
      "layout": "IPY_MODEL_6c0ca0d855f44f13a579802bbca236ba",
      "max": 466062,
      "min": 0,
      "orientation": "horizontal",
      "style": "IPY_MODEL_0b51ab7264044acca99b51cb493a2bc6",
      "value": 466062
     }
    },
    "00f61ddb67874115baddffafa471659e": {
     "model_module": "@jupyter-widgets/controls",
     "model_name": "DescriptionStyleModel",
     "state": {
      "_model_module": "@jupyter-widgets/controls",
      "_model_module_version": "1.5.0",
      "_model_name": "DescriptionStyleModel",
      "_view_count": null,
      "_view_module": "@jupyter-widgets/base",
      "_view_module_version": "1.2.0",
      "_view_name": "StyleView",
      "description_width": ""
     }
    },
    "031ed9da48d246b8ba968bc883cf9efc": {
     "model_module": "@jupyter-widgets/controls",
     "model_name": "HBoxModel",
     "state": {
      "_dom_classes": [],
      "_model_module": "@jupyter-widgets/controls",
      "_model_module_version": "1.5.0",
      "_model_name": "HBoxModel",
      "_view_count": null,
      "_view_module": "@jupyter-widgets/controls",
      "_view_module_version": "1.5.0",
      "_view_name": "HBoxView",
      "box_style": "",
      "children": [
       "IPY_MODEL_2192e4caf6024a11b258755a4c474989",
       "IPY_MODEL_7c07310d8ddb4b96bc59e3c75efdce9b"
      ],
      "layout": "IPY_MODEL_bcd1df29e7184c5b8bd0f3ddc415751a"
     }
    },
    "03b6d8ef3d094de88c3894f4a51cb326": {
     "model_module": "@jupyter-widgets/controls",
     "model_name": "DescriptionStyleModel",
     "state": {
      "_model_module": "@jupyter-widgets/controls",
      "_model_module_version": "1.5.0",
      "_model_name": "DescriptionStyleModel",
      "_view_count": null,
      "_view_module": "@jupyter-widgets/base",
      "_view_module_version": "1.2.0",
      "_view_name": "StyleView",
      "description_width": ""
     }
    },
    "04197d2cd188412896a0b56f7485c468": {
     "model_module": "@jupyter-widgets/controls",
     "model_name": "FloatProgressModel",
     "state": {
      "_dom_classes": [],
      "_model_module": "@jupyter-widgets/controls",
      "_model_module_version": "1.5.0",
      "_model_name": "FloatProgressModel",
      "_view_count": null,
      "_view_module": "@jupyter-widgets/controls",
      "_view_module_version": "1.5.0",
      "_view_name": "ProgressView",
      "bar_style": "success",
      "description": "Downloading: 100%",
      "description_tooltip": null,
      "layout": "IPY_MODEL_4a9e457239b8462eb591fdc99683c55f",
      "max": 995526,
      "min": 0,
      "orientation": "horizontal",
      "style": "IPY_MODEL_8c8bbd08525d4ed7aa606b6e873f6b31",
      "value": 995526
     }
    },
    "07888905fe7f465385212ebfeccb6ab9": {
     "model_module": "@jupyter-widgets/base",
     "model_name": "LayoutModel",
     "state": {
      "_model_module": "@jupyter-widgets/base",
      "_model_module_version": "1.2.0",
      "_model_name": "LayoutModel",
      "_view_count": null,
      "_view_module": "@jupyter-widgets/base",
      "_view_module_version": "1.2.0",
      "_view_name": "LayoutView",
      "align_content": null,
      "align_items": null,
      "align_self": null,
      "border": null,
      "bottom": null,
      "display": null,
      "flex": null,
      "flex_flow": null,
      "grid_area": null,
      "grid_auto_columns": null,
      "grid_auto_flow": null,
      "grid_auto_rows": null,
      "grid_column": null,
      "grid_gap": null,
      "grid_row": null,
      "grid_template_areas": null,
      "grid_template_columns": null,
      "grid_template_rows": null,
      "height": null,
      "justify_content": null,
      "justify_items": null,
      "left": null,
      "margin": null,
      "max_height": null,
      "max_width": null,
      "min_height": null,
      "min_width": null,
      "object_fit": null,
      "object_position": null,
      "order": null,
      "overflow": null,
      "overflow_x": null,
      "overflow_y": null,
      "padding": null,
      "right": null,
      "top": null,
      "visibility": null,
      "width": null
     }
    },
    "0b51ab7264044acca99b51cb493a2bc6": {
     "model_module": "@jupyter-widgets/controls",
     "model_name": "ProgressStyleModel",
     "state": {
      "_model_module": "@jupyter-widgets/controls",
      "_model_module_version": "1.5.0",
      "_model_name": "ProgressStyleModel",
      "_view_count": null,
      "_view_module": "@jupyter-widgets/base",
      "_view_module_version": "1.2.0",
      "_view_name": "StyleView",
      "bar_color": null,
      "description_width": "initial"
     }
    },
    "0d39eabc843340069c0eebf4e731e0c0": {
     "model_module": "@jupyter-widgets/controls",
     "model_name": "HBoxModel",
     "state": {
      "_dom_classes": [],
      "_model_module": "@jupyter-widgets/controls",
      "_model_module_version": "1.5.0",
      "_model_name": "HBoxModel",
      "_view_count": null,
      "_view_module": "@jupyter-widgets/controls",
      "_view_module_version": "1.5.0",
      "_view_name": "HBoxView",
      "box_style": "",
      "children": [
       "IPY_MODEL_c215223077184613a0c6d2ba6e8413ca",
       "IPY_MODEL_45e96a36cdbb448bb4c2e6abe9e302cd"
      ],
      "layout": "IPY_MODEL_4676ada5944e4e4f98748fcfbf32c8e2"
     }
    },
    "0f28e2af437a44769805bb54d5c66229": {
     "model_module": "@jupyter-widgets/controls",
     "model_name": "HBoxModel",
     "state": {
      "_dom_classes": [],
      "_model_module": "@jupyter-widgets/controls",
      "_model_module_version": "1.5.0",
      "_model_name": "HBoxModel",
      "_view_count": null,
      "_view_module": "@jupyter-widgets/controls",
      "_view_module_version": "1.5.0",
      "_view_name": "HBoxView",
      "box_style": "",
      "children": [
       "IPY_MODEL_44f5e21e7bc24d0781d2c5b683b16fab",
       "IPY_MODEL_f9a1a9a5cc2c45e4884ec8e23790c871"
      ],
      "layout": "IPY_MODEL_6f55dbdf53a545aab0c9fbfd3759df5c"
     }
    },
    "11bed48a6c124714b1edaa80b5f55f9b": {
     "model_module": "@jupyter-widgets/controls",
     "model_name": "HTMLModel",
     "state": {
      "_dom_classes": [],
      "_model_module": "@jupyter-widgets/controls",
      "_model_module_version": "1.5.0",
      "_model_name": "HTMLModel",
      "_view_count": null,
      "_view_module": "@jupyter-widgets/controls",
      "_view_module_version": "1.5.0",
      "_view_name": "HTMLView",
      "description": "",
      "description_tooltip": null,
      "layout": "IPY_MODEL_8409029c9e134637a14b828342592cee",
      "placeholder": "​",
      "style": "IPY_MODEL_7479e5a441034f2c97a16ec6cd57d9f8",
      "value": " 29.0/29.0 [00:00&lt;00:00, 46.9B/s]"
     }
    },
    "1410c6e41ec04a5c853fa334b310fdc1": {
     "model_module": "@jupyter-widgets/base",
     "model_name": "LayoutModel",
     "state": {
      "_model_module": "@jupyter-widgets/base",
      "_model_module_version": "1.2.0",
      "_model_name": "LayoutModel",
      "_view_count": null,
      "_view_module": "@jupyter-widgets/base",
      "_view_module_version": "1.2.0",
      "_view_name": "LayoutView",
      "align_content": null,
      "align_items": null,
      "align_self": null,
      "border": null,
      "bottom": null,
      "display": null,
      "flex": null,
      "flex_flow": null,
      "grid_area": null,
      "grid_auto_columns": null,
      "grid_auto_flow": null,
      "grid_auto_rows": null,
      "grid_column": null,
      "grid_gap": null,
      "grid_row": null,
      "grid_template_areas": null,
      "grid_template_columns": null,
      "grid_template_rows": null,
      "height": null,
      "justify_content": null,
      "justify_items": null,
      "left": null,
      "margin": null,
      "max_height": null,
      "max_width": null,
      "min_height": null,
      "min_width": null,
      "object_fit": null,
      "object_position": null,
      "order": null,
      "overflow": null,
      "overflow_x": null,
      "overflow_y": null,
      "padding": null,
      "right": null,
      "top": null,
      "visibility": null,
      "width": null
     }
    },
    "14db70a9dcd342278c465106b7d2b326": {
     "model_module": "@jupyter-widgets/base",
     "model_name": "LayoutModel",
     "state": {
      "_model_module": "@jupyter-widgets/base",
      "_model_module_version": "1.2.0",
      "_model_name": "LayoutModel",
      "_view_count": null,
      "_view_module": "@jupyter-widgets/base",
      "_view_module_version": "1.2.0",
      "_view_name": "LayoutView",
      "align_content": null,
      "align_items": null,
      "align_self": null,
      "border": null,
      "bottom": null,
      "display": null,
      "flex": null,
      "flex_flow": null,
      "grid_area": null,
      "grid_auto_columns": null,
      "grid_auto_flow": null,
      "grid_auto_rows": null,
      "grid_column": null,
      "grid_gap": null,
      "grid_row": null,
      "grid_template_areas": null,
      "grid_template_columns": null,
      "grid_template_rows": null,
      "height": null,
      "justify_content": null,
      "justify_items": null,
      "left": null,
      "margin": null,
      "max_height": null,
      "max_width": null,
      "min_height": null,
      "min_width": null,
      "object_fit": null,
      "object_position": null,
      "order": null,
      "overflow": null,
      "overflow_x": null,
      "overflow_y": null,
      "padding": null,
      "right": null,
      "top": null,
      "visibility": null,
      "width": null
     }
    },
    "15607f380c224e879f7ccc7fc434812a": {
     "model_module": "@jupyter-widgets/controls",
     "model_name": "ProgressStyleModel",
     "state": {
      "_model_module": "@jupyter-widgets/controls",
      "_model_module_version": "1.5.0",
      "_model_name": "ProgressStyleModel",
      "_view_count": null,
      "_view_module": "@jupyter-widgets/base",
      "_view_module_version": "1.2.0",
      "_view_name": "StyleView",
      "bar_color": null,
      "description_width": "initial"
     }
    },
    "167000583c564be4aa5dc85998922bb1": {
     "model_module": "@jupyter-widgets/controls",
     "model_name": "ProgressStyleModel",
     "state": {
      "_model_module": "@jupyter-widgets/controls",
      "_model_module_version": "1.5.0",
      "_model_name": "ProgressStyleModel",
      "_view_count": null,
      "_view_module": "@jupyter-widgets/base",
      "_view_module_version": "1.2.0",
      "_view_name": "StyleView",
      "bar_color": null,
      "description_width": "initial"
     }
    },
    "18ba57209fae459f9648a0d77806b3f3": {
     "model_module": "@jupyter-widgets/controls",
     "model_name": "HBoxModel",
     "state": {
      "_dom_classes": [],
      "_model_module": "@jupyter-widgets/controls",
      "_model_module_version": "1.5.0",
      "_model_name": "HBoxModel",
      "_view_count": null,
      "_view_module": "@jupyter-widgets/controls",
      "_view_module_version": "1.5.0",
      "_view_name": "HBoxView",
      "box_style": "",
      "children": [
       "IPY_MODEL_7deda6047f1c4d44a079aa1472fc5624",
       "IPY_MODEL_369626b737a141029b5817cb2fcd5551"
      ],
      "layout": "IPY_MODEL_85263eda10404787a0fc0f561ddc9f6a"
     }
    },
    "1a6f3c9bab194c3c94a3c2286de77e38": {
     "model_module": "@jupyter-widgets/controls",
     "model_name": "DescriptionStyleModel",
     "state": {
      "_model_module": "@jupyter-widgets/controls",
      "_model_module_version": "1.5.0",
      "_model_name": "DescriptionStyleModel",
      "_view_count": null,
      "_view_module": "@jupyter-widgets/base",
      "_view_module_version": "1.2.0",
      "_view_name": "StyleView",
      "description_width": ""
     }
    },
    "1a9fd51babce4e8481c59db8a8035be8": {
     "model_module": "@jupyter-widgets/base",
     "model_name": "LayoutModel",
     "state": {
      "_model_module": "@jupyter-widgets/base",
      "_model_module_version": "1.2.0",
      "_model_name": "LayoutModel",
      "_view_count": null,
      "_view_module": "@jupyter-widgets/base",
      "_view_module_version": "1.2.0",
      "_view_name": "LayoutView",
      "align_content": null,
      "align_items": null,
      "align_self": null,
      "border": null,
      "bottom": null,
      "display": null,
      "flex": null,
      "flex_flow": null,
      "grid_area": null,
      "grid_auto_columns": null,
      "grid_auto_flow": null,
      "grid_auto_rows": null,
      "grid_column": null,
      "grid_gap": null,
      "grid_row": null,
      "grid_template_areas": null,
      "grid_template_columns": null,
      "grid_template_rows": null,
      "height": null,
      "justify_content": null,
      "justify_items": null,
      "left": null,
      "margin": null,
      "max_height": null,
      "max_width": null,
      "min_height": null,
      "min_width": null,
      "object_fit": null,
      "object_position": null,
      "order": null,
      "overflow": null,
      "overflow_x": null,
      "overflow_y": null,
      "padding": null,
      "right": null,
      "top": null,
      "visibility": null,
      "width": null
     }
    },
    "1fcf94d07430413a951199104cf2e118": {
     "model_module": "@jupyter-widgets/controls",
     "model_name": "ProgressStyleModel",
     "state": {
      "_model_module": "@jupyter-widgets/controls",
      "_model_module_version": "1.5.0",
      "_model_name": "ProgressStyleModel",
      "_view_count": null,
      "_view_module": "@jupyter-widgets/base",
      "_view_module_version": "1.2.0",
      "_view_name": "StyleView",
      "bar_color": null,
      "description_width": "initial"
     }
    },
    "2019005e4301421e9d0f7e7720a5b94a": {
     "model_module": "@jupyter-widgets/controls",
     "model_name": "ProgressStyleModel",
     "state": {
      "_model_module": "@jupyter-widgets/controls",
      "_model_module_version": "1.5.0",
      "_model_name": "ProgressStyleModel",
      "_view_count": null,
      "_view_module": "@jupyter-widgets/base",
      "_view_module_version": "1.2.0",
      "_view_name": "StyleView",
      "bar_color": null,
      "description_width": "initial"
     }
    },
    "201fef846a5045afad6308710f0660ea": {
     "model_module": "@jupyter-widgets/controls",
     "model_name": "DescriptionStyleModel",
     "state": {
      "_model_module": "@jupyter-widgets/controls",
      "_model_module_version": "1.5.0",
      "_model_name": "DescriptionStyleModel",
      "_view_count": null,
      "_view_module": "@jupyter-widgets/base",
      "_view_module_version": "1.2.0",
      "_view_name": "StyleView",
      "description_width": ""
     }
    },
    "20cec1cd85d546a5b563be76128ceff1": {
     "model_module": "@jupyter-widgets/controls",
     "model_name": "FloatProgressModel",
     "state": {
      "_dom_classes": [],
      "_model_module": "@jupyter-widgets/controls",
      "_model_module_version": "1.5.0",
      "_model_name": "FloatProgressModel",
      "_view_count": null,
      "_view_module": "@jupyter-widgets/controls",
      "_view_module_version": "1.5.0",
      "_view_name": "ProgressView",
      "bar_style": "success",
      "description": "Downloading: 100%",
      "description_tooltip": null,
      "layout": "IPY_MODEL_72692981b76a42278bfd498f34f276b8",
      "max": 231508,
      "min": 0,
      "orientation": "horizontal",
      "style": "IPY_MODEL_ad82e651135a492cbd24335f207313f8",
      "value": 231508
     }
    },
    "2192e4caf6024a11b258755a4c474989": {
     "model_module": "@jupyter-widgets/controls",
     "model_name": "FloatProgressModel",
     "state": {
      "_dom_classes": [],
      "_model_module": "@jupyter-widgets/controls",
      "_model_module_version": "1.5.0",
      "_model_name": "FloatProgressModel",
      "_view_count": null,
      "_view_module": "@jupyter-widgets/controls",
      "_view_module_version": "1.5.0",
      "_view_name": "ProgressView",
      "bar_style": "success",
      "description": "Downloading: 100%",
      "description_tooltip": null,
      "layout": "IPY_MODEL_24c40d8b3ea74a1ca8df43870db31db5",
      "max": 2244861551,
      "min": 0,
      "orientation": "horizontal",
      "style": "IPY_MODEL_ef76ae7913634a3a92f6136e00c6cd8a",
      "value": 2244861551
     }
    },
    "22d54b5bbd79405a8718723978b0d197": {
     "model_module": "@jupyter-widgets/controls",
     "model_name": "FloatProgressModel",
     "state": {
      "_dom_classes": [],
      "_model_module": "@jupyter-widgets/controls",
      "_model_module_version": "1.5.0",
      "_model_name": "FloatProgressModel",
      "_view_count": null,
      "_view_module": "@jupyter-widgets/controls",
      "_view_module_version": "1.5.0",
      "_view_name": "ProgressView",
      "bar_style": "success",
      "description": "Downloading: 100%",
      "description_tooltip": null,
      "layout": "IPY_MODEL_aa313144ba444c39a6a75faf9869b0da",
      "max": 625,
      "min": 0,
      "orientation": "horizontal",
      "style": "IPY_MODEL_2019005e4301421e9d0f7e7720a5b94a",
      "value": 625
     }
    },
    "24c40d8b3ea74a1ca8df43870db31db5": {
     "model_module": "@jupyter-widgets/base",
     "model_name": "LayoutModel",
     "state": {
      "_model_module": "@jupyter-widgets/base",
      "_model_module_version": "1.2.0",
      "_model_name": "LayoutModel",
      "_view_count": null,
      "_view_module": "@jupyter-widgets/base",
      "_view_module_version": "1.2.0",
      "_view_name": "LayoutView",
      "align_content": null,
      "align_items": null,
      "align_self": null,
      "border": null,
      "bottom": null,
      "display": null,
      "flex": null,
      "flex_flow": null,
      "grid_area": null,
      "grid_auto_columns": null,
      "grid_auto_flow": null,
      "grid_auto_rows": null,
      "grid_column": null,
      "grid_gap": null,
      "grid_row": null,
      "grid_template_areas": null,
      "grid_template_columns": null,
      "grid_template_rows": null,
      "height": null,
      "justify_content": null,
      "justify_items": null,
      "left": null,
      "margin": null,
      "max_height": null,
      "max_width": null,
      "min_height": null,
      "min_width": null,
      "object_fit": null,
      "object_position": null,
      "order": null,
      "overflow": null,
      "overflow_x": null,
      "overflow_y": null,
      "padding": null,
      "right": null,
      "top": null,
      "visibility": null,
      "width": null
     }
    },
    "2569a6c1e26a46ebbdfd14ee32a8ea44": {
     "model_module": "@jupyter-widgets/controls",
     "model_name": "ProgressStyleModel",
     "state": {
      "_model_module": "@jupyter-widgets/controls",
      "_model_module_version": "1.5.0",
      "_model_name": "ProgressStyleModel",
      "_view_count": null,
      "_view_module": "@jupyter-widgets/base",
      "_view_module_version": "1.2.0",
      "_view_name": "StyleView",
      "bar_color": null,
      "description_width": "initial"
     }
    },
    "2a78d880b51b4e91b676efc90265fa24": {
     "model_module": "@jupyter-widgets/controls",
     "model_name": "HTMLModel",
     "state": {
      "_dom_classes": [],
      "_model_module": "@jupyter-widgets/controls",
      "_model_module_version": "1.5.0",
      "_model_name": "HTMLModel",
      "_view_count": null,
      "_view_module": "@jupyter-widgets/controls",
      "_view_module_version": "1.5.0",
      "_view_name": "HTMLView",
      "description": "",
      "description_tooltip": null,
      "layout": "IPY_MODEL_87eb7035fec14d988e925e4cb1a4ff81",
      "placeholder": "​",
      "style": "IPY_MODEL_00f61ddb67874115baddffafa471659e",
      "value": " 2.24G/2.24G [01:11&lt;00:00, 31.5MB/s]"
     }
    },
    "2bbc7259e3bb4fb18d0c68044274b3d0": {
     "model_module": "@jupyter-widgets/base",
     "model_name": "LayoutModel",
     "state": {
      "_model_module": "@jupyter-widgets/base",
      "_model_module_version": "1.2.0",
      "_model_name": "LayoutModel",
      "_view_count": null,
      "_view_module": "@jupyter-widgets/base",
      "_view_module_version": "1.2.0",
      "_view_name": "LayoutView",
      "align_content": null,
      "align_items": null,
      "align_self": null,
      "border": null,
      "bottom": null,
      "display": null,
      "flex": null,
      "flex_flow": null,
      "grid_area": null,
      "grid_auto_columns": null,
      "grid_auto_flow": null,
      "grid_auto_rows": null,
      "grid_column": null,
      "grid_gap": null,
      "grid_row": null,
      "grid_template_areas": null,
      "grid_template_columns": null,
      "grid_template_rows": null,
      "height": null,
      "justify_content": null,
      "justify_items": null,
      "left": null,
      "margin": null,
      "max_height": null,
      "max_width": null,
      "min_height": null,
      "min_width": null,
      "object_fit": null,
      "object_position": null,
      "order": null,
      "overflow": null,
      "overflow_x": null,
      "overflow_y": null,
      "padding": null,
      "right": null,
      "top": null,
      "visibility": null,
      "width": null
     }
    },
    "2f47786e14354c0786dd77f52e754f0a": {
     "model_module": "@jupyter-widgets/controls",
     "model_name": "HBoxModel",
     "state": {
      "_dom_classes": [],
      "_model_module": "@jupyter-widgets/controls",
      "_model_module_version": "1.5.0",
      "_model_name": "HBoxModel",
      "_view_count": null,
      "_view_module": "@jupyter-widgets/controls",
      "_view_module_version": "1.5.0",
      "_view_name": "HBoxView",
      "box_style": "",
      "children": [
       "IPY_MODEL_7f98552bf1d74a9f80c86d6423fbb51e",
       "IPY_MODEL_6a8c3135a3854e21a6f672aa03b6b33e"
      ],
      "layout": "IPY_MODEL_4e87b122c9894ebcabf94769f682da30"
     }
    },
    "2fd9faafe59e4148a735c4e01a43c6c7": {
     "model_module": "@jupyter-widgets/controls",
     "model_name": "HBoxModel",
     "state": {
      "_dom_classes": [],
      "_model_module": "@jupyter-widgets/controls",
      "_model_module_version": "1.5.0",
      "_model_name": "HBoxModel",
      "_view_count": null,
      "_view_module": "@jupyter-widgets/controls",
      "_view_module_version": "1.5.0",
      "_view_name": "HBoxView",
      "box_style": "",
      "children": [
       "IPY_MODEL_0010b01c551341d1bd21c13a0047b93f",
       "IPY_MODEL_79f0c3903a8e41a99acf07a73e6e363c"
      ],
      "layout": "IPY_MODEL_b526dc8c3063440ea16bfd52c52caf41"
     }
    },
    "30c9abd6f19c4467b6eaed664d1fb3b2": {
     "model_module": "@jupyter-widgets/controls",
     "model_name": "HBoxModel",
     "state": {
      "_dom_classes": [],
      "_model_module": "@jupyter-widgets/controls",
      "_model_module_version": "1.5.0",
      "_model_name": "HBoxModel",
      "_view_count": null,
      "_view_module": "@jupyter-widgets/controls",
      "_view_module_version": "1.5.0",
      "_view_name": "HBoxView",
      "box_style": "",
      "children": [
       "IPY_MODEL_fcb4afc36c0d43e98fb2fca03fd16414",
       "IPY_MODEL_2a78d880b51b4e91b676efc90265fa24"
      ],
      "layout": "IPY_MODEL_6570b48c87784641b96949acdbdb754d"
     }
    },
    "3181742cbef144baaa52fad69ffb290a": {
     "model_module": "@jupyter-widgets/controls",
     "model_name": "HTMLModel",
     "state": {
      "_dom_classes": [],
      "_model_module": "@jupyter-widgets/controls",
      "_model_module_version": "1.5.0",
      "_model_name": "HTMLModel",
      "_view_count": null,
      "_view_module": "@jupyter-widgets/controls",
      "_view_module_version": "1.5.0",
      "_view_name": "HTMLView",
      "description": "",
      "description_tooltip": null,
      "layout": "IPY_MODEL_e148fa010b4645db9ff049eb35c7f343",
      "placeholder": "​",
      "style": "IPY_MODEL_d275e3a584e6481582c34c0f8c48a0fb",
      "value": " 625/625 [00:00&lt;00:00, 4.12kB/s]"
     }
    },
    "320c5d51dbd84fb78bef5216e8bf1c8e": {
     "model_module": "@jupyter-widgets/controls",
     "model_name": "FloatProgressModel",
     "state": {
      "_dom_classes": [],
      "_model_module": "@jupyter-widgets/controls",
      "_model_module_version": "1.5.0",
      "_model_name": "FloatProgressModel",
      "_view_count": null,
      "_view_module": "@jupyter-widgets/controls",
      "_view_module_version": "1.5.0",
      "_view_name": "ProgressView",
      "bar_style": "success",
      "description": "Downloading: 100%",
      "description_tooltip": null,
      "layout": "IPY_MODEL_39d442f426ee4b2eb573edf7370a4d88",
      "max": 29,
      "min": 0,
      "orientation": "horizontal",
      "style": "IPY_MODEL_f5b8bcaa31894762b20b02548c9b8da3",
      "value": 29
     }
    },
    "32f144a071a24eb4bda4eebeacab12f6": {
     "model_module": "@jupyter-widgets/controls",
     "model_name": "DescriptionStyleModel",
     "state": {
      "_model_module": "@jupyter-widgets/controls",
      "_model_module_version": "1.5.0",
      "_model_name": "DescriptionStyleModel",
      "_view_count": null,
      "_view_module": "@jupyter-widgets/base",
      "_view_module_version": "1.2.0",
      "_view_name": "StyleView",
      "description_width": ""
     }
    },
    "34efdf676d4d45a484fcf7e55e23b9d3": {
     "model_module": "@jupyter-widgets/base",
     "model_name": "LayoutModel",
     "state": {
      "_model_module": "@jupyter-widgets/base",
      "_model_module_version": "1.2.0",
      "_model_name": "LayoutModel",
      "_view_count": null,
      "_view_module": "@jupyter-widgets/base",
      "_view_module_version": "1.2.0",
      "_view_name": "LayoutView",
      "align_content": null,
      "align_items": null,
      "align_self": null,
      "border": null,
      "bottom": null,
      "display": null,
      "flex": null,
      "flex_flow": null,
      "grid_area": null,
      "grid_auto_columns": null,
      "grid_auto_flow": null,
      "grid_auto_rows": null,
      "grid_column": null,
      "grid_gap": null,
      "grid_row": null,
      "grid_template_areas": null,
      "grid_template_columns": null,
      "grid_template_rows": null,
      "height": null,
      "justify_content": null,
      "justify_items": null,
      "left": null,
      "margin": null,
      "max_height": null,
      "max_width": null,
      "min_height": null,
      "min_width": null,
      "object_fit": null,
      "object_position": null,
      "order": null,
      "overflow": null,
      "overflow_x": null,
      "overflow_y": null,
      "padding": null,
      "right": null,
      "top": null,
      "visibility": null,
      "width": null
     }
    },
    "369626b737a141029b5817cb2fcd5551": {
     "model_module": "@jupyter-widgets/controls",
     "model_name": "HTMLModel",
     "state": {
      "_dom_classes": [],
      "_model_module": "@jupyter-widgets/controls",
      "_model_module_version": "1.5.0",
      "_model_name": "HTMLModel",
      "_view_count": null,
      "_view_module": "@jupyter-widgets/controls",
      "_view_module_version": "1.5.0",
      "_view_name": "HTMLView",
      "description": "",
      "description_tooltip": null,
      "layout": "IPY_MODEL_34efdf676d4d45a484fcf7e55e23b9d3",
      "placeholder": "​",
      "style": "IPY_MODEL_ed3e454ab2214d5d811e4cbf897763e4",
      "value": " 1.96M/1.96M [00:01&lt;00:00, 1.68MB/s]"
     }
    },
    "370d91a0e2284ad9a1679793d1ad7cf9": {
     "model_module": "@jupyter-widgets/base",
     "model_name": "LayoutModel",
     "state": {
      "_model_module": "@jupyter-widgets/base",
      "_model_module_version": "1.2.0",
      "_model_name": "LayoutModel",
      "_view_count": null,
      "_view_module": "@jupyter-widgets/base",
      "_view_module_version": "1.2.0",
      "_view_name": "LayoutView",
      "align_content": null,
      "align_items": null,
      "align_self": null,
      "border": null,
      "bottom": null,
      "display": null,
      "flex": null,
      "flex_flow": null,
      "grid_area": null,
      "grid_auto_columns": null,
      "grid_auto_flow": null,
      "grid_auto_rows": null,
      "grid_column": null,
      "grid_gap": null,
      "grid_row": null,
      "grid_template_areas": null,
      "grid_template_columns": null,
      "grid_template_rows": null,
      "height": null,
      "justify_content": null,
      "justify_items": null,
      "left": null,
      "margin": null,
      "max_height": null,
      "max_width": null,
      "min_height": null,
      "min_width": null,
      "object_fit": null,
      "object_position": null,
      "order": null,
      "overflow": null,
      "overflow_x": null,
      "overflow_y": null,
      "padding": null,
      "right": null,
      "top": null,
      "visibility": null,
      "width": null
     }
    },
    "379d8e7a5c1b48e49b203644d49c5e0c": {
     "model_module": "@jupyter-widgets/base",
     "model_name": "LayoutModel",
     "state": {
      "_model_module": "@jupyter-widgets/base",
      "_model_module_version": "1.2.0",
      "_model_name": "LayoutModel",
      "_view_count": null,
      "_view_module": "@jupyter-widgets/base",
      "_view_module_version": "1.2.0",
      "_view_name": "LayoutView",
      "align_content": null,
      "align_items": null,
      "align_self": null,
      "border": null,
      "bottom": null,
      "display": null,
      "flex": null,
      "flex_flow": null,
      "grid_area": null,
      "grid_auto_columns": null,
      "grid_auto_flow": null,
      "grid_auto_rows": null,
      "grid_column": null,
      "grid_gap": null,
      "grid_row": null,
      "grid_template_areas": null,
      "grid_template_columns": null,
      "grid_template_rows": null,
      "height": null,
      "justify_content": null,
      "justify_items": null,
      "left": null,
      "margin": null,
      "max_height": null,
      "max_width": null,
      "min_height": null,
      "min_width": null,
      "object_fit": null,
      "object_position": null,
      "order": null,
      "overflow": null,
      "overflow_x": null,
      "overflow_y": null,
      "padding": null,
      "right": null,
      "top": null,
      "visibility": null,
      "width": null
     }
    },
    "39d442f426ee4b2eb573edf7370a4d88": {
     "model_module": "@jupyter-widgets/base",
     "model_name": "LayoutModel",
     "state": {
      "_model_module": "@jupyter-widgets/base",
      "_model_module_version": "1.2.0",
      "_model_name": "LayoutModel",
      "_view_count": null,
      "_view_module": "@jupyter-widgets/base",
      "_view_module_version": "1.2.0",
      "_view_name": "LayoutView",
      "align_content": null,
      "align_items": null,
      "align_self": null,
      "border": null,
      "bottom": null,
      "display": null,
      "flex": null,
      "flex_flow": null,
      "grid_area": null,
      "grid_auto_columns": null,
      "grid_auto_flow": null,
      "grid_auto_rows": null,
      "grid_column": null,
      "grid_gap": null,
      "grid_row": null,
      "grid_template_areas": null,
      "grid_template_columns": null,
      "grid_template_rows": null,
      "height": null,
      "justify_content": null,
      "justify_items": null,
      "left": null,
      "margin": null,
      "max_height": null,
      "max_width": null,
      "min_height": null,
      "min_width": null,
      "object_fit": null,
      "object_position": null,
      "order": null,
      "overflow": null,
      "overflow_x": null,
      "overflow_y": null,
      "padding": null,
      "right": null,
      "top": null,
      "visibility": null,
      "width": null
     }
    },
    "3b8c2c3201424388b7f73f356d6cdb20": {
     "model_module": "@jupyter-widgets/base",
     "model_name": "LayoutModel",
     "state": {
      "_model_module": "@jupyter-widgets/base",
      "_model_module_version": "1.2.0",
      "_model_name": "LayoutModel",
      "_view_count": null,
      "_view_module": "@jupyter-widgets/base",
      "_view_module_version": "1.2.0",
      "_view_name": "LayoutView",
      "align_content": null,
      "align_items": null,
      "align_self": null,
      "border": null,
      "bottom": null,
      "display": null,
      "flex": null,
      "flex_flow": null,
      "grid_area": null,
      "grid_auto_columns": null,
      "grid_auto_flow": null,
      "grid_auto_rows": null,
      "grid_column": null,
      "grid_gap": null,
      "grid_row": null,
      "grid_template_areas": null,
      "grid_template_columns": null,
      "grid_template_rows": null,
      "height": null,
      "justify_content": null,
      "justify_items": null,
      "left": null,
      "margin": null,
      "max_height": null,
      "max_width": null,
      "min_height": null,
      "min_width": null,
      "object_fit": null,
      "object_position": null,
      "order": null,
      "overflow": null,
      "overflow_x": null,
      "overflow_y": null,
      "padding": null,
      "right": null,
      "top": null,
      "visibility": null,
      "width": null
     }
    },
    "3c647c51afef4bc9b9ff371276e8b2af": {
     "model_module": "@jupyter-widgets/controls",
     "model_name": "FloatProgressModel",
     "state": {
      "_dom_classes": [],
      "_model_module": "@jupyter-widgets/controls",
      "_model_module_version": "1.5.0",
      "_model_name": "FloatProgressModel",
      "_view_count": null,
      "_view_module": "@jupyter-widgets/controls",
      "_view_module_version": "1.5.0",
      "_view_name": "ProgressView",
      "bar_style": "success",
      "description": "Downloading: 100%",
      "description_tooltip": null,
      "layout": "IPY_MODEL_1410c6e41ec04a5c853fa334b310fdc1",
      "max": 29,
      "min": 0,
      "orientation": "horizontal",
      "style": "IPY_MODEL_15607f380c224e879f7ccc7fc434812a",
      "value": 29
     }
    },
    "3e3213e5d5c146718533b2d10d3cccec": {
     "model_module": "@jupyter-widgets/base",
     "model_name": "LayoutModel",
     "state": {
      "_model_module": "@jupyter-widgets/base",
      "_model_module_version": "1.2.0",
      "_model_name": "LayoutModel",
      "_view_count": null,
      "_view_module": "@jupyter-widgets/base",
      "_view_module_version": "1.2.0",
      "_view_name": "LayoutView",
      "align_content": null,
      "align_items": null,
      "align_self": null,
      "border": null,
      "bottom": null,
      "display": null,
      "flex": null,
      "flex_flow": null,
      "grid_area": null,
      "grid_auto_columns": null,
      "grid_auto_flow": null,
      "grid_auto_rows": null,
      "grid_column": null,
      "grid_gap": null,
      "grid_row": null,
      "grid_template_areas": null,
      "grid_template_columns": null,
      "grid_template_rows": null,
      "height": null,
      "justify_content": null,
      "justify_items": null,
      "left": null,
      "margin": null,
      "max_height": null,
      "max_width": null,
      "min_height": null,
      "min_width": null,
      "object_fit": null,
      "object_position": null,
      "order": null,
      "overflow": null,
      "overflow_x": null,
      "overflow_y": null,
      "padding": null,
      "right": null,
      "top": null,
      "visibility": null,
      "width": null
     }
    },
    "41e1f0c0728d4bd6ba669d201dd15797": {
     "model_module": "@jupyter-widgets/base",
     "model_name": "LayoutModel",
     "state": {
      "_model_module": "@jupyter-widgets/base",
      "_model_module_version": "1.2.0",
      "_model_name": "LayoutModel",
      "_view_count": null,
      "_view_module": "@jupyter-widgets/base",
      "_view_module_version": "1.2.0",
      "_view_name": "LayoutView",
      "align_content": null,
      "align_items": null,
      "align_self": null,
      "border": null,
      "bottom": null,
      "display": null,
      "flex": null,
      "flex_flow": null,
      "grid_area": null,
      "grid_auto_columns": null,
      "grid_auto_flow": null,
      "grid_auto_rows": null,
      "grid_column": null,
      "grid_gap": null,
      "grid_row": null,
      "grid_template_areas": null,
      "grid_template_columns": null,
      "grid_template_rows": null,
      "height": null,
      "justify_content": null,
      "justify_items": null,
      "left": null,
      "margin": null,
      "max_height": null,
      "max_width": null,
      "min_height": null,
      "min_width": null,
      "object_fit": null,
      "object_position": null,
      "order": null,
      "overflow": null,
      "overflow_x": null,
      "overflow_y": null,
      "padding": null,
      "right": null,
      "top": null,
      "visibility": null,
      "width": null
     }
    },
    "44f5e21e7bc24d0781d2c5b683b16fab": {
     "model_module": "@jupyter-widgets/controls",
     "model_name": "FloatProgressModel",
     "state": {
      "_dom_classes": [],
      "_model_module": "@jupyter-widgets/controls",
      "_model_module_version": "1.5.0",
      "_model_name": "FloatProgressModel",
      "_view_count": null,
      "_view_module": "@jupyter-widgets/controls",
      "_view_module_version": "1.5.0",
      "_view_name": "ProgressView",
      "bar_style": "success",
      "description": "Downloading: 100%",
      "description_tooltip": null,
      "layout": "IPY_MODEL_94b14c6c05a84425ac298f2f00ff6970",
      "max": 1961828,
      "min": 0,
      "orientation": "horizontal",
      "style": "IPY_MODEL_66d63e282d354f339732260f5f1819b8",
      "value": 1961828
     }
    },
    "45e96a36cdbb448bb4c2e6abe9e302cd": {
     "model_module": "@jupyter-widgets/controls",
     "model_name": "HTMLModel",
     "state": {
      "_dom_classes": [],
      "_model_module": "@jupyter-widgets/controls",
      "_model_module_version": "1.5.0",
      "_model_name": "HTMLModel",
      "_view_count": null,
      "_view_module": "@jupyter-widgets/controls",
      "_view_module_version": "1.5.0",
      "_view_name": "HTMLView",
      "description": "",
      "description_tooltip": null,
      "layout": "IPY_MODEL_69711b96d65b494dabc5b4d2986db80e",
      "placeholder": "​",
      "style": "IPY_MODEL_55a60a83c91e4411be8db5a5b27af547",
      "value": " 996k/996k [00:00&lt;00:00, 2.48MB/s]"
     }
    },
    "4676ada5944e4e4f98748fcfbf32c8e2": {
     "model_module": "@jupyter-widgets/base",
     "model_name": "LayoutModel",
     "state": {
      "_model_module": "@jupyter-widgets/base",
      "_model_module_version": "1.2.0",
      "_model_name": "LayoutModel",
      "_view_count": null,
      "_view_module": "@jupyter-widgets/base",
      "_view_module_version": "1.2.0",
      "_view_name": "LayoutView",
      "align_content": null,
      "align_items": null,
      "align_self": null,
      "border": null,
      "bottom": null,
      "display": null,
      "flex": null,
      "flex_flow": null,
      "grid_area": null,
      "grid_auto_columns": null,
      "grid_auto_flow": null,
      "grid_auto_rows": null,
      "grid_column": null,
      "grid_gap": null,
      "grid_row": null,
      "grid_template_areas": null,
      "grid_template_columns": null,
      "grid_template_rows": null,
      "height": null,
      "justify_content": null,
      "justify_items": null,
      "left": null,
      "margin": null,
      "max_height": null,
      "max_width": null,
      "min_height": null,
      "min_width": null,
      "object_fit": null,
      "object_position": null,
      "order": null,
      "overflow": null,
      "overflow_x": null,
      "overflow_y": null,
      "padding": null,
      "right": null,
      "top": null,
      "visibility": null,
      "width": null
     }
    },
    "476f77f7031442e1bb5d7c205ff73009": {
     "model_module": "@jupyter-widgets/controls",
     "model_name": "HBoxModel",
     "state": {
      "_dom_classes": [],
      "_model_module": "@jupyter-widgets/controls",
      "_model_module_version": "1.5.0",
      "_model_name": "HBoxModel",
      "_view_count": null,
      "_view_module": "@jupyter-widgets/controls",
      "_view_module_version": "1.5.0",
      "_view_name": "HBoxView",
      "box_style": "",
      "children": [
       "IPY_MODEL_3c647c51afef4bc9b9ff371276e8b2af",
       "IPY_MODEL_ff7fe2c9c6a145fea407ae401e23456c"
      ],
      "layout": "IPY_MODEL_751a2bd3e83c49f8bfbffd3a030b58be"
     }
    },
    "47c252a0d8504b51b603f0bcc8c9ff9e": {
     "model_module": "@jupyter-widgets/controls",
     "model_name": "HTMLModel",
     "state": {
      "_dom_classes": [],
      "_model_module": "@jupyter-widgets/controls",
      "_model_module_version": "1.5.0",
      "_model_name": "HTMLModel",
      "_view_count": null,
      "_view_module": "@jupyter-widgets/controls",
      "_view_module_version": "1.5.0",
      "_view_name": "HTMLView",
      "description": "",
      "description_tooltip": null,
      "layout": "IPY_MODEL_b0a4f9ed800c407393e60b6b8cb6f44c",
      "placeholder": "​",
      "style": "IPY_MODEL_a845c76645f441e38b9bbaad98fd46f5",
      "value": " 625/625 [00:00&lt;00:00, 5.18kB/s]"
     }
    },
    "48fbfb5b1c3b4a2a99d1559d61cb36e4": {
     "model_module": "@jupyter-widgets/controls",
     "model_name": "ProgressStyleModel",
     "state": {
      "_model_module": "@jupyter-widgets/controls",
      "_model_module_version": "1.5.0",
      "_model_name": "ProgressStyleModel",
      "_view_count": null,
      "_view_module": "@jupyter-widgets/base",
      "_view_module_version": "1.2.0",
      "_view_name": "StyleView",
      "bar_color": null,
      "description_width": "initial"
     }
    },
    "497757afd69144b3be17a0ef7e8876ae": {
     "model_module": "@jupyter-widgets/controls",
     "model_name": "FloatProgressModel",
     "state": {
      "_dom_classes": [],
      "_model_module": "@jupyter-widgets/controls",
      "_model_module_version": "1.5.0",
      "_model_name": "FloatProgressModel",
      "_view_count": null,
      "_view_module": "@jupyter-widgets/controls",
      "_view_module_version": "1.5.0",
      "_view_name": "ProgressView",
      "bar_style": "success",
      "description": "Downloading: 100%",
      "description_tooltip": null,
      "layout": "IPY_MODEL_ff2eb8000388482bb455d6cf0a425feb",
      "max": 714314041,
      "min": 0,
      "orientation": "horizontal",
      "style": "IPY_MODEL_a3c425e980d6464baef2c780bf9e7f37",
      "value": 714314041
     }
    },
    "4a9e457239b8462eb591fdc99683c55f": {
     "model_module": "@jupyter-widgets/base",
     "model_name": "LayoutModel",
     "state": {
      "_model_module": "@jupyter-widgets/base",
      "_model_module_version": "1.2.0",
      "_model_name": "LayoutModel",
      "_view_count": null,
      "_view_module": "@jupyter-widgets/base",
      "_view_module_version": "1.2.0",
      "_view_name": "LayoutView",
      "align_content": null,
      "align_items": null,
      "align_self": null,
      "border": null,
      "bottom": null,
      "display": null,
      "flex": null,
      "flex_flow": null,
      "grid_area": null,
      "grid_auto_columns": null,
      "grid_auto_flow": null,
      "grid_auto_rows": null,
      "grid_column": null,
      "grid_gap": null,
      "grid_row": null,
      "grid_template_areas": null,
      "grid_template_columns": null,
      "grid_template_rows": null,
      "height": null,
      "justify_content": null,
      "justify_items": null,
      "left": null,
      "margin": null,
      "max_height": null,
      "max_width": null,
      "min_height": null,
      "min_width": null,
      "object_fit": null,
      "object_position": null,
      "order": null,
      "overflow": null,
      "overflow_x": null,
      "overflow_y": null,
      "padding": null,
      "right": null,
      "top": null,
      "visibility": null,
      "width": null
     }
    },
    "4e87b122c9894ebcabf94769f682da30": {
     "model_module": "@jupyter-widgets/base",
     "model_name": "LayoutModel",
     "state": {
      "_model_module": "@jupyter-widgets/base",
      "_model_module_version": "1.2.0",
      "_model_name": "LayoutModel",
      "_view_count": null,
      "_view_module": "@jupyter-widgets/base",
      "_view_module_version": "1.2.0",
      "_view_name": "LayoutView",
      "align_content": null,
      "align_items": null,
      "align_self": null,
      "border": null,
      "bottom": null,
      "display": null,
      "flex": null,
      "flex_flow": null,
      "grid_area": null,
      "grid_auto_columns": null,
      "grid_auto_flow": null,
      "grid_auto_rows": null,
      "grid_column": null,
      "grid_gap": null,
      "grid_row": null,
      "grid_template_areas": null,
      "grid_template_columns": null,
      "grid_template_rows": null,
      "height": null,
      "justify_content": null,
      "justify_items": null,
      "left": null,
      "margin": null,
      "max_height": null,
      "max_width": null,
      "min_height": null,
      "min_width": null,
      "object_fit": null,
      "object_position": null,
      "order": null,
      "overflow": null,
      "overflow_x": null,
      "overflow_y": null,
      "padding": null,
      "right": null,
      "top": null,
      "visibility": null,
      "width": null
     }
    },
    "4f1d9cee04ed4a1dbda236a78e56622c": {
     "model_module": "@jupyter-widgets/controls",
     "model_name": "DescriptionStyleModel",
     "state": {
      "_model_module": "@jupyter-widgets/controls",
      "_model_module_version": "1.5.0",
      "_model_name": "DescriptionStyleModel",
      "_view_count": null,
      "_view_module": "@jupyter-widgets/base",
      "_view_module_version": "1.2.0",
      "_view_name": "StyleView",
      "description_width": ""
     }
    },
    "4f694c14fc974ce0a13a790113932202": {
     "model_module": "@jupyter-widgets/controls",
     "model_name": "HTMLModel",
     "state": {
      "_dom_classes": [],
      "_model_module": "@jupyter-widgets/controls",
      "_model_module_version": "1.5.0",
      "_model_name": "HTMLModel",
      "_view_count": null,
      "_view_module": "@jupyter-widgets/controls",
      "_view_module_version": "1.5.0",
      "_view_name": "HTMLView",
      "description": "",
      "description_tooltip": null,
      "layout": "IPY_MODEL_bd8b8e4e07ff41d29615bd1fa6874fd7",
      "placeholder": "​",
      "style": "IPY_MODEL_32f144a071a24eb4bda4eebeacab12f6",
      "value": " 625/625 [00:00&lt;00:00, 4.40kB/s]"
     }
    },
    "4fe0ba9f08db42bba7b16170b57bf802": {
     "model_module": "@jupyter-widgets/controls",
     "model_name": "HBoxModel",
     "state": {
      "_dom_classes": [],
      "_model_module": "@jupyter-widgets/controls",
      "_model_module_version": "1.5.0",
      "_model_name": "HBoxModel",
      "_view_count": null,
      "_view_module": "@jupyter-widgets/controls",
      "_view_module_version": "1.5.0",
      "_view_name": "HBoxView",
      "box_style": "",
      "children": [
       "IPY_MODEL_d43dfff4939349f98848d64be958ad88",
       "IPY_MODEL_f50cf5acbff74b3dbb8b6b89176b87e0"
      ],
      "layout": "IPY_MODEL_370d91a0e2284ad9a1679793d1ad7cf9"
     }
    },
    "5118f2db5a14409593c3f25bd7850a9c": {
     "model_module": "@jupyter-widgets/base",
     "model_name": "LayoutModel",
     "state": {
      "_model_module": "@jupyter-widgets/base",
      "_model_module_version": "1.2.0",
      "_model_name": "LayoutModel",
      "_view_count": null,
      "_view_module": "@jupyter-widgets/base",
      "_view_module_version": "1.2.0",
      "_view_name": "LayoutView",
      "align_content": null,
      "align_items": null,
      "align_self": null,
      "border": null,
      "bottom": null,
      "display": null,
      "flex": null,
      "flex_flow": null,
      "grid_area": null,
      "grid_auto_columns": null,
      "grid_auto_flow": null,
      "grid_auto_rows": null,
      "grid_column": null,
      "grid_gap": null,
      "grid_row": null,
      "grid_template_areas": null,
      "grid_template_columns": null,
      "grid_template_rows": null,
      "height": null,
      "justify_content": null,
      "justify_items": null,
      "left": null,
      "margin": null,
      "max_height": null,
      "max_width": null,
      "min_height": null,
      "min_width": null,
      "object_fit": null,
      "object_position": null,
      "order": null,
      "overflow": null,
      "overflow_x": null,
      "overflow_y": null,
      "padding": null,
      "right": null,
      "top": null,
      "visibility": null,
      "width": null
     }
    },
    "51f2b1b7e57b48f4ae8f0615a1e83f6b": {
     "model_module": "@jupyter-widgets/controls",
     "model_name": "ProgressStyleModel",
     "state": {
      "_model_module": "@jupyter-widgets/controls",
      "_model_module_version": "1.5.0",
      "_model_name": "ProgressStyleModel",
      "_view_count": null,
      "_view_module": "@jupyter-widgets/base",
      "_view_module_version": "1.2.0",
      "_view_name": "StyleView",
      "bar_color": null,
      "description_width": "initial"
     }
    },
    "55a60a83c91e4411be8db5a5b27af547": {
     "model_module": "@jupyter-widgets/controls",
     "model_name": "DescriptionStyleModel",
     "state": {
      "_model_module": "@jupyter-widgets/controls",
      "_model_module_version": "1.5.0",
      "_model_name": "DescriptionStyleModel",
      "_view_count": null,
      "_view_module": "@jupyter-widgets/base",
      "_view_module_version": "1.2.0",
      "_view_name": "StyleView",
      "description_width": ""
     }
    },
    "59bc2a91cee84e72987c0a9e7519161e": {
     "model_module": "@jupyter-widgets/base",
     "model_name": "LayoutModel",
     "state": {
      "_model_module": "@jupyter-widgets/base",
      "_model_module_version": "1.2.0",
      "_model_name": "LayoutModel",
      "_view_count": null,
      "_view_module": "@jupyter-widgets/base",
      "_view_module_version": "1.2.0",
      "_view_name": "LayoutView",
      "align_content": null,
      "align_items": null,
      "align_self": null,
      "border": null,
      "bottom": null,
      "display": null,
      "flex": null,
      "flex_flow": null,
      "grid_area": null,
      "grid_auto_columns": null,
      "grid_auto_flow": null,
      "grid_auto_rows": null,
      "grid_column": null,
      "grid_gap": null,
      "grid_row": null,
      "grid_template_areas": null,
      "grid_template_columns": null,
      "grid_template_rows": null,
      "height": null,
      "justify_content": null,
      "justify_items": null,
      "left": null,
      "margin": null,
      "max_height": null,
      "max_width": null,
      "min_height": null,
      "min_width": null,
      "object_fit": null,
      "object_position": null,
      "order": null,
      "overflow": null,
      "overflow_x": null,
      "overflow_y": null,
      "padding": null,
      "right": null,
      "top": null,
      "visibility": null,
      "width": null
     }
    },
    "5d8be6cbd79b43cfa3d251306ae5ca59": {
     "model_module": "@jupyter-widgets/controls",
     "model_name": "FloatProgressModel",
     "state": {
      "_dom_classes": [],
      "_model_module": "@jupyter-widgets/controls",
      "_model_module_version": "1.5.0",
      "_model_name": "FloatProgressModel",
      "_view_count": null,
      "_view_module": "@jupyter-widgets/controls",
      "_view_module_version": "1.5.0",
      "_view_name": "ProgressView",
      "bar_style": "success",
      "description": "Downloading: 100%",
      "description_tooltip": null,
      "layout": "IPY_MODEL_8130625bb7564da2b16753e376e847c3",
      "max": 714314041,
      "min": 0,
      "orientation": "horizontal",
      "style": "IPY_MODEL_167000583c564be4aa5dc85998922bb1",
      "value": 714314041
     }
    },
    "6120f3b84c0a4a0398f2678336070188": {
     "model_module": "@jupyter-widgets/controls",
     "model_name": "DescriptionStyleModel",
     "state": {
      "_model_module": "@jupyter-widgets/controls",
      "_model_module_version": "1.5.0",
      "_model_name": "DescriptionStyleModel",
      "_view_count": null,
      "_view_module": "@jupyter-widgets/base",
      "_view_module_version": "1.2.0",
      "_view_name": "StyleView",
      "description_width": ""
     }
    },
    "63ef3a94a17042d6a528f5c8cfe53f9c": {
     "model_module": "@jupyter-widgets/controls",
     "model_name": "HTMLModel",
     "state": {
      "_dom_classes": [],
      "_model_module": "@jupyter-widgets/controls",
      "_model_module_version": "1.5.0",
      "_model_name": "HTMLModel",
      "_view_count": null,
      "_view_module": "@jupyter-widgets/controls",
      "_view_module_version": "1.5.0",
      "_view_name": "HTMLView",
      "description": "",
      "description_tooltip": null,
      "layout": "IPY_MODEL_ade8b9850a364fe8aaf768e16928df45",
      "placeholder": "​",
      "style": "IPY_MODEL_201fef846a5045afad6308710f0660ea",
      "value": " 28.0/28.0 [00:01&lt;00:00, 16.2B/s]"
     }
    },
    "6570b48c87784641b96949acdbdb754d": {
     "model_module": "@jupyter-widgets/base",
     "model_name": "LayoutModel",
     "state": {
      "_model_module": "@jupyter-widgets/base",
      "_model_module_version": "1.2.0",
      "_model_name": "LayoutModel",
      "_view_count": null,
      "_view_module": "@jupyter-widgets/base",
      "_view_module_version": "1.2.0",
      "_view_name": "LayoutView",
      "align_content": null,
      "align_items": null,
      "align_self": null,
      "border": null,
      "bottom": null,
      "display": null,
      "flex": null,
      "flex_flow": null,
      "grid_area": null,
      "grid_auto_columns": null,
      "grid_auto_flow": null,
      "grid_auto_rows": null,
      "grid_column": null,
      "grid_gap": null,
      "grid_row": null,
      "grid_template_areas": null,
      "grid_template_columns": null,
      "grid_template_rows": null,
      "height": null,
      "justify_content": null,
      "justify_items": null,
      "left": null,
      "margin": null,
      "max_height": null,
      "max_width": null,
      "min_height": null,
      "min_width": null,
      "object_fit": null,
      "object_position": null,
      "order": null,
      "overflow": null,
      "overflow_x": null,
      "overflow_y": null,
      "padding": null,
      "right": null,
      "top": null,
      "visibility": null,
      "width": null
     }
    },
    "66c7b97965e14730856e6843662453f8": {
     "model_module": "@jupyter-widgets/base",
     "model_name": "LayoutModel",
     "state": {
      "_model_module": "@jupyter-widgets/base",
      "_model_module_version": "1.2.0",
      "_model_name": "LayoutModel",
      "_view_count": null,
      "_view_module": "@jupyter-widgets/base",
      "_view_module_version": "1.2.0",
      "_view_name": "LayoutView",
      "align_content": null,
      "align_items": null,
      "align_self": null,
      "border": null,
      "bottom": null,
      "display": null,
      "flex": null,
      "flex_flow": null,
      "grid_area": null,
      "grid_auto_columns": null,
      "grid_auto_flow": null,
      "grid_auto_rows": null,
      "grid_column": null,
      "grid_gap": null,
      "grid_row": null,
      "grid_template_areas": null,
      "grid_template_columns": null,
      "grid_template_rows": null,
      "height": null,
      "justify_content": null,
      "justify_items": null,
      "left": null,
      "margin": null,
      "max_height": null,
      "max_width": null,
      "min_height": null,
      "min_width": null,
      "object_fit": null,
      "object_position": null,
      "order": null,
      "overflow": null,
      "overflow_x": null,
      "overflow_y": null,
      "padding": null,
      "right": null,
      "top": null,
      "visibility": null,
      "width": null
     }
    },
    "66d63e282d354f339732260f5f1819b8": {
     "model_module": "@jupyter-widgets/controls",
     "model_name": "ProgressStyleModel",
     "state": {
      "_model_module": "@jupyter-widgets/controls",
      "_model_module_version": "1.5.0",
      "_model_name": "ProgressStyleModel",
      "_view_count": null,
      "_view_module": "@jupyter-widgets/base",
      "_view_module_version": "1.2.0",
      "_view_name": "StyleView",
      "bar_color": null,
      "description_width": "initial"
     }
    },
    "69711b96d65b494dabc5b4d2986db80e": {
     "model_module": "@jupyter-widgets/base",
     "model_name": "LayoutModel",
     "state": {
      "_model_module": "@jupyter-widgets/base",
      "_model_module_version": "1.2.0",
      "_model_name": "LayoutModel",
      "_view_count": null,
      "_view_module": "@jupyter-widgets/base",
      "_view_module_version": "1.2.0",
      "_view_name": "LayoutView",
      "align_content": null,
      "align_items": null,
      "align_self": null,
      "border": null,
      "bottom": null,
      "display": null,
      "flex": null,
      "flex_flow": null,
      "grid_area": null,
      "grid_auto_columns": null,
      "grid_auto_flow": null,
      "grid_auto_rows": null,
      "grid_column": null,
      "grid_gap": null,
      "grid_row": null,
      "grid_template_areas": null,
      "grid_template_columns": null,
      "grid_template_rows": null,
      "height": null,
      "justify_content": null,
      "justify_items": null,
      "left": null,
      "margin": null,
      "max_height": null,
      "max_width": null,
      "min_height": null,
      "min_width": null,
      "object_fit": null,
      "object_position": null,
      "order": null,
      "overflow": null,
      "overflow_x": null,
      "overflow_y": null,
      "padding": null,
      "right": null,
      "top": null,
      "visibility": null,
      "width": null
     }
    },
    "6a8c3135a3854e21a6f672aa03b6b33e": {
     "model_module": "@jupyter-widgets/controls",
     "model_name": "HTMLModel",
     "state": {
      "_dom_classes": [],
      "_model_module": "@jupyter-widgets/controls",
      "_model_module_version": "1.5.0",
      "_model_name": "HTMLModel",
      "_view_count": null,
      "_view_module": "@jupyter-widgets/controls",
      "_view_module_version": "1.5.0",
      "_view_name": "HTMLView",
      "description": "",
      "description_tooltip": null,
      "layout": "IPY_MODEL_9682ee9cc14d465c923952f49d69d80b",
      "placeholder": "​",
      "style": "IPY_MODEL_a3a89b75aae24afdad19833519cc42c9",
      "value": " 570/570 [00:00&lt;00:00, 9.82kB/s]"
     }
    },
    "6b011b5f27d54e4fb732511350acfc79": {
     "model_module": "@jupyter-widgets/base",
     "model_name": "LayoutModel",
     "state": {
      "_model_module": "@jupyter-widgets/base",
      "_model_module_version": "1.2.0",
      "_model_name": "LayoutModel",
      "_view_count": null,
      "_view_module": "@jupyter-widgets/base",
      "_view_module_version": "1.2.0",
      "_view_name": "LayoutView",
      "align_content": null,
      "align_items": null,
      "align_self": null,
      "border": null,
      "bottom": null,
      "display": null,
      "flex": null,
      "flex_flow": null,
      "grid_area": null,
      "grid_auto_columns": null,
      "grid_auto_flow": null,
      "grid_auto_rows": null,
      "grid_column": null,
      "grid_gap": null,
      "grid_row": null,
      "grid_template_areas": null,
      "grid_template_columns": null,
      "grid_template_rows": null,
      "height": null,
      "justify_content": null,
      "justify_items": null,
      "left": null,
      "margin": null,
      "max_height": null,
      "max_width": null,
      "min_height": null,
      "min_width": null,
      "object_fit": null,
      "object_position": null,
      "order": null,
      "overflow": null,
      "overflow_x": null,
      "overflow_y": null,
      "padding": null,
      "right": null,
      "top": null,
      "visibility": null,
      "width": null
     }
    },
    "6c0ca0d855f44f13a579802bbca236ba": {
     "model_module": "@jupyter-widgets/base",
     "model_name": "LayoutModel",
     "state": {
      "_model_module": "@jupyter-widgets/base",
      "_model_module_version": "1.2.0",
      "_model_name": "LayoutModel",
      "_view_count": null,
      "_view_module": "@jupyter-widgets/base",
      "_view_module_version": "1.2.0",
      "_view_name": "LayoutView",
      "align_content": null,
      "align_items": null,
      "align_self": null,
      "border": null,
      "bottom": null,
      "display": null,
      "flex": null,
      "flex_flow": null,
      "grid_area": null,
      "grid_auto_columns": null,
      "grid_auto_flow": null,
      "grid_auto_rows": null,
      "grid_column": null,
      "grid_gap": null,
      "grid_row": null,
      "grid_template_areas": null,
      "grid_template_columns": null,
      "grid_template_rows": null,
      "height": null,
      "justify_content": null,
      "justify_items": null,
      "left": null,
      "margin": null,
      "max_height": null,
      "max_width": null,
      "min_height": null,
      "min_width": null,
      "object_fit": null,
      "object_position": null,
      "order": null,
      "overflow": null,
      "overflow_x": null,
      "overflow_y": null,
      "padding": null,
      "right": null,
      "top": null,
      "visibility": null,
      "width": null
     }
    },
    "6d6a649148ed449c92542debfe8bcae7": {
     "model_module": "@jupyter-widgets/controls",
     "model_name": "HBoxModel",
     "state": {
      "_dom_classes": [],
      "_model_module": "@jupyter-widgets/controls",
      "_model_module_version": "1.5.0",
      "_model_name": "HBoxModel",
      "_view_count": null,
      "_view_module": "@jupyter-widgets/controls",
      "_view_module_version": "1.5.0",
      "_view_name": "HBoxView",
      "box_style": "",
      "children": [
       "IPY_MODEL_d5a0448bae604b71b8b96b7c7523ac1c",
       "IPY_MODEL_e9a6e4ff615a4580a305dfe21088c7f4"
      ],
      "layout": "IPY_MODEL_2bbc7259e3bb4fb18d0c68044274b3d0"
     }
    },
    "6eef796258ea40eebd3b6dc3144db94c": {
     "model_module": "@jupyter-widgets/controls",
     "model_name": "DescriptionStyleModel",
     "state": {
      "_model_module": "@jupyter-widgets/controls",
      "_model_module_version": "1.5.0",
      "_model_name": "DescriptionStyleModel",
      "_view_count": null,
      "_view_module": "@jupyter-widgets/base",
      "_view_module_version": "1.2.0",
      "_view_name": "StyleView",
      "description_width": ""
     }
    },
    "6f55dbdf53a545aab0c9fbfd3759df5c": {
     "model_module": "@jupyter-widgets/base",
     "model_name": "LayoutModel",
     "state": {
      "_model_module": "@jupyter-widgets/base",
      "_model_module_version": "1.2.0",
      "_model_name": "LayoutModel",
      "_view_count": null,
      "_view_module": "@jupyter-widgets/base",
      "_view_module_version": "1.2.0",
      "_view_name": "LayoutView",
      "align_content": null,
      "align_items": null,
      "align_self": null,
      "border": null,
      "bottom": null,
      "display": null,
      "flex": null,
      "flex_flow": null,
      "grid_area": null,
      "grid_auto_columns": null,
      "grid_auto_flow": null,
      "grid_auto_rows": null,
      "grid_column": null,
      "grid_gap": null,
      "grid_row": null,
      "grid_template_areas": null,
      "grid_template_columns": null,
      "grid_template_rows": null,
      "height": null,
      "justify_content": null,
      "justify_items": null,
      "left": null,
      "margin": null,
      "max_height": null,
      "max_width": null,
      "min_height": null,
      "min_width": null,
      "object_fit": null,
      "object_position": null,
      "order": null,
      "overflow": null,
      "overflow_x": null,
      "overflow_y": null,
      "padding": null,
      "right": null,
      "top": null,
      "visibility": null,
      "width": null
     }
    },
    "706b8180882b45aa97581ff1e18bf9f3": {
     "model_module": "@jupyter-widgets/base",
     "model_name": "LayoutModel",
     "state": {
      "_model_module": "@jupyter-widgets/base",
      "_model_module_version": "1.2.0",
      "_model_name": "LayoutModel",
      "_view_count": null,
      "_view_module": "@jupyter-widgets/base",
      "_view_module_version": "1.2.0",
      "_view_name": "LayoutView",
      "align_content": null,
      "align_items": null,
      "align_self": null,
      "border": null,
      "bottom": null,
      "display": null,
      "flex": null,
      "flex_flow": null,
      "grid_area": null,
      "grid_auto_columns": null,
      "grid_auto_flow": null,
      "grid_auto_rows": null,
      "grid_column": null,
      "grid_gap": null,
      "grid_row": null,
      "grid_template_areas": null,
      "grid_template_columns": null,
      "grid_template_rows": null,
      "height": null,
      "justify_content": null,
      "justify_items": null,
      "left": null,
      "margin": null,
      "max_height": null,
      "max_width": null,
      "min_height": null,
      "min_width": null,
      "object_fit": null,
      "object_position": null,
      "order": null,
      "overflow": null,
      "overflow_x": null,
      "overflow_y": null,
      "padding": null,
      "right": null,
      "top": null,
      "visibility": null,
      "width": null
     }
    },
    "709330c3583e44e2930f0099b7d9064e": {
     "model_module": "@jupyter-widgets/base",
     "model_name": "LayoutModel",
     "state": {
      "_model_module": "@jupyter-widgets/base",
      "_model_module_version": "1.2.0",
      "_model_name": "LayoutModel",
      "_view_count": null,
      "_view_module": "@jupyter-widgets/base",
      "_view_module_version": "1.2.0",
      "_view_name": "LayoutView",
      "align_content": null,
      "align_items": null,
      "align_self": null,
      "border": null,
      "bottom": null,
      "display": null,
      "flex": null,
      "flex_flow": null,
      "grid_area": null,
      "grid_auto_columns": null,
      "grid_auto_flow": null,
      "grid_auto_rows": null,
      "grid_column": null,
      "grid_gap": null,
      "grid_row": null,
      "grid_template_areas": null,
      "grid_template_columns": null,
      "grid_template_rows": null,
      "height": null,
      "justify_content": null,
      "justify_items": null,
      "left": null,
      "margin": null,
      "max_height": null,
      "max_width": null,
      "min_height": null,
      "min_width": null,
      "object_fit": null,
      "object_position": null,
      "order": null,
      "overflow": null,
      "overflow_x": null,
      "overflow_y": null,
      "padding": null,
      "right": null,
      "top": null,
      "visibility": null,
      "width": null
     }
    },
    "70b9b543fe71402a85e43d47d1529c0f": {
     "model_module": "@jupyter-widgets/controls",
     "model_name": "DescriptionStyleModel",
     "state": {
      "_model_module": "@jupyter-widgets/controls",
      "_model_module_version": "1.5.0",
      "_model_name": "DescriptionStyleModel",
      "_view_count": null,
      "_view_module": "@jupyter-widgets/base",
      "_view_module_version": "1.2.0",
      "_view_name": "StyleView",
      "description_width": ""
     }
    },
    "72692981b76a42278bfd498f34f276b8": {
     "model_module": "@jupyter-widgets/base",
     "model_name": "LayoutModel",
     "state": {
      "_model_module": "@jupyter-widgets/base",
      "_model_module_version": "1.2.0",
      "_model_name": "LayoutModel",
      "_view_count": null,
      "_view_module": "@jupyter-widgets/base",
      "_view_module_version": "1.2.0",
      "_view_name": "LayoutView",
      "align_content": null,
      "align_items": null,
      "align_self": null,
      "border": null,
      "bottom": null,
      "display": null,
      "flex": null,
      "flex_flow": null,
      "grid_area": null,
      "grid_auto_columns": null,
      "grid_auto_flow": null,
      "grid_auto_rows": null,
      "grid_column": null,
      "grid_gap": null,
      "grid_row": null,
      "grid_template_areas": null,
      "grid_template_columns": null,
      "grid_template_rows": null,
      "height": null,
      "justify_content": null,
      "justify_items": null,
      "left": null,
      "margin": null,
      "max_height": null,
      "max_width": null,
      "min_height": null,
      "min_width": null,
      "object_fit": null,
      "object_position": null,
      "order": null,
      "overflow": null,
      "overflow_x": null,
      "overflow_y": null,
      "padding": null,
      "right": null,
      "top": null,
      "visibility": null,
      "width": null
     }
    },
    "7422aeaefc6543be9a691950acd979cb": {
     "model_module": "@jupyter-widgets/controls",
     "model_name": "FloatProgressModel",
     "state": {
      "_dom_classes": [],
      "_model_module": "@jupyter-widgets/controls",
      "_model_module_version": "1.5.0",
      "_model_name": "FloatProgressModel",
      "_view_count": null,
      "_view_module": "@jupyter-widgets/controls",
      "_view_module_version": "1.5.0",
      "_view_name": "ProgressView",
      "bar_style": "success",
      "description": "Downloading: 100%",
      "description_tooltip": null,
      "layout": "IPY_MODEL_9595bcb8351a4cd7befeb78c8d014031",
      "max": 2243942751,
      "min": 0,
      "orientation": "horizontal",
      "style": "IPY_MODEL_987d478c025041ed8bd98e87a1753ef3",
      "value": 2243942751
     }
    },
    "7479e5a441034f2c97a16ec6cd57d9f8": {
     "model_module": "@jupyter-widgets/controls",
     "model_name": "DescriptionStyleModel",
     "state": {
      "_model_module": "@jupyter-widgets/controls",
      "_model_module_version": "1.5.0",
      "_model_name": "DescriptionStyleModel",
      "_view_count": null,
      "_view_module": "@jupyter-widgets/base",
      "_view_module_version": "1.2.0",
      "_view_name": "StyleView",
      "description_width": ""
     }
    },
    "751a2bd3e83c49f8bfbffd3a030b58be": {
     "model_module": "@jupyter-widgets/base",
     "model_name": "LayoutModel",
     "state": {
      "_model_module": "@jupyter-widgets/base",
      "_model_module_version": "1.2.0",
      "_model_name": "LayoutModel",
      "_view_count": null,
      "_view_module": "@jupyter-widgets/base",
      "_view_module_version": "1.2.0",
      "_view_name": "LayoutView",
      "align_content": null,
      "align_items": null,
      "align_self": null,
      "border": null,
      "bottom": null,
      "display": null,
      "flex": null,
      "flex_flow": null,
      "grid_area": null,
      "grid_auto_columns": null,
      "grid_auto_flow": null,
      "grid_auto_rows": null,
      "grid_column": null,
      "grid_gap": null,
      "grid_row": null,
      "grid_template_areas": null,
      "grid_template_columns": null,
      "grid_template_rows": null,
      "height": null,
      "justify_content": null,
      "justify_items": null,
      "left": null,
      "margin": null,
      "max_height": null,
      "max_width": null,
      "min_height": null,
      "min_width": null,
      "object_fit": null,
      "object_position": null,
      "order": null,
      "overflow": null,
      "overflow_x": null,
      "overflow_y": null,
      "padding": null,
      "right": null,
      "top": null,
      "visibility": null,
      "width": null
     }
    },
    "76ccbf40b960410b995764e040041675": {
     "model_module": "@jupyter-widgets/controls",
     "model_name": "HTMLModel",
     "state": {
      "_dom_classes": [],
      "_model_module": "@jupyter-widgets/controls",
      "_model_module_version": "1.5.0",
      "_model_name": "HTMLModel",
      "_view_count": null,
      "_view_module": "@jupyter-widgets/controls",
      "_view_module_version": "1.5.0",
      "_view_name": "HTMLView",
      "description": "",
      "description_tooltip": null,
      "layout": "IPY_MODEL_7b952a0bc647428498a42d4fc1b304c8",
      "placeholder": "​",
      "style": "IPY_MODEL_9b0bf10642f74f8fa67a269b20bef84a",
      "value": " 714M/714M [00:20&lt;00:00, 34.7MB/s]"
     }
    },
    "775325926a924e05a61290a266809f82": {
     "model_module": "@jupyter-widgets/controls",
     "model_name": "FloatProgressModel",
     "state": {
      "_dom_classes": [],
      "_model_module": "@jupyter-widgets/controls",
      "_model_module_version": "1.5.0",
      "_model_name": "FloatProgressModel",
      "_view_count": null,
      "_view_module": "@jupyter-widgets/controls",
      "_view_module_version": "1.5.0",
      "_view_name": "ProgressView",
      "bar_style": "success",
      "description": "Downloading: 100%",
      "description_tooltip": null,
      "layout": "IPY_MODEL_7b51edc5f38c4131af2eec4c07952c3b",
      "max": 625,
      "min": 0,
      "orientation": "horizontal",
      "style": "IPY_MODEL_9507941db66a495da20d2097f7c30a86",
      "value": 625
     }
    },
    "794f7442455c4380a979ae73e37af6f2": {
     "model_module": "@jupyter-widgets/controls",
     "model_name": "HBoxModel",
     "state": {
      "_dom_classes": [],
      "_model_module": "@jupyter-widgets/controls",
      "_model_module_version": "1.5.0",
      "_model_name": "HBoxModel",
      "_view_count": null,
      "_view_module": "@jupyter-widgets/controls",
      "_view_module_version": "1.5.0",
      "_view_name": "HBoxView",
      "box_style": "",
      "children": [
       "IPY_MODEL_20cec1cd85d546a5b563be76128ceff1",
       "IPY_MODEL_93cf4067122244debb2be6d836a79cbd"
      ],
      "layout": "IPY_MODEL_aa7c294633bc4f30bb10b75408e653cc"
     }
    },
    "7968c355284f4350883035256963b04f": {
     "model_module": "@jupyter-widgets/base",
     "model_name": "LayoutModel",
     "state": {
      "_model_module": "@jupyter-widgets/base",
      "_model_module_version": "1.2.0",
      "_model_name": "LayoutModel",
      "_view_count": null,
      "_view_module": "@jupyter-widgets/base",
      "_view_module_version": "1.2.0",
      "_view_name": "LayoutView",
      "align_content": null,
      "align_items": null,
      "align_self": null,
      "border": null,
      "bottom": null,
      "display": null,
      "flex": null,
      "flex_flow": null,
      "grid_area": null,
      "grid_auto_columns": null,
      "grid_auto_flow": null,
      "grid_auto_rows": null,
      "grid_column": null,
      "grid_gap": null,
      "grid_row": null,
      "grid_template_areas": null,
      "grid_template_columns": null,
      "grid_template_rows": null,
      "height": null,
      "justify_content": null,
      "justify_items": null,
      "left": null,
      "margin": null,
      "max_height": null,
      "max_width": null,
      "min_height": null,
      "min_width": null,
      "object_fit": null,
      "object_position": null,
      "order": null,
      "overflow": null,
      "overflow_x": null,
      "overflow_y": null,
      "padding": null,
      "right": null,
      "top": null,
      "visibility": null,
      "width": null
     }
    },
    "79f0c3903a8e41a99acf07a73e6e363c": {
     "model_module": "@jupyter-widgets/controls",
     "model_name": "HTMLModel",
     "state": {
      "_dom_classes": [],
      "_model_module": "@jupyter-widgets/controls",
      "_model_module_version": "1.5.0",
      "_model_name": "HTMLModel",
      "_view_count": null,
      "_view_module": "@jupyter-widgets/controls",
      "_view_module_version": "1.5.0",
      "_view_name": "HTMLView",
      "description": "",
      "description_tooltip": null,
      "layout": "IPY_MODEL_a433982322e84b4e9393544e34787e7d",
      "placeholder": "​",
      "style": "IPY_MODEL_03b6d8ef3d094de88c3894f4a51cb326",
      "value": " 466k/466k [00:00&lt;00:00, 467kB/s]"
     }
    },
    "7b51edc5f38c4131af2eec4c07952c3b": {
     "model_module": "@jupyter-widgets/base",
     "model_name": "LayoutModel",
     "state": {
      "_model_module": "@jupyter-widgets/base",
      "_model_module_version": "1.2.0",
      "_model_name": "LayoutModel",
      "_view_count": null,
      "_view_module": "@jupyter-widgets/base",
      "_view_module_version": "1.2.0",
      "_view_name": "LayoutView",
      "align_content": null,
      "align_items": null,
      "align_self": null,
      "border": null,
      "bottom": null,
      "display": null,
      "flex": null,
      "flex_flow": null,
      "grid_area": null,
      "grid_auto_columns": null,
      "grid_auto_flow": null,
      "grid_auto_rows": null,
      "grid_column": null,
      "grid_gap": null,
      "grid_row": null,
      "grid_template_areas": null,
      "grid_template_columns": null,
      "grid_template_rows": null,
      "height": null,
      "justify_content": null,
      "justify_items": null,
      "left": null,
      "margin": null,
      "max_height": null,
      "max_width": null,
      "min_height": null,
      "min_width": null,
      "object_fit": null,
      "object_position": null,
      "order": null,
      "overflow": null,
      "overflow_x": null,
      "overflow_y": null,
      "padding": null,
      "right": null,
      "top": null,
      "visibility": null,
      "width": null
     }
    },
    "7b952a0bc647428498a42d4fc1b304c8": {
     "model_module": "@jupyter-widgets/base",
     "model_name": "LayoutModel",
     "state": {
      "_model_module": "@jupyter-widgets/base",
      "_model_module_version": "1.2.0",
      "_model_name": "LayoutModel",
      "_view_count": null,
      "_view_module": "@jupyter-widgets/base",
      "_view_module_version": "1.2.0",
      "_view_name": "LayoutView",
      "align_content": null,
      "align_items": null,
      "align_self": null,
      "border": null,
      "bottom": null,
      "display": null,
      "flex": null,
      "flex_flow": null,
      "grid_area": null,
      "grid_auto_columns": null,
      "grid_auto_flow": null,
      "grid_auto_rows": null,
      "grid_column": null,
      "grid_gap": null,
      "grid_row": null,
      "grid_template_areas": null,
      "grid_template_columns": null,
      "grid_template_rows": null,
      "height": null,
      "justify_content": null,
      "justify_items": null,
      "left": null,
      "margin": null,
      "max_height": null,
      "max_width": null,
      "min_height": null,
      "min_width": null,
      "object_fit": null,
      "object_position": null,
      "order": null,
      "overflow": null,
      "overflow_x": null,
      "overflow_y": null,
      "padding": null,
      "right": null,
      "top": null,
      "visibility": null,
      "width": null
     }
    },
    "7c07310d8ddb4b96bc59e3c75efdce9b": {
     "model_module": "@jupyter-widgets/controls",
     "model_name": "HTMLModel",
     "state": {
      "_dom_classes": [],
      "_model_module": "@jupyter-widgets/controls",
      "_model_module_version": "1.5.0",
      "_model_name": "HTMLModel",
      "_view_count": null,
      "_view_module": "@jupyter-widgets/controls",
      "_view_module_version": "1.5.0",
      "_view_name": "HTMLView",
      "description": "",
      "description_tooltip": null,
      "layout": "IPY_MODEL_07888905fe7f465385212ebfeccb6ab9",
      "placeholder": "​",
      "style": "IPY_MODEL_6eef796258ea40eebd3b6dc3144db94c",
      "value": " 2.24G/2.24G [00:41&lt;00:00, 53.8MB/s]"
     }
    },
    "7d5ac96040e94ff5934c12b3c04b2b5c": {
     "model_module": "@jupyter-widgets/base",
     "model_name": "LayoutModel",
     "state": {
      "_model_module": "@jupyter-widgets/base",
      "_model_module_version": "1.2.0",
      "_model_name": "LayoutModel",
      "_view_count": null,
      "_view_module": "@jupyter-widgets/base",
      "_view_module_version": "1.2.0",
      "_view_name": "LayoutView",
      "align_content": null,
      "align_items": null,
      "align_self": null,
      "border": null,
      "bottom": null,
      "display": null,
      "flex": null,
      "flex_flow": null,
      "grid_area": null,
      "grid_auto_columns": null,
      "grid_auto_flow": null,
      "grid_auto_rows": null,
      "grid_column": null,
      "grid_gap": null,
      "grid_row": null,
      "grid_template_areas": null,
      "grid_template_columns": null,
      "grid_template_rows": null,
      "height": null,
      "justify_content": null,
      "justify_items": null,
      "left": null,
      "margin": null,
      "max_height": null,
      "max_width": null,
      "min_height": null,
      "min_width": null,
      "object_fit": null,
      "object_position": null,
      "order": null,
      "overflow": null,
      "overflow_x": null,
      "overflow_y": null,
      "padding": null,
      "right": null,
      "top": null,
      "visibility": null,
      "width": null
     }
    },
    "7deda6047f1c4d44a079aa1472fc5624": {
     "model_module": "@jupyter-widgets/controls",
     "model_name": "FloatProgressModel",
     "state": {
      "_dom_classes": [],
      "_model_module": "@jupyter-widgets/controls",
      "_model_module_version": "1.5.0",
      "_model_name": "FloatProgressModel",
      "_view_count": null,
      "_view_module": "@jupyter-widgets/controls",
      "_view_module_version": "1.5.0",
      "_view_name": "ProgressView",
      "bar_style": "success",
      "description": "Downloading: 100%",
      "description_tooltip": null,
      "layout": "IPY_MODEL_6b011b5f27d54e4fb732511350acfc79",
      "max": 1961828,
      "min": 0,
      "orientation": "horizontal",
      "style": "IPY_MODEL_1fcf94d07430413a951199104cf2e118",
      "value": 1961828
     }
    },
    "7f98552bf1d74a9f80c86d6423fbb51e": {
     "model_module": "@jupyter-widgets/controls",
     "model_name": "FloatProgressModel",
     "state": {
      "_dom_classes": [],
      "_model_module": "@jupyter-widgets/controls",
      "_model_module_version": "1.5.0",
      "_model_name": "FloatProgressModel",
      "_view_count": null,
      "_view_module": "@jupyter-widgets/controls",
      "_view_module_version": "1.5.0",
      "_view_name": "ProgressView",
      "bar_style": "success",
      "description": "Downloading: 100%",
      "description_tooltip": null,
      "layout": "IPY_MODEL_c9261ac7009c48d5b8a6e8c906a5cff0",
      "max": 570,
      "min": 0,
      "orientation": "horizontal",
      "style": "IPY_MODEL_eff8b3e56d074950866c69cd89b93bd4",
      "value": 570
     }
    },
    "8130625bb7564da2b16753e376e847c3": {
     "model_module": "@jupyter-widgets/base",
     "model_name": "LayoutModel",
     "state": {
      "_model_module": "@jupyter-widgets/base",
      "_model_module_version": "1.2.0",
      "_model_name": "LayoutModel",
      "_view_count": null,
      "_view_module": "@jupyter-widgets/base",
      "_view_module_version": "1.2.0",
      "_view_name": "LayoutView",
      "align_content": null,
      "align_items": null,
      "align_self": null,
      "border": null,
      "bottom": null,
      "display": null,
      "flex": null,
      "flex_flow": null,
      "grid_area": null,
      "grid_auto_columns": null,
      "grid_auto_flow": null,
      "grid_auto_rows": null,
      "grid_column": null,
      "grid_gap": null,
      "grid_row": null,
      "grid_template_areas": null,
      "grid_template_columns": null,
      "grid_template_rows": null,
      "height": null,
      "justify_content": null,
      "justify_items": null,
      "left": null,
      "margin": null,
      "max_height": null,
      "max_width": null,
      "min_height": null,
      "min_width": null,
      "object_fit": null,
      "object_position": null,
      "order": null,
      "overflow": null,
      "overflow_x": null,
      "overflow_y": null,
      "padding": null,
      "right": null,
      "top": null,
      "visibility": null,
      "width": null
     }
    },
    "8409029c9e134637a14b828342592cee": {
     "model_module": "@jupyter-widgets/base",
     "model_name": "LayoutModel",
     "state": {
      "_model_module": "@jupyter-widgets/base",
      "_model_module_version": "1.2.0",
      "_model_name": "LayoutModel",
      "_view_count": null,
      "_view_module": "@jupyter-widgets/base",
      "_view_module_version": "1.2.0",
      "_view_name": "LayoutView",
      "align_content": null,
      "align_items": null,
      "align_self": null,
      "border": null,
      "bottom": null,
      "display": null,
      "flex": null,
      "flex_flow": null,
      "grid_area": null,
      "grid_auto_columns": null,
      "grid_auto_flow": null,
      "grid_auto_rows": null,
      "grid_column": null,
      "grid_gap": null,
      "grid_row": null,
      "grid_template_areas": null,
      "grid_template_columns": null,
      "grid_template_rows": null,
      "height": null,
      "justify_content": null,
      "justify_items": null,
      "left": null,
      "margin": null,
      "max_height": null,
      "max_width": null,
      "min_height": null,
      "min_width": null,
      "object_fit": null,
      "object_position": null,
      "order": null,
      "overflow": null,
      "overflow_x": null,
      "overflow_y": null,
      "padding": null,
      "right": null,
      "top": null,
      "visibility": null,
      "width": null
     }
    },
    "85263eda10404787a0fc0f561ddc9f6a": {
     "model_module": "@jupyter-widgets/base",
     "model_name": "LayoutModel",
     "state": {
      "_model_module": "@jupyter-widgets/base",
      "_model_module_version": "1.2.0",
      "_model_name": "LayoutModel",
      "_view_count": null,
      "_view_module": "@jupyter-widgets/base",
      "_view_module_version": "1.2.0",
      "_view_name": "LayoutView",
      "align_content": null,
      "align_items": null,
      "align_self": null,
      "border": null,
      "bottom": null,
      "display": null,
      "flex": null,
      "flex_flow": null,
      "grid_area": null,
      "grid_auto_columns": null,
      "grid_auto_flow": null,
      "grid_auto_rows": null,
      "grid_column": null,
      "grid_gap": null,
      "grid_row": null,
      "grid_template_areas": null,
      "grid_template_columns": null,
      "grid_template_rows": null,
      "height": null,
      "justify_content": null,
      "justify_items": null,
      "left": null,
      "margin": null,
      "max_height": null,
      "max_width": null,
      "min_height": null,
      "min_width": null,
      "object_fit": null,
      "object_position": null,
      "order": null,
      "overflow": null,
      "overflow_x": null,
      "overflow_y": null,
      "padding": null,
      "right": null,
      "top": null,
      "visibility": null,
      "width": null
     }
    },
    "860215e14fd74789aeed3ab7833cd652": {
     "model_module": "@jupyter-widgets/base",
     "model_name": "LayoutModel",
     "state": {
      "_model_module": "@jupyter-widgets/base",
      "_model_module_version": "1.2.0",
      "_model_name": "LayoutModel",
      "_view_count": null,
      "_view_module": "@jupyter-widgets/base",
      "_view_module_version": "1.2.0",
      "_view_name": "LayoutView",
      "align_content": null,
      "align_items": null,
      "align_self": null,
      "border": null,
      "bottom": null,
      "display": null,
      "flex": null,
      "flex_flow": null,
      "grid_area": null,
      "grid_auto_columns": null,
      "grid_auto_flow": null,
      "grid_auto_rows": null,
      "grid_column": null,
      "grid_gap": null,
      "grid_row": null,
      "grid_template_areas": null,
      "grid_template_columns": null,
      "grid_template_rows": null,
      "height": null,
      "justify_content": null,
      "justify_items": null,
      "left": null,
      "margin": null,
      "max_height": null,
      "max_width": null,
      "min_height": null,
      "min_width": null,
      "object_fit": null,
      "object_position": null,
      "order": null,
      "overflow": null,
      "overflow_x": null,
      "overflow_y": null,
      "padding": null,
      "right": null,
      "top": null,
      "visibility": null,
      "width": null
     }
    },
    "87eb7035fec14d988e925e4cb1a4ff81": {
     "model_module": "@jupyter-widgets/base",
     "model_name": "LayoutModel",
     "state": {
      "_model_module": "@jupyter-widgets/base",
      "_model_module_version": "1.2.0",
      "_model_name": "LayoutModel",
      "_view_count": null,
      "_view_module": "@jupyter-widgets/base",
      "_view_module_version": "1.2.0",
      "_view_name": "LayoutView",
      "align_content": null,
      "align_items": null,
      "align_self": null,
      "border": null,
      "bottom": null,
      "display": null,
      "flex": null,
      "flex_flow": null,
      "grid_area": null,
      "grid_auto_columns": null,
      "grid_auto_flow": null,
      "grid_auto_rows": null,
      "grid_column": null,
      "grid_gap": null,
      "grid_row": null,
      "grid_template_areas": null,
      "grid_template_columns": null,
      "grid_template_rows": null,
      "height": null,
      "justify_content": null,
      "justify_items": null,
      "left": null,
      "margin": null,
      "max_height": null,
      "max_width": null,
      "min_height": null,
      "min_width": null,
      "object_fit": null,
      "object_position": null,
      "order": null,
      "overflow": null,
      "overflow_x": null,
      "overflow_y": null,
      "padding": null,
      "right": null,
      "top": null,
      "visibility": null,
      "width": null
     }
    },
    "8a9811b951704f0ab4abb4f252b0168e": {
     "model_module": "@jupyter-widgets/controls",
     "model_name": "HBoxModel",
     "state": {
      "_dom_classes": [],
      "_model_module": "@jupyter-widgets/controls",
      "_model_module_version": "1.5.0",
      "_model_name": "HBoxModel",
      "_view_count": null,
      "_view_module": "@jupyter-widgets/controls",
      "_view_module_version": "1.5.0",
      "_view_name": "HBoxView",
      "box_style": "",
      "children": [
       "IPY_MODEL_04197d2cd188412896a0b56f7485c468",
       "IPY_MODEL_ae7e5fe511f643ea82f3667d3a42db6e"
      ],
      "layout": "IPY_MODEL_379d8e7a5c1b48e49b203644d49c5e0c"
     }
    },
    "8c8bbd08525d4ed7aa606b6e873f6b31": {
     "model_module": "@jupyter-widgets/controls",
     "model_name": "ProgressStyleModel",
     "state": {
      "_model_module": "@jupyter-widgets/controls",
      "_model_module_version": "1.5.0",
      "_model_name": "ProgressStyleModel",
      "_view_count": null,
      "_view_module": "@jupyter-widgets/base",
      "_view_module_version": "1.2.0",
      "_view_name": "StyleView",
      "bar_color": null,
      "description_width": "initial"
     }
    },
    "8d1a4071b7164f859c8170971cbb0fda": {
     "model_module": "@jupyter-widgets/controls",
     "model_name": "DescriptionStyleModel",
     "state": {
      "_model_module": "@jupyter-widgets/controls",
      "_model_module_version": "1.5.0",
      "_model_name": "DescriptionStyleModel",
      "_view_count": null,
      "_view_module": "@jupyter-widgets/base",
      "_view_module_version": "1.2.0",
      "_view_name": "StyleView",
      "description_width": ""
     }
    },
    "8d2469f18e97405381c2675455b7bd32": {
     "model_module": "@jupyter-widgets/controls",
     "model_name": "HTMLModel",
     "state": {
      "_dom_classes": [],
      "_model_module": "@jupyter-widgets/controls",
      "_model_module_version": "1.5.0",
      "_model_name": "HTMLModel",
      "_view_count": null,
      "_view_module": "@jupyter-widgets/controls",
      "_view_module_version": "1.5.0",
      "_view_name": "HTMLView",
      "description": "",
      "description_tooltip": null,
      "layout": "IPY_MODEL_ba0dc1dc705f48059126019f20d8d414",
      "placeholder": "​",
      "style": "IPY_MODEL_8d1a4071b7164f859c8170971cbb0fda",
      "value": " 29.0/29.0 [00:01&lt;00:00, 14.9B/s]"
     }
    },
    "8eafd34c7a5d4ce5a4ac6fe646a450cf": {
     "model_module": "@jupyter-widgets/base",
     "model_name": "LayoutModel",
     "state": {
      "_model_module": "@jupyter-widgets/base",
      "_model_module_version": "1.2.0",
      "_model_name": "LayoutModel",
      "_view_count": null,
      "_view_module": "@jupyter-widgets/base",
      "_view_module_version": "1.2.0",
      "_view_name": "LayoutView",
      "align_content": null,
      "align_items": null,
      "align_self": null,
      "border": null,
      "bottom": null,
      "display": null,
      "flex": null,
      "flex_flow": null,
      "grid_area": null,
      "grid_auto_columns": null,
      "grid_auto_flow": null,
      "grid_auto_rows": null,
      "grid_column": null,
      "grid_gap": null,
      "grid_row": null,
      "grid_template_areas": null,
      "grid_template_columns": null,
      "grid_template_rows": null,
      "height": null,
      "justify_content": null,
      "justify_items": null,
      "left": null,
      "margin": null,
      "max_height": null,
      "max_width": null,
      "min_height": null,
      "min_width": null,
      "object_fit": null,
      "object_position": null,
      "order": null,
      "overflow": null,
      "overflow_x": null,
      "overflow_y": null,
      "padding": null,
      "right": null,
      "top": null,
      "visibility": null,
      "width": null
     }
    },
    "8f1f81e9d60645bea6b5608b06de355f": {
     "model_module": "@jupyter-widgets/controls",
     "model_name": "ProgressStyleModel",
     "state": {
      "_model_module": "@jupyter-widgets/controls",
      "_model_module_version": "1.5.0",
      "_model_name": "ProgressStyleModel",
      "_view_count": null,
      "_view_module": "@jupyter-widgets/base",
      "_view_module_version": "1.2.0",
      "_view_name": "StyleView",
      "bar_color": null,
      "description_width": "initial"
     }
    },
    "93cf4067122244debb2be6d836a79cbd": {
     "model_module": "@jupyter-widgets/controls",
     "model_name": "HTMLModel",
     "state": {
      "_dom_classes": [],
      "_model_module": "@jupyter-widgets/controls",
      "_model_module_version": "1.5.0",
      "_model_name": "HTMLModel",
      "_view_count": null,
      "_view_module": "@jupyter-widgets/controls",
      "_view_module_version": "1.5.0",
      "_view_name": "HTMLView",
      "description": "",
      "description_tooltip": null,
      "layout": "IPY_MODEL_7d5ac96040e94ff5934c12b3c04b2b5c",
      "placeholder": "​",
      "style": "IPY_MODEL_fd83414a151b4f5fa85162bd6fc2fc33",
      "value": " 232k/232k [00:01&lt;00:00, 148kB/s]"
     }
    },
    "94b14c6c05a84425ac298f2f00ff6970": {
     "model_module": "@jupyter-widgets/base",
     "model_name": "LayoutModel",
     "state": {
      "_model_module": "@jupyter-widgets/base",
      "_model_module_version": "1.2.0",
      "_model_name": "LayoutModel",
      "_view_count": null,
      "_view_module": "@jupyter-widgets/base",
      "_view_module_version": "1.2.0",
      "_view_name": "LayoutView",
      "align_content": null,
      "align_items": null,
      "align_self": null,
      "border": null,
      "bottom": null,
      "display": null,
      "flex": null,
      "flex_flow": null,
      "grid_area": null,
      "grid_auto_columns": null,
      "grid_auto_flow": null,
      "grid_auto_rows": null,
      "grid_column": null,
      "grid_gap": null,
      "grid_row": null,
      "grid_template_areas": null,
      "grid_template_columns": null,
      "grid_template_rows": null,
      "height": null,
      "justify_content": null,
      "justify_items": null,
      "left": null,
      "margin": null,
      "max_height": null,
      "max_width": null,
      "min_height": null,
      "min_width": null,
      "object_fit": null,
      "object_position": null,
      "order": null,
      "overflow": null,
      "overflow_x": null,
      "overflow_y": null,
      "padding": null,
      "right": null,
      "top": null,
      "visibility": null,
      "width": null
     }
    },
    "9507941db66a495da20d2097f7c30a86": {
     "model_module": "@jupyter-widgets/controls",
     "model_name": "ProgressStyleModel",
     "state": {
      "_model_module": "@jupyter-widgets/controls",
      "_model_module_version": "1.5.0",
      "_model_name": "ProgressStyleModel",
      "_view_count": null,
      "_view_module": "@jupyter-widgets/base",
      "_view_module_version": "1.2.0",
      "_view_name": "StyleView",
      "bar_color": null,
      "description_width": "initial"
     }
    },
    "9595bcb8351a4cd7befeb78c8d014031": {
     "model_module": "@jupyter-widgets/base",
     "model_name": "LayoutModel",
     "state": {
      "_model_module": "@jupyter-widgets/base",
      "_model_module_version": "1.2.0",
      "_model_name": "LayoutModel",
      "_view_count": null,
      "_view_module": "@jupyter-widgets/base",
      "_view_module_version": "1.2.0",
      "_view_name": "LayoutView",
      "align_content": null,
      "align_items": null,
      "align_self": null,
      "border": null,
      "bottom": null,
      "display": null,
      "flex": null,
      "flex_flow": null,
      "grid_area": null,
      "grid_auto_columns": null,
      "grid_auto_flow": null,
      "grid_auto_rows": null,
      "grid_column": null,
      "grid_gap": null,
      "grid_row": null,
      "grid_template_areas": null,
      "grid_template_columns": null,
      "grid_template_rows": null,
      "height": null,
      "justify_content": null,
      "justify_items": null,
      "left": null,
      "margin": null,
      "max_height": null,
      "max_width": null,
      "min_height": null,
      "min_width": null,
      "object_fit": null,
      "object_position": null,
      "order": null,
      "overflow": null,
      "overflow_x": null,
      "overflow_y": null,
      "padding": null,
      "right": null,
      "top": null,
      "visibility": null,
      "width": null
     }
    },
    "9682ee9cc14d465c923952f49d69d80b": {
     "model_module": "@jupyter-widgets/base",
     "model_name": "LayoutModel",
     "state": {
      "_model_module": "@jupyter-widgets/base",
      "_model_module_version": "1.2.0",
      "_model_name": "LayoutModel",
      "_view_count": null,
      "_view_module": "@jupyter-widgets/base",
      "_view_module_version": "1.2.0",
      "_view_name": "LayoutView",
      "align_content": null,
      "align_items": null,
      "align_self": null,
      "border": null,
      "bottom": null,
      "display": null,
      "flex": null,
      "flex_flow": null,
      "grid_area": null,
      "grid_auto_columns": null,
      "grid_auto_flow": null,
      "grid_auto_rows": null,
      "grid_column": null,
      "grid_gap": null,
      "grid_row": null,
      "grid_template_areas": null,
      "grid_template_columns": null,
      "grid_template_rows": null,
      "height": null,
      "justify_content": null,
      "justify_items": null,
      "left": null,
      "margin": null,
      "max_height": null,
      "max_width": null,
      "min_height": null,
      "min_width": null,
      "object_fit": null,
      "object_position": null,
      "order": null,
      "overflow": null,
      "overflow_x": null,
      "overflow_y": null,
      "padding": null,
      "right": null,
      "top": null,
      "visibility": null,
      "width": null
     }
    },
    "97bf74c6d45945139e38dfa737472114": {
     "model_module": "@jupyter-widgets/base",
     "model_name": "LayoutModel",
     "state": {
      "_model_module": "@jupyter-widgets/base",
      "_model_module_version": "1.2.0",
      "_model_name": "LayoutModel",
      "_view_count": null,
      "_view_module": "@jupyter-widgets/base",
      "_view_module_version": "1.2.0",
      "_view_name": "LayoutView",
      "align_content": null,
      "align_items": null,
      "align_self": null,
      "border": null,
      "bottom": null,
      "display": null,
      "flex": null,
      "flex_flow": null,
      "grid_area": null,
      "grid_auto_columns": null,
      "grid_auto_flow": null,
      "grid_auto_rows": null,
      "grid_column": null,
      "grid_gap": null,
      "grid_row": null,
      "grid_template_areas": null,
      "grid_template_columns": null,
      "grid_template_rows": null,
      "height": null,
      "justify_content": null,
      "justify_items": null,
      "left": null,
      "margin": null,
      "max_height": null,
      "max_width": null,
      "min_height": null,
      "min_width": null,
      "object_fit": null,
      "object_position": null,
      "order": null,
      "overflow": null,
      "overflow_x": null,
      "overflow_y": null,
      "padding": null,
      "right": null,
      "top": null,
      "visibility": null,
      "width": null
     }
    },
    "980b2c43f0734731803fedcac16fc79e": {
     "model_module": "@jupyter-widgets/controls",
     "model_name": "ProgressStyleModel",
     "state": {
      "_model_module": "@jupyter-widgets/controls",
      "_model_module_version": "1.5.0",
      "_model_name": "ProgressStyleModel",
      "_view_count": null,
      "_view_module": "@jupyter-widgets/base",
      "_view_module_version": "1.2.0",
      "_view_name": "StyleView",
      "bar_color": null,
      "description_width": "initial"
     }
    },
    "987d478c025041ed8bd98e87a1753ef3": {
     "model_module": "@jupyter-widgets/controls",
     "model_name": "ProgressStyleModel",
     "state": {
      "_model_module": "@jupyter-widgets/controls",
      "_model_module_version": "1.5.0",
      "_model_name": "ProgressStyleModel",
      "_view_count": null,
      "_view_module": "@jupyter-widgets/base",
      "_view_module_version": "1.2.0",
      "_view_name": "StyleView",
      "bar_color": null,
      "description_width": "initial"
     }
    },
    "98ce1c8c3327407890053e7d15a09a14": {
     "model_module": "@jupyter-widgets/controls",
     "model_name": "DescriptionStyleModel",
     "state": {
      "_model_module": "@jupyter-widgets/controls",
      "_model_module_version": "1.5.0",
      "_model_name": "DescriptionStyleModel",
      "_view_count": null,
      "_view_module": "@jupyter-widgets/base",
      "_view_module_version": "1.2.0",
      "_view_name": "StyleView",
      "description_width": ""
     }
    },
    "9b0bf10642f74f8fa67a269b20bef84a": {
     "model_module": "@jupyter-widgets/controls",
     "model_name": "DescriptionStyleModel",
     "state": {
      "_model_module": "@jupyter-widgets/controls",
      "_model_module_version": "1.5.0",
      "_model_name": "DescriptionStyleModel",
      "_view_count": null,
      "_view_module": "@jupyter-widgets/base",
      "_view_module_version": "1.2.0",
      "_view_name": "StyleView",
      "description_width": ""
     }
    },
    "9b8aaff8e166463597407d45ae9d4ff2": {
     "model_module": "@jupyter-widgets/controls",
     "model_name": "DescriptionStyleModel",
     "state": {
      "_model_module": "@jupyter-widgets/controls",
      "_model_module_version": "1.5.0",
      "_model_name": "DescriptionStyleModel",
      "_view_count": null,
      "_view_module": "@jupyter-widgets/base",
      "_view_module_version": "1.2.0",
      "_view_name": "StyleView",
      "description_width": ""
     }
    },
    "9fcda2ddc80941d9bebb8c6658e1593d": {
     "model_module": "@jupyter-widgets/base",
     "model_name": "LayoutModel",
     "state": {
      "_model_module": "@jupyter-widgets/base",
      "_model_module_version": "1.2.0",
      "_model_name": "LayoutModel",
      "_view_count": null,
      "_view_module": "@jupyter-widgets/base",
      "_view_module_version": "1.2.0",
      "_view_name": "LayoutView",
      "align_content": null,
      "align_items": null,
      "align_self": null,
      "border": null,
      "bottom": null,
      "display": null,
      "flex": null,
      "flex_flow": null,
      "grid_area": null,
      "grid_auto_columns": null,
      "grid_auto_flow": null,
      "grid_auto_rows": null,
      "grid_column": null,
      "grid_gap": null,
      "grid_row": null,
      "grid_template_areas": null,
      "grid_template_columns": null,
      "grid_template_rows": null,
      "height": null,
      "justify_content": null,
      "justify_items": null,
      "left": null,
      "margin": null,
      "max_height": null,
      "max_width": null,
      "min_height": null,
      "min_width": null,
      "object_fit": null,
      "object_position": null,
      "order": null,
      "overflow": null,
      "overflow_x": null,
      "overflow_y": null,
      "padding": null,
      "right": null,
      "top": null,
      "visibility": null,
      "width": null
     }
    },
    "a1f6ac94a49e45a0b83b91b015a9d95a": {
     "model_module": "@jupyter-widgets/base",
     "model_name": "LayoutModel",
     "state": {
      "_model_module": "@jupyter-widgets/base",
      "_model_module_version": "1.2.0",
      "_model_name": "LayoutModel",
      "_view_count": null,
      "_view_module": "@jupyter-widgets/base",
      "_view_module_version": "1.2.0",
      "_view_name": "LayoutView",
      "align_content": null,
      "align_items": null,
      "align_self": null,
      "border": null,
      "bottom": null,
      "display": null,
      "flex": null,
      "flex_flow": null,
      "grid_area": null,
      "grid_auto_columns": null,
      "grid_auto_flow": null,
      "grid_auto_rows": null,
      "grid_column": null,
      "grid_gap": null,
      "grid_row": null,
      "grid_template_areas": null,
      "grid_template_columns": null,
      "grid_template_rows": null,
      "height": null,
      "justify_content": null,
      "justify_items": null,
      "left": null,
      "margin": null,
      "max_height": null,
      "max_width": null,
      "min_height": null,
      "min_width": null,
      "object_fit": null,
      "object_position": null,
      "order": null,
      "overflow": null,
      "overflow_x": null,
      "overflow_y": null,
      "padding": null,
      "right": null,
      "top": null,
      "visibility": null,
      "width": null
     }
    },
    "a3a89b75aae24afdad19833519cc42c9": {
     "model_module": "@jupyter-widgets/controls",
     "model_name": "DescriptionStyleModel",
     "state": {
      "_model_module": "@jupyter-widgets/controls",
      "_model_module_version": "1.5.0",
      "_model_name": "DescriptionStyleModel",
      "_view_count": null,
      "_view_module": "@jupyter-widgets/base",
      "_view_module_version": "1.2.0",
      "_view_name": "StyleView",
      "description_width": ""
     }
    },
    "a3c425e980d6464baef2c780bf9e7f37": {
     "model_module": "@jupyter-widgets/controls",
     "model_name": "ProgressStyleModel",
     "state": {
      "_model_module": "@jupyter-widgets/controls",
      "_model_module_version": "1.5.0",
      "_model_name": "ProgressStyleModel",
      "_view_count": null,
      "_view_module": "@jupyter-widgets/base",
      "_view_module_version": "1.2.0",
      "_view_name": "StyleView",
      "bar_color": null,
      "description_width": "initial"
     }
    },
    "a433982322e84b4e9393544e34787e7d": {
     "model_module": "@jupyter-widgets/base",
     "model_name": "LayoutModel",
     "state": {
      "_model_module": "@jupyter-widgets/base",
      "_model_module_version": "1.2.0",
      "_model_name": "LayoutModel",
      "_view_count": null,
      "_view_module": "@jupyter-widgets/base",
      "_view_module_version": "1.2.0",
      "_view_name": "LayoutView",
      "align_content": null,
      "align_items": null,
      "align_self": null,
      "border": null,
      "bottom": null,
      "display": null,
      "flex": null,
      "flex_flow": null,
      "grid_area": null,
      "grid_auto_columns": null,
      "grid_auto_flow": null,
      "grid_auto_rows": null,
      "grid_column": null,
      "grid_gap": null,
      "grid_row": null,
      "grid_template_areas": null,
      "grid_template_columns": null,
      "grid_template_rows": null,
      "height": null,
      "justify_content": null,
      "justify_items": null,
      "left": null,
      "margin": null,
      "max_height": null,
      "max_width": null,
      "min_height": null,
      "min_width": null,
      "object_fit": null,
      "object_position": null,
      "order": null,
      "overflow": null,
      "overflow_x": null,
      "overflow_y": null,
      "padding": null,
      "right": null,
      "top": null,
      "visibility": null,
      "width": null
     }
    },
    "a587d0d63e444f73a1e90b898e25588b": {
     "model_module": "@jupyter-widgets/base",
     "model_name": "LayoutModel",
     "state": {
      "_model_module": "@jupyter-widgets/base",
      "_model_module_version": "1.2.0",
      "_model_name": "LayoutModel",
      "_view_count": null,
      "_view_module": "@jupyter-widgets/base",
      "_view_module_version": "1.2.0",
      "_view_name": "LayoutView",
      "align_content": null,
      "align_items": null,
      "align_self": null,
      "border": null,
      "bottom": null,
      "display": null,
      "flex": null,
      "flex_flow": null,
      "grid_area": null,
      "grid_auto_columns": null,
      "grid_auto_flow": null,
      "grid_auto_rows": null,
      "grid_column": null,
      "grid_gap": null,
      "grid_row": null,
      "grid_template_areas": null,
      "grid_template_columns": null,
      "grid_template_rows": null,
      "height": null,
      "justify_content": null,
      "justify_items": null,
      "left": null,
      "margin": null,
      "max_height": null,
      "max_width": null,
      "min_height": null,
      "min_width": null,
      "object_fit": null,
      "object_position": null,
      "order": null,
      "overflow": null,
      "overflow_x": null,
      "overflow_y": null,
      "padding": null,
      "right": null,
      "top": null,
      "visibility": null,
      "width": null
     }
    },
    "a845c76645f441e38b9bbaad98fd46f5": {
     "model_module": "@jupyter-widgets/controls",
     "model_name": "DescriptionStyleModel",
     "state": {
      "_model_module": "@jupyter-widgets/controls",
      "_model_module_version": "1.5.0",
      "_model_name": "DescriptionStyleModel",
      "_view_count": null,
      "_view_module": "@jupyter-widgets/base",
      "_view_module_version": "1.2.0",
      "_view_name": "StyleView",
      "description_width": ""
     }
    },
    "aa313144ba444c39a6a75faf9869b0da": {
     "model_module": "@jupyter-widgets/base",
     "model_name": "LayoutModel",
     "state": {
      "_model_module": "@jupyter-widgets/base",
      "_model_module_version": "1.2.0",
      "_model_name": "LayoutModel",
      "_view_count": null,
      "_view_module": "@jupyter-widgets/base",
      "_view_module_version": "1.2.0",
      "_view_name": "LayoutView",
      "align_content": null,
      "align_items": null,
      "align_self": null,
      "border": null,
      "bottom": null,
      "display": null,
      "flex": null,
      "flex_flow": null,
      "grid_area": null,
      "grid_auto_columns": null,
      "grid_auto_flow": null,
      "grid_auto_rows": null,
      "grid_column": null,
      "grid_gap": null,
      "grid_row": null,
      "grid_template_areas": null,
      "grid_template_columns": null,
      "grid_template_rows": null,
      "height": null,
      "justify_content": null,
      "justify_items": null,
      "left": null,
      "margin": null,
      "max_height": null,
      "max_width": null,
      "min_height": null,
      "min_width": null,
      "object_fit": null,
      "object_position": null,
      "order": null,
      "overflow": null,
      "overflow_x": null,
      "overflow_y": null,
      "padding": null,
      "right": null,
      "top": null,
      "visibility": null,
      "width": null
     }
    },
    "aa7c294633bc4f30bb10b75408e653cc": {
     "model_module": "@jupyter-widgets/base",
     "model_name": "LayoutModel",
     "state": {
      "_model_module": "@jupyter-widgets/base",
      "_model_module_version": "1.2.0",
      "_model_name": "LayoutModel",
      "_view_count": null,
      "_view_module": "@jupyter-widgets/base",
      "_view_module_version": "1.2.0",
      "_view_name": "LayoutView",
      "align_content": null,
      "align_items": null,
      "align_self": null,
      "border": null,
      "bottom": null,
      "display": null,
      "flex": null,
      "flex_flow": null,
      "grid_area": null,
      "grid_auto_columns": null,
      "grid_auto_flow": null,
      "grid_auto_rows": null,
      "grid_column": null,
      "grid_gap": null,
      "grid_row": null,
      "grid_template_areas": null,
      "grid_template_columns": null,
      "grid_template_rows": null,
      "height": null,
      "justify_content": null,
      "justify_items": null,
      "left": null,
      "margin": null,
      "max_height": null,
      "max_width": null,
      "min_height": null,
      "min_width": null,
      "object_fit": null,
      "object_position": null,
      "order": null,
      "overflow": null,
      "overflow_x": null,
      "overflow_y": null,
      "padding": null,
      "right": null,
      "top": null,
      "visibility": null,
      "width": null
     }
    },
    "ad82e651135a492cbd24335f207313f8": {
     "model_module": "@jupyter-widgets/controls",
     "model_name": "ProgressStyleModel",
     "state": {
      "_model_module": "@jupyter-widgets/controls",
      "_model_module_version": "1.5.0",
      "_model_name": "ProgressStyleModel",
      "_view_count": null,
      "_view_module": "@jupyter-widgets/base",
      "_view_module_version": "1.2.0",
      "_view_name": "StyleView",
      "bar_color": null,
      "description_width": "initial"
     }
    },
    "ade8b9850a364fe8aaf768e16928df45": {
     "model_module": "@jupyter-widgets/base",
     "model_name": "LayoutModel",
     "state": {
      "_model_module": "@jupyter-widgets/base",
      "_model_module_version": "1.2.0",
      "_model_name": "LayoutModel",
      "_view_count": null,
      "_view_module": "@jupyter-widgets/base",
      "_view_module_version": "1.2.0",
      "_view_name": "LayoutView",
      "align_content": null,
      "align_items": null,
      "align_self": null,
      "border": null,
      "bottom": null,
      "display": null,
      "flex": null,
      "flex_flow": null,
      "grid_area": null,
      "grid_auto_columns": null,
      "grid_auto_flow": null,
      "grid_auto_rows": null,
      "grid_column": null,
      "grid_gap": null,
      "grid_row": null,
      "grid_template_areas": null,
      "grid_template_columns": null,
      "grid_template_rows": null,
      "height": null,
      "justify_content": null,
      "justify_items": null,
      "left": null,
      "margin": null,
      "max_height": null,
      "max_width": null,
      "min_height": null,
      "min_width": null,
      "object_fit": null,
      "object_position": null,
      "order": null,
      "overflow": null,
      "overflow_x": null,
      "overflow_y": null,
      "padding": null,
      "right": null,
      "top": null,
      "visibility": null,
      "width": null
     }
    },
    "ae7e5fe511f643ea82f3667d3a42db6e": {
     "model_module": "@jupyter-widgets/controls",
     "model_name": "HTMLModel",
     "state": {
      "_dom_classes": [],
      "_model_module": "@jupyter-widgets/controls",
      "_model_module_version": "1.5.0",
      "_model_name": "HTMLModel",
      "_view_count": null,
      "_view_module": "@jupyter-widgets/controls",
      "_view_module_version": "1.5.0",
      "_view_name": "HTMLView",
      "description": "",
      "description_tooltip": null,
      "layout": "IPY_MODEL_cdb664d5dc8849cbb219698f9737dd45",
      "placeholder": "​",
      "style": "IPY_MODEL_bb63f122a6c0428483bd6672f32884d7",
      "value": " 996k/996k [00:01&lt;00:00, 587kB/s]"
     }
    },
    "af0b40c2865748479dea295b349a2a6b": {
     "model_module": "@jupyter-widgets/base",
     "model_name": "LayoutModel",
     "state": {
      "_model_module": "@jupyter-widgets/base",
      "_model_module_version": "1.2.0",
      "_model_name": "LayoutModel",
      "_view_count": null,
      "_view_module": "@jupyter-widgets/base",
      "_view_module_version": "1.2.0",
      "_view_name": "LayoutView",
      "align_content": null,
      "align_items": null,
      "align_self": null,
      "border": null,
      "bottom": null,
      "display": null,
      "flex": null,
      "flex_flow": null,
      "grid_area": null,
      "grid_auto_columns": null,
      "grid_auto_flow": null,
      "grid_auto_rows": null,
      "grid_column": null,
      "grid_gap": null,
      "grid_row": null,
      "grid_template_areas": null,
      "grid_template_columns": null,
      "grid_template_rows": null,
      "height": null,
      "justify_content": null,
      "justify_items": null,
      "left": null,
      "margin": null,
      "max_height": null,
      "max_width": null,
      "min_height": null,
      "min_width": null,
      "object_fit": null,
      "object_position": null,
      "order": null,
      "overflow": null,
      "overflow_x": null,
      "overflow_y": null,
      "padding": null,
      "right": null,
      "top": null,
      "visibility": null,
      "width": null
     }
    },
    "b064b453307a443bae345c54c607a56f": {
     "model_module": "@jupyter-widgets/controls",
     "model_name": "HBoxModel",
     "state": {
      "_dom_classes": [],
      "_model_module": "@jupyter-widgets/controls",
      "_model_module_version": "1.5.0",
      "_model_name": "HBoxModel",
      "_view_count": null,
      "_view_module": "@jupyter-widgets/controls",
      "_view_module_version": "1.5.0",
      "_view_name": "HBoxView",
      "box_style": "",
      "children": [
       "IPY_MODEL_f87ad32bfe934ebd966256b14aca9c29",
       "IPY_MODEL_3181742cbef144baaa52fad69ffb290a"
      ],
      "layout": "IPY_MODEL_706b8180882b45aa97581ff1e18bf9f3"
     }
    },
    "b0a4f9ed800c407393e60b6b8cb6f44c": {
     "model_module": "@jupyter-widgets/base",
     "model_name": "LayoutModel",
     "state": {
      "_model_module": "@jupyter-widgets/base",
      "_model_module_version": "1.2.0",
      "_model_name": "LayoutModel",
      "_view_count": null,
      "_view_module": "@jupyter-widgets/base",
      "_view_module_version": "1.2.0",
      "_view_name": "LayoutView",
      "align_content": null,
      "align_items": null,
      "align_self": null,
      "border": null,
      "bottom": null,
      "display": null,
      "flex": null,
      "flex_flow": null,
      "grid_area": null,
      "grid_auto_columns": null,
      "grid_auto_flow": null,
      "grid_auto_rows": null,
      "grid_column": null,
      "grid_gap": null,
      "grid_row": null,
      "grid_template_areas": null,
      "grid_template_columns": null,
      "grid_template_rows": null,
      "height": null,
      "justify_content": null,
      "justify_items": null,
      "left": null,
      "margin": null,
      "max_height": null,
      "max_width": null,
      "min_height": null,
      "min_width": null,
      "object_fit": null,
      "object_position": null,
      "order": null,
      "overflow": null,
      "overflow_x": null,
      "overflow_y": null,
      "padding": null,
      "right": null,
      "top": null,
      "visibility": null,
      "width": null
     }
    },
    "b22d60cb4b3f4fdba9c2bee991232cb1": {
     "model_module": "@jupyter-widgets/base",
     "model_name": "LayoutModel",
     "state": {
      "_model_module": "@jupyter-widgets/base",
      "_model_module_version": "1.2.0",
      "_model_name": "LayoutModel",
      "_view_count": null,
      "_view_module": "@jupyter-widgets/base",
      "_view_module_version": "1.2.0",
      "_view_name": "LayoutView",
      "align_content": null,
      "align_items": null,
      "align_self": null,
      "border": null,
      "bottom": null,
      "display": null,
      "flex": null,
      "flex_flow": null,
      "grid_area": null,
      "grid_auto_columns": null,
      "grid_auto_flow": null,
      "grid_auto_rows": null,
      "grid_column": null,
      "grid_gap": null,
      "grid_row": null,
      "grid_template_areas": null,
      "grid_template_columns": null,
      "grid_template_rows": null,
      "height": null,
      "justify_content": null,
      "justify_items": null,
      "left": null,
      "margin": null,
      "max_height": null,
      "max_width": null,
      "min_height": null,
      "min_width": null,
      "object_fit": null,
      "object_position": null,
      "order": null,
      "overflow": null,
      "overflow_x": null,
      "overflow_y": null,
      "padding": null,
      "right": null,
      "top": null,
      "visibility": null,
      "width": null
     }
    },
    "b526dc8c3063440ea16bfd52c52caf41": {
     "model_module": "@jupyter-widgets/base",
     "model_name": "LayoutModel",
     "state": {
      "_model_module": "@jupyter-widgets/base",
      "_model_module_version": "1.2.0",
      "_model_name": "LayoutModel",
      "_view_count": null,
      "_view_module": "@jupyter-widgets/base",
      "_view_module_version": "1.2.0",
      "_view_name": "LayoutView",
      "align_content": null,
      "align_items": null,
      "align_self": null,
      "border": null,
      "bottom": null,
      "display": null,
      "flex": null,
      "flex_flow": null,
      "grid_area": null,
      "grid_auto_columns": null,
      "grid_auto_flow": null,
      "grid_auto_rows": null,
      "grid_column": null,
      "grid_gap": null,
      "grid_row": null,
      "grid_template_areas": null,
      "grid_template_columns": null,
      "grid_template_rows": null,
      "height": null,
      "justify_content": null,
      "justify_items": null,
      "left": null,
      "margin": null,
      "max_height": null,
      "max_width": null,
      "min_height": null,
      "min_width": null,
      "object_fit": null,
      "object_position": null,
      "order": null,
      "overflow": null,
      "overflow_x": null,
      "overflow_y": null,
      "padding": null,
      "right": null,
      "top": null,
      "visibility": null,
      "width": null
     }
    },
    "b9a285b888694264b72d69b6a07b8fb4": {
     "model_module": "@jupyter-widgets/controls",
     "model_name": "ProgressStyleModel",
     "state": {
      "_model_module": "@jupyter-widgets/controls",
      "_model_module_version": "1.5.0",
      "_model_name": "ProgressStyleModel",
      "_view_count": null,
      "_view_module": "@jupyter-widgets/base",
      "_view_module_version": "1.2.0",
      "_view_name": "StyleView",
      "bar_color": null,
      "description_width": "initial"
     }
    },
    "b9a64a9efc834787b7037951c9e53f7f": {
     "model_module": "@jupyter-widgets/controls",
     "model_name": "HTMLModel",
     "state": {
      "_dom_classes": [],
      "_model_module": "@jupyter-widgets/controls",
      "_model_module_version": "1.5.0",
      "_model_name": "HTMLModel",
      "_view_count": null,
      "_view_module": "@jupyter-widgets/controls",
      "_view_module_version": "1.5.0",
      "_view_name": "HTMLView",
      "description": "",
      "description_tooltip": null,
      "layout": "IPY_MODEL_66c7b97965e14730856e6843662453f8",
      "placeholder": "​",
      "style": "IPY_MODEL_4f1d9cee04ed4a1dbda236a78e56622c",
      "value": " 2.24G/2.24G [01:19&lt;00:00, 28.2MB/s]"
     }
    },
    "ba0dc1dc705f48059126019f20d8d414": {
     "model_module": "@jupyter-widgets/base",
     "model_name": "LayoutModel",
     "state": {
      "_model_module": "@jupyter-widgets/base",
      "_model_module_version": "1.2.0",
      "_model_name": "LayoutModel",
      "_view_count": null,
      "_view_module": "@jupyter-widgets/base",
      "_view_module_version": "1.2.0",
      "_view_name": "LayoutView",
      "align_content": null,
      "align_items": null,
      "align_self": null,
      "border": null,
      "bottom": null,
      "display": null,
      "flex": null,
      "flex_flow": null,
      "grid_area": null,
      "grid_auto_columns": null,
      "grid_auto_flow": null,
      "grid_auto_rows": null,
      "grid_column": null,
      "grid_gap": null,
      "grid_row": null,
      "grid_template_areas": null,
      "grid_template_columns": null,
      "grid_template_rows": null,
      "height": null,
      "justify_content": null,
      "justify_items": null,
      "left": null,
      "margin": null,
      "max_height": null,
      "max_width": null,
      "min_height": null,
      "min_width": null,
      "object_fit": null,
      "object_position": null,
      "order": null,
      "overflow": null,
      "overflow_x": null,
      "overflow_y": null,
      "padding": null,
      "right": null,
      "top": null,
      "visibility": null,
      "width": null
     }
    },
    "bb63f122a6c0428483bd6672f32884d7": {
     "model_module": "@jupyter-widgets/controls",
     "model_name": "DescriptionStyleModel",
     "state": {
      "_model_module": "@jupyter-widgets/controls",
      "_model_module_version": "1.5.0",
      "_model_name": "DescriptionStyleModel",
      "_view_count": null,
      "_view_module": "@jupyter-widgets/base",
      "_view_module_version": "1.2.0",
      "_view_name": "StyleView",
      "description_width": ""
     }
    },
    "bc40f8442bb04d1495d67f8b7e524087": {
     "model_module": "@jupyter-widgets/base",
     "model_name": "LayoutModel",
     "state": {
      "_model_module": "@jupyter-widgets/base",
      "_model_module_version": "1.2.0",
      "_model_name": "LayoutModel",
      "_view_count": null,
      "_view_module": "@jupyter-widgets/base",
      "_view_module_version": "1.2.0",
      "_view_name": "LayoutView",
      "align_content": null,
      "align_items": null,
      "align_self": null,
      "border": null,
      "bottom": null,
      "display": null,
      "flex": null,
      "flex_flow": null,
      "grid_area": null,
      "grid_auto_columns": null,
      "grid_auto_flow": null,
      "grid_auto_rows": null,
      "grid_column": null,
      "grid_gap": null,
      "grid_row": null,
      "grid_template_areas": null,
      "grid_template_columns": null,
      "grid_template_rows": null,
      "height": null,
      "justify_content": null,
      "justify_items": null,
      "left": null,
      "margin": null,
      "max_height": null,
      "max_width": null,
      "min_height": null,
      "min_width": null,
      "object_fit": null,
      "object_position": null,
      "order": null,
      "overflow": null,
      "overflow_x": null,
      "overflow_y": null,
      "padding": null,
      "right": null,
      "top": null,
      "visibility": null,
      "width": null
     }
    },
    "bcd1df29e7184c5b8bd0f3ddc415751a": {
     "model_module": "@jupyter-widgets/base",
     "model_name": "LayoutModel",
     "state": {
      "_model_module": "@jupyter-widgets/base",
      "_model_module_version": "1.2.0",
      "_model_name": "LayoutModel",
      "_view_count": null,
      "_view_module": "@jupyter-widgets/base",
      "_view_module_version": "1.2.0",
      "_view_name": "LayoutView",
      "align_content": null,
      "align_items": null,
      "align_self": null,
      "border": null,
      "bottom": null,
      "display": null,
      "flex": null,
      "flex_flow": null,
      "grid_area": null,
      "grid_auto_columns": null,
      "grid_auto_flow": null,
      "grid_auto_rows": null,
      "grid_column": null,
      "grid_gap": null,
      "grid_row": null,
      "grid_template_areas": null,
      "grid_template_columns": null,
      "grid_template_rows": null,
      "height": null,
      "justify_content": null,
      "justify_items": null,
      "left": null,
      "margin": null,
      "max_height": null,
      "max_width": null,
      "min_height": null,
      "min_width": null,
      "object_fit": null,
      "object_position": null,
      "order": null,
      "overflow": null,
      "overflow_x": null,
      "overflow_y": null,
      "padding": null,
      "right": null,
      "top": null,
      "visibility": null,
      "width": null
     }
    },
    "bcdfb2ff1b9e48f59ec154a0953ef4de": {
     "model_module": "@jupyter-widgets/controls",
     "model_name": "ProgressStyleModel",
     "state": {
      "_model_module": "@jupyter-widgets/controls",
      "_model_module_version": "1.5.0",
      "_model_name": "ProgressStyleModel",
      "_view_count": null,
      "_view_module": "@jupyter-widgets/base",
      "_view_module_version": "1.2.0",
      "_view_name": "StyleView",
      "bar_color": null,
      "description_width": "initial"
     }
    },
    "bd8b8e4e07ff41d29615bd1fa6874fd7": {
     "model_module": "@jupyter-widgets/base",
     "model_name": "LayoutModel",
     "state": {
      "_model_module": "@jupyter-widgets/base",
      "_model_module_version": "1.2.0",
      "_model_name": "LayoutModel",
      "_view_count": null,
      "_view_module": "@jupyter-widgets/base",
      "_view_module_version": "1.2.0",
      "_view_name": "LayoutView",
      "align_content": null,
      "align_items": null,
      "align_self": null,
      "border": null,
      "bottom": null,
      "display": null,
      "flex": null,
      "flex_flow": null,
      "grid_area": null,
      "grid_auto_columns": null,
      "grid_auto_flow": null,
      "grid_auto_rows": null,
      "grid_column": null,
      "grid_gap": null,
      "grid_row": null,
      "grid_template_areas": null,
      "grid_template_columns": null,
      "grid_template_rows": null,
      "height": null,
      "justify_content": null,
      "justify_items": null,
      "left": null,
      "margin": null,
      "max_height": null,
      "max_width": null,
      "min_height": null,
      "min_width": null,
      "object_fit": null,
      "object_position": null,
      "order": null,
      "overflow": null,
      "overflow_x": null,
      "overflow_y": null,
      "padding": null,
      "right": null,
      "top": null,
      "visibility": null,
      "width": null
     }
    },
    "c096d6b88d2a4230af857a62567379d2": {
     "model_module": "@jupyter-widgets/controls",
     "model_name": "HBoxModel",
     "state": {
      "_dom_classes": [],
      "_model_module": "@jupyter-widgets/controls",
      "_model_module_version": "1.5.0",
      "_model_name": "HBoxModel",
      "_view_count": null,
      "_view_module": "@jupyter-widgets/controls",
      "_view_module_version": "1.5.0",
      "_view_name": "HBoxView",
      "box_style": "",
      "children": [
       "IPY_MODEL_f017f90ed50c47bcb4825e6a08da6033",
       "IPY_MODEL_ec9cb039d4e6434495cde0fc719f2ba5"
      ],
      "layout": "IPY_MODEL_a587d0d63e444f73a1e90b898e25588b"
     }
    },
    "c215223077184613a0c6d2ba6e8413ca": {
     "model_module": "@jupyter-widgets/controls",
     "model_name": "FloatProgressModel",
     "state": {
      "_dom_classes": [],
      "_model_module": "@jupyter-widgets/controls",
      "_model_module_version": "1.5.0",
      "_model_name": "FloatProgressModel",
      "_view_count": null,
      "_view_module": "@jupyter-widgets/controls",
      "_view_module_version": "1.5.0",
      "_view_name": "ProgressView",
      "bar_style": "success",
      "description": "Downloading: 100%",
      "description_tooltip": null,
      "layout": "IPY_MODEL_ce303260fb124306b2590bc2a937d6ce",
      "max": 995526,
      "min": 0,
      "orientation": "horizontal",
      "style": "IPY_MODEL_8f1f81e9d60645bea6b5608b06de355f",
      "value": 995526
     }
    },
    "c414a799387f4620a363dd05504b38d9": {
     "model_module": "@jupyter-widgets/controls",
     "model_name": "HBoxModel",
     "state": {
      "_dom_classes": [],
      "_model_module": "@jupyter-widgets/controls",
      "_model_module_version": "1.5.0",
      "_model_name": "HBoxModel",
      "_view_count": null,
      "_view_module": "@jupyter-widgets/controls",
      "_view_module_version": "1.5.0",
      "_view_name": "HBoxView",
      "box_style": "",
      "children": [
       "IPY_MODEL_7422aeaefc6543be9a691950acd979cb",
       "IPY_MODEL_b9a64a9efc834787b7037951c9e53f7f"
      ],
      "layout": "IPY_MODEL_af0b40c2865748479dea295b349a2a6b"
     }
    },
    "c56c7b3869c44aa390fb1ed8a5a25a10": {
     "model_module": "@jupyter-widgets/base",
     "model_name": "LayoutModel",
     "state": {
      "_model_module": "@jupyter-widgets/base",
      "_model_module_version": "1.2.0",
      "_model_name": "LayoutModel",
      "_view_count": null,
      "_view_module": "@jupyter-widgets/base",
      "_view_module_version": "1.2.0",
      "_view_name": "LayoutView",
      "align_content": null,
      "align_items": null,
      "align_self": null,
      "border": null,
      "bottom": null,
      "display": null,
      "flex": null,
      "flex_flow": null,
      "grid_area": null,
      "grid_auto_columns": null,
      "grid_auto_flow": null,
      "grid_auto_rows": null,
      "grid_column": null,
      "grid_gap": null,
      "grid_row": null,
      "grid_template_areas": null,
      "grid_template_columns": null,
      "grid_template_rows": null,
      "height": null,
      "justify_content": null,
      "justify_items": null,
      "left": null,
      "margin": null,
      "max_height": null,
      "max_width": null,
      "min_height": null,
      "min_width": null,
      "object_fit": null,
      "object_position": null,
      "order": null,
      "overflow": null,
      "overflow_x": null,
      "overflow_y": null,
      "padding": null,
      "right": null,
      "top": null,
      "visibility": null,
      "width": null
     }
    },
    "c9261ac7009c48d5b8a6e8c906a5cff0": {
     "model_module": "@jupyter-widgets/base",
     "model_name": "LayoutModel",
     "state": {
      "_model_module": "@jupyter-widgets/base",
      "_model_module_version": "1.2.0",
      "_model_name": "LayoutModel",
      "_view_count": null,
      "_view_module": "@jupyter-widgets/base",
      "_view_module_version": "1.2.0",
      "_view_name": "LayoutView",
      "align_content": null,
      "align_items": null,
      "align_self": null,
      "border": null,
      "bottom": null,
      "display": null,
      "flex": null,
      "flex_flow": null,
      "grid_area": null,
      "grid_auto_columns": null,
      "grid_auto_flow": null,
      "grid_auto_rows": null,
      "grid_column": null,
      "grid_gap": null,
      "grid_row": null,
      "grid_template_areas": null,
      "grid_template_columns": null,
      "grid_template_rows": null,
      "height": null,
      "justify_content": null,
      "justify_items": null,
      "left": null,
      "margin": null,
      "max_height": null,
      "max_width": null,
      "min_height": null,
      "min_width": null,
      "object_fit": null,
      "object_position": null,
      "order": null,
      "overflow": null,
      "overflow_x": null,
      "overflow_y": null,
      "padding": null,
      "right": null,
      "top": null,
      "visibility": null,
      "width": null
     }
    },
    "cdb664d5dc8849cbb219698f9737dd45": {
     "model_module": "@jupyter-widgets/base",
     "model_name": "LayoutModel",
     "state": {
      "_model_module": "@jupyter-widgets/base",
      "_model_module_version": "1.2.0",
      "_model_name": "LayoutModel",
      "_view_count": null,
      "_view_module": "@jupyter-widgets/base",
      "_view_module_version": "1.2.0",
      "_view_name": "LayoutView",
      "align_content": null,
      "align_items": null,
      "align_self": null,
      "border": null,
      "bottom": null,
      "display": null,
      "flex": null,
      "flex_flow": null,
      "grid_area": null,
      "grid_auto_columns": null,
      "grid_auto_flow": null,
      "grid_auto_rows": null,
      "grid_column": null,
      "grid_gap": null,
      "grid_row": null,
      "grid_template_areas": null,
      "grid_template_columns": null,
      "grid_template_rows": null,
      "height": null,
      "justify_content": null,
      "justify_items": null,
      "left": null,
      "margin": null,
      "max_height": null,
      "max_width": null,
      "min_height": null,
      "min_width": null,
      "object_fit": null,
      "object_position": null,
      "order": null,
      "overflow": null,
      "overflow_x": null,
      "overflow_y": null,
      "padding": null,
      "right": null,
      "top": null,
      "visibility": null,
      "width": null
     }
    },
    "ce303260fb124306b2590bc2a937d6ce": {
     "model_module": "@jupyter-widgets/base",
     "model_name": "LayoutModel",
     "state": {
      "_model_module": "@jupyter-widgets/base",
      "_model_module_version": "1.2.0",
      "_model_name": "LayoutModel",
      "_view_count": null,
      "_view_module": "@jupyter-widgets/base",
      "_view_module_version": "1.2.0",
      "_view_name": "LayoutView",
      "align_content": null,
      "align_items": null,
      "align_self": null,
      "border": null,
      "bottom": null,
      "display": null,
      "flex": null,
      "flex_flow": null,
      "grid_area": null,
      "grid_auto_columns": null,
      "grid_auto_flow": null,
      "grid_auto_rows": null,
      "grid_column": null,
      "grid_gap": null,
      "grid_row": null,
      "grid_template_areas": null,
      "grid_template_columns": null,
      "grid_template_rows": null,
      "height": null,
      "justify_content": null,
      "justify_items": null,
      "left": null,
      "margin": null,
      "max_height": null,
      "max_width": null,
      "min_height": null,
      "min_width": null,
      "object_fit": null,
      "object_position": null,
      "order": null,
      "overflow": null,
      "overflow_x": null,
      "overflow_y": null,
      "padding": null,
      "right": null,
      "top": null,
      "visibility": null,
      "width": null
     }
    },
    "d218ed7cbfa64d9d9f799a5a47d8d8c7": {
     "model_module": "@jupyter-widgets/controls",
     "model_name": "HBoxModel",
     "state": {
      "_dom_classes": [],
      "_model_module": "@jupyter-widgets/controls",
      "_model_module_version": "1.5.0",
      "_model_name": "HBoxModel",
      "_view_count": null,
      "_view_module": "@jupyter-widgets/controls",
      "_view_module_version": "1.5.0",
      "_view_name": "HBoxView",
      "box_style": "",
      "children": [
       "IPY_MODEL_497757afd69144b3be17a0ef7e8876ae",
       "IPY_MODEL_f1ab487210ff4a5791eed28708148f85"
      ],
      "layout": "IPY_MODEL_7968c355284f4350883035256963b04f"
     }
    },
    "d275e3a584e6481582c34c0f8c48a0fb": {
     "model_module": "@jupyter-widgets/controls",
     "model_name": "DescriptionStyleModel",
     "state": {
      "_model_module": "@jupyter-widgets/controls",
      "_model_module_version": "1.5.0",
      "_model_name": "DescriptionStyleModel",
      "_view_count": null,
      "_view_module": "@jupyter-widgets/base",
      "_view_module_version": "1.2.0",
      "_view_name": "StyleView",
      "description_width": ""
     }
    },
    "d3a86882f7a8494bad7f8c0c29d81f4f": {
     "model_module": "@jupyter-widgets/base",
     "model_name": "LayoutModel",
     "state": {
      "_model_module": "@jupyter-widgets/base",
      "_model_module_version": "1.2.0",
      "_model_name": "LayoutModel",
      "_view_count": null,
      "_view_module": "@jupyter-widgets/base",
      "_view_module_version": "1.2.0",
      "_view_name": "LayoutView",
      "align_content": null,
      "align_items": null,
      "align_self": null,
      "border": null,
      "bottom": null,
      "display": null,
      "flex": null,
      "flex_flow": null,
      "grid_area": null,
      "grid_auto_columns": null,
      "grid_auto_flow": null,
      "grid_auto_rows": null,
      "grid_column": null,
      "grid_gap": null,
      "grid_row": null,
      "grid_template_areas": null,
      "grid_template_columns": null,
      "grid_template_rows": null,
      "height": null,
      "justify_content": null,
      "justify_items": null,
      "left": null,
      "margin": null,
      "max_height": null,
      "max_width": null,
      "min_height": null,
      "min_width": null,
      "object_fit": null,
      "object_position": null,
      "order": null,
      "overflow": null,
      "overflow_x": null,
      "overflow_y": null,
      "padding": null,
      "right": null,
      "top": null,
      "visibility": null,
      "width": null
     }
    },
    "d43dfff4939349f98848d64be958ad88": {
     "model_module": "@jupyter-widgets/controls",
     "model_name": "FloatProgressModel",
     "state": {
      "_dom_classes": [],
      "_model_module": "@jupyter-widgets/controls",
      "_model_module_version": "1.5.0",
      "_model_name": "FloatProgressModel",
      "_view_count": null,
      "_view_module": "@jupyter-widgets/controls",
      "_view_module_version": "1.5.0",
      "_view_name": "ProgressView",
      "bar_style": "success",
      "description": "Downloading: 100%",
      "description_tooltip": null,
      "layout": "IPY_MODEL_3e3213e5d5c146718533b2d10d3cccec",
      "max": 995526,
      "min": 0,
      "orientation": "horizontal",
      "style": "IPY_MODEL_48fbfb5b1c3b4a2a99d1559d61cb36e4",
      "value": 995526
     }
    },
    "d45f322b89304449910350e5ef27cb26": {
     "model_module": "@jupyter-widgets/controls",
     "model_name": "FloatProgressModel",
     "state": {
      "_dom_classes": [],
      "_model_module": "@jupyter-widgets/controls",
      "_model_module_version": "1.5.0",
      "_model_name": "FloatProgressModel",
      "_view_count": null,
      "_view_module": "@jupyter-widgets/controls",
      "_view_module_version": "1.5.0",
      "_view_name": "ProgressView",
      "bar_style": "success",
      "description": "Downloading: 100%",
      "description_tooltip": null,
      "layout": "IPY_MODEL_c56c7b3869c44aa390fb1ed8a5a25a10",
      "max": 28,
      "min": 0,
      "orientation": "horizontal",
      "style": "IPY_MODEL_2569a6c1e26a46ebbdfd14ee32a8ea44",
      "value": 28
     }
    },
    "d5a0448bae604b71b8b96b7c7523ac1c": {
     "model_module": "@jupyter-widgets/controls",
     "model_name": "FloatProgressModel",
     "state": {
      "_dom_classes": [],
      "_model_module": "@jupyter-widgets/controls",
      "_model_module_version": "1.5.0",
      "_model_name": "FloatProgressModel",
      "_view_count": null,
      "_view_module": "@jupyter-widgets/controls",
      "_view_module_version": "1.5.0",
      "_view_name": "ProgressView",
      "bar_style": "success",
      "description": "Downloading: 100%",
      "description_tooltip": null,
      "layout": "IPY_MODEL_860215e14fd74789aeed3ab7833cd652",
      "max": 440473133,
      "min": 0,
      "orientation": "horizontal",
      "style": "IPY_MODEL_bcdfb2ff1b9e48f59ec154a0953ef4de",
      "value": 440473133
     }
    },
    "d5f7afbda84c47aa89f5ce6c90858f53": {
     "model_module": "@jupyter-widgets/controls",
     "model_name": "HBoxModel",
     "state": {
      "_dom_classes": [],
      "_model_module": "@jupyter-widgets/controls",
      "_model_module_version": "1.5.0",
      "_model_name": "HBoxModel",
      "_view_count": null,
      "_view_module": "@jupyter-widgets/controls",
      "_view_module_version": "1.5.0",
      "_view_name": "HBoxView",
      "box_style": "",
      "children": [
       "IPY_MODEL_320c5d51dbd84fb78bef5216e8bf1c8e",
       "IPY_MODEL_11bed48a6c124714b1edaa80b5f55f9b"
      ],
      "layout": "IPY_MODEL_ea6f8f55d20745e59616b35845f98c27"
     }
    },
    "d7dcb87d75a0411cb51ee63593167de4": {
     "model_module": "@jupyter-widgets/controls",
     "model_name": "HBoxModel",
     "state": {
      "_dom_classes": [],
      "_model_module": "@jupyter-widgets/controls",
      "_model_module_version": "1.5.0",
      "_model_name": "HBoxModel",
      "_view_count": null,
      "_view_module": "@jupyter-widgets/controls",
      "_view_module_version": "1.5.0",
      "_view_name": "HBoxView",
      "box_style": "",
      "children": [
       "IPY_MODEL_5d8be6cbd79b43cfa3d251306ae5ca59",
       "IPY_MODEL_76ccbf40b960410b995764e040041675"
      ],
      "layout": "IPY_MODEL_14db70a9dcd342278c465106b7d2b326"
     }
    },
    "d96facc353844ec69c485ba709f3f9a3": {
     "model_module": "@jupyter-widgets/controls",
     "model_name": "ProgressStyleModel",
     "state": {
      "_model_module": "@jupyter-widgets/controls",
      "_model_module_version": "1.5.0",
      "_model_name": "ProgressStyleModel",
      "_view_count": null,
      "_view_module": "@jupyter-widgets/base",
      "_view_module_version": "1.2.0",
      "_view_name": "StyleView",
      "bar_color": null,
      "description_width": "initial"
     }
    },
    "e148fa010b4645db9ff049eb35c7f343": {
     "model_module": "@jupyter-widgets/base",
     "model_name": "LayoutModel",
     "state": {
      "_model_module": "@jupyter-widgets/base",
      "_model_module_version": "1.2.0",
      "_model_name": "LayoutModel",
      "_view_count": null,
      "_view_module": "@jupyter-widgets/base",
      "_view_module_version": "1.2.0",
      "_view_name": "LayoutView",
      "align_content": null,
      "align_items": null,
      "align_self": null,
      "border": null,
      "bottom": null,
      "display": null,
      "flex": null,
      "flex_flow": null,
      "grid_area": null,
      "grid_auto_columns": null,
      "grid_auto_flow": null,
      "grid_auto_rows": null,
      "grid_column": null,
      "grid_gap": null,
      "grid_row": null,
      "grid_template_areas": null,
      "grid_template_columns": null,
      "grid_template_rows": null,
      "height": null,
      "justify_content": null,
      "justify_items": null,
      "left": null,
      "margin": null,
      "max_height": null,
      "max_width": null,
      "min_height": null,
      "min_width": null,
      "object_fit": null,
      "object_position": null,
      "order": null,
      "overflow": null,
      "overflow_x": null,
      "overflow_y": null,
      "padding": null,
      "right": null,
      "top": null,
      "visibility": null,
      "width": null
     }
    },
    "e294fd7628504ad0a8ec0497f50cca2f": {
     "model_module": "@jupyter-widgets/controls",
     "model_name": "HBoxModel",
     "state": {
      "_dom_classes": [],
      "_model_module": "@jupyter-widgets/controls",
      "_model_module_version": "1.5.0",
      "_model_name": "HBoxModel",
      "_view_count": null,
      "_view_module": "@jupyter-widgets/controls",
      "_view_module_version": "1.5.0",
      "_view_name": "HBoxView",
      "box_style": "",
      "children": [
       "IPY_MODEL_22d54b5bbd79405a8718723978b0d197",
       "IPY_MODEL_4f694c14fc974ce0a13a790113932202"
      ],
      "layout": "IPY_MODEL_9fcda2ddc80941d9bebb8c6658e1593d"
     }
    },
    "e92fbde32d554eb7aa0ecb0ca6dcecdd": {
     "model_module": "@jupyter-widgets/controls",
     "model_name": "HBoxModel",
     "state": {
      "_dom_classes": [],
      "_model_module": "@jupyter-widgets/controls",
      "_model_module_version": "1.5.0",
      "_model_name": "HBoxModel",
      "_view_count": null,
      "_view_module": "@jupyter-widgets/controls",
      "_view_module_version": "1.5.0",
      "_view_name": "HBoxView",
      "box_style": "",
      "children": [
       "IPY_MODEL_775325926a924e05a61290a266809f82",
       "IPY_MODEL_47c252a0d8504b51b603f0bcc8c9ff9e"
      ],
      "layout": "IPY_MODEL_bc40f8442bb04d1495d67f8b7e524087"
     }
    },
    "e9a6e4ff615a4580a305dfe21088c7f4": {
     "model_module": "@jupyter-widgets/controls",
     "model_name": "HTMLModel",
     "state": {
      "_dom_classes": [],
      "_model_module": "@jupyter-widgets/controls",
      "_model_module_version": "1.5.0",
      "_model_name": "HTMLModel",
      "_view_count": null,
      "_view_module": "@jupyter-widgets/controls",
      "_view_module_version": "1.5.0",
      "_view_name": "HTMLView",
      "description": "",
      "description_tooltip": null,
      "layout": "IPY_MODEL_a1f6ac94a49e45a0b83b91b015a9d95a",
      "placeholder": "​",
      "style": "IPY_MODEL_70b9b543fe71402a85e43d47d1529c0f",
      "value": " 440M/440M [00:08&lt;00:00, 52.6MB/s]"
     }
    },
    "ea6f8f55d20745e59616b35845f98c27": {
     "model_module": "@jupyter-widgets/base",
     "model_name": "LayoutModel",
     "state": {
      "_model_module": "@jupyter-widgets/base",
      "_model_module_version": "1.2.0",
      "_model_name": "LayoutModel",
      "_view_count": null,
      "_view_module": "@jupyter-widgets/base",
      "_view_module_version": "1.2.0",
      "_view_name": "LayoutView",
      "align_content": null,
      "align_items": null,
      "align_self": null,
      "border": null,
      "bottom": null,
      "display": null,
      "flex": null,
      "flex_flow": null,
      "grid_area": null,
      "grid_auto_columns": null,
      "grid_auto_flow": null,
      "grid_auto_rows": null,
      "grid_column": null,
      "grid_gap": null,
      "grid_row": null,
      "grid_template_areas": null,
      "grid_template_columns": null,
      "grid_template_rows": null,
      "height": null,
      "justify_content": null,
      "justify_items": null,
      "left": null,
      "margin": null,
      "max_height": null,
      "max_width": null,
      "min_height": null,
      "min_width": null,
      "object_fit": null,
      "object_position": null,
      "order": null,
      "overflow": null,
      "overflow_x": null,
      "overflow_y": null,
      "padding": null,
      "right": null,
      "top": null,
      "visibility": null,
      "width": null
     }
    },
    "ec9cb039d4e6434495cde0fc719f2ba5": {
     "model_module": "@jupyter-widgets/controls",
     "model_name": "HTMLModel",
     "state": {
      "_dom_classes": [],
      "_model_module": "@jupyter-widgets/controls",
      "_model_module_version": "1.5.0",
      "_model_name": "HTMLModel",
      "_view_count": null,
      "_view_module": "@jupyter-widgets/controls",
      "_view_module_version": "1.5.0",
      "_view_name": "HTMLView",
      "description": "",
      "description_tooltip": null,
      "layout": "IPY_MODEL_b22d60cb4b3f4fdba9c2bee991232cb1",
      "placeholder": "​",
      "style": "IPY_MODEL_6120f3b84c0a4a0398f2678336070188",
      "value": " 1.96M/1.96M [00:00&lt;00:00, 4.64MB/s]"
     }
    },
    "ed3e454ab2214d5d811e4cbf897763e4": {
     "model_module": "@jupyter-widgets/controls",
     "model_name": "DescriptionStyleModel",
     "state": {
      "_model_module": "@jupyter-widgets/controls",
      "_model_module_version": "1.5.0",
      "_model_name": "DescriptionStyleModel",
      "_view_count": null,
      "_view_module": "@jupyter-widgets/base",
      "_view_module_version": "1.2.0",
      "_view_name": "StyleView",
      "description_width": ""
     }
    },
    "eeb04c6f89294f0ea47737191f9f02b4": {
     "model_module": "@jupyter-widgets/controls",
     "model_name": "HBoxModel",
     "state": {
      "_dom_classes": [],
      "_model_module": "@jupyter-widgets/controls",
      "_model_module_version": "1.5.0",
      "_model_name": "HBoxModel",
      "_view_count": null,
      "_view_module": "@jupyter-widgets/controls",
      "_view_module_version": "1.5.0",
      "_view_name": "HBoxView",
      "box_style": "",
      "children": [
       "IPY_MODEL_d45f322b89304449910350e5ef27cb26",
       "IPY_MODEL_63ef3a94a17042d6a528f5c8cfe53f9c"
      ],
      "layout": "IPY_MODEL_ff164ef7d0604e5d881c412e84ff2daf"
     }
    },
    "ef76ae7913634a3a92f6136e00c6cd8a": {
     "model_module": "@jupyter-widgets/controls",
     "model_name": "ProgressStyleModel",
     "state": {
      "_model_module": "@jupyter-widgets/controls",
      "_model_module_version": "1.5.0",
      "_model_name": "ProgressStyleModel",
      "_view_count": null,
      "_view_module": "@jupyter-widgets/base",
      "_view_module_version": "1.2.0",
      "_view_name": "StyleView",
      "bar_color": null,
      "description_width": "initial"
     }
    },
    "eff8b3e56d074950866c69cd89b93bd4": {
     "model_module": "@jupyter-widgets/controls",
     "model_name": "ProgressStyleModel",
     "state": {
      "_model_module": "@jupyter-widgets/controls",
      "_model_module_version": "1.5.0",
      "_model_name": "ProgressStyleModel",
      "_view_count": null,
      "_view_module": "@jupyter-widgets/base",
      "_view_module_version": "1.2.0",
      "_view_name": "StyleView",
      "bar_color": null,
      "description_width": "initial"
     }
    },
    "f017f90ed50c47bcb4825e6a08da6033": {
     "model_module": "@jupyter-widgets/controls",
     "model_name": "FloatProgressModel",
     "state": {
      "_dom_classes": [],
      "_model_module": "@jupyter-widgets/controls",
      "_model_module_version": "1.5.0",
      "_model_name": "FloatProgressModel",
      "_view_count": null,
      "_view_module": "@jupyter-widgets/controls",
      "_view_module_version": "1.5.0",
      "_view_name": "ProgressView",
      "bar_style": "success",
      "description": "Downloading: 100%",
      "description_tooltip": null,
      "layout": "IPY_MODEL_41e1f0c0728d4bd6ba669d201dd15797",
      "max": 1961828,
      "min": 0,
      "orientation": "horizontal",
      "style": "IPY_MODEL_b9a285b888694264b72d69b6a07b8fb4",
      "value": 1961828
     }
    },
    "f05a54a0926548b2a47dd0bad3baf23f": {
     "model_module": "@jupyter-widgets/controls",
     "model_name": "FloatProgressModel",
     "state": {
      "_dom_classes": [],
      "_model_module": "@jupyter-widgets/controls",
      "_model_module_version": "1.5.0",
      "_model_name": "FloatProgressModel",
      "_view_count": null,
      "_view_module": "@jupyter-widgets/controls",
      "_view_module_version": "1.5.0",
      "_view_name": "ProgressView",
      "bar_style": "success",
      "description": "Downloading: 100%",
      "description_tooltip": null,
      "layout": "IPY_MODEL_59bc2a91cee84e72987c0a9e7519161e",
      "max": 29,
      "min": 0,
      "orientation": "horizontal",
      "style": "IPY_MODEL_980b2c43f0734731803fedcac16fc79e",
      "value": 29
     }
    },
    "f1ab487210ff4a5791eed28708148f85": {
     "model_module": "@jupyter-widgets/controls",
     "model_name": "HTMLModel",
     "state": {
      "_dom_classes": [],
      "_model_module": "@jupyter-widgets/controls",
      "_model_module_version": "1.5.0",
      "_model_name": "HTMLModel",
      "_view_count": null,
      "_view_module": "@jupyter-widgets/controls",
      "_view_module_version": "1.5.0",
      "_view_name": "HTMLView",
      "description": "",
      "description_tooltip": null,
      "layout": "IPY_MODEL_1a9fd51babce4e8481c59db8a8035be8",
      "placeholder": "​",
      "style": "IPY_MODEL_f241b0414baf4ba5bc1a13132947f952",
      "value": " 714M/714M [00:14&lt;00:00, 48.9MB/s]"
     }
    },
    "f241b0414baf4ba5bc1a13132947f952": {
     "model_module": "@jupyter-widgets/controls",
     "model_name": "DescriptionStyleModel",
     "state": {
      "_model_module": "@jupyter-widgets/controls",
      "_model_module_version": "1.5.0",
      "_model_name": "DescriptionStyleModel",
      "_view_count": null,
      "_view_module": "@jupyter-widgets/base",
      "_view_module_version": "1.2.0",
      "_view_name": "StyleView",
      "description_width": ""
     }
    },
    "f50cf5acbff74b3dbb8b6b89176b87e0": {
     "model_module": "@jupyter-widgets/controls",
     "model_name": "HTMLModel",
     "state": {
      "_dom_classes": [],
      "_model_module": "@jupyter-widgets/controls",
      "_model_module_version": "1.5.0",
      "_model_name": "HTMLModel",
      "_view_count": null,
      "_view_module": "@jupyter-widgets/controls",
      "_view_module_version": "1.5.0",
      "_view_name": "HTMLView",
      "description": "",
      "description_tooltip": null,
      "layout": "IPY_MODEL_97bf74c6d45945139e38dfa737472114",
      "placeholder": "​",
      "style": "IPY_MODEL_9b8aaff8e166463597407d45ae9d4ff2",
      "value": " 996k/996k [00:01&lt;00:00, 596kB/s]"
     }
    },
    "f5b8bcaa31894762b20b02548c9b8da3": {
     "model_module": "@jupyter-widgets/controls",
     "model_name": "ProgressStyleModel",
     "state": {
      "_model_module": "@jupyter-widgets/controls",
      "_model_module_version": "1.5.0",
      "_model_name": "ProgressStyleModel",
      "_view_count": null,
      "_view_module": "@jupyter-widgets/base",
      "_view_module_version": "1.2.0",
      "_view_name": "StyleView",
      "bar_color": null,
      "description_width": "initial"
     }
    },
    "f6328b0127b84d4a996acf16084843e3": {
     "model_module": "@jupyter-widgets/controls",
     "model_name": "HBoxModel",
     "state": {
      "_dom_classes": [],
      "_model_module": "@jupyter-widgets/controls",
      "_model_module_version": "1.5.0",
      "_model_name": "HBoxModel",
      "_view_count": null,
      "_view_module": "@jupyter-widgets/controls",
      "_view_module_version": "1.5.0",
      "_view_name": "HBoxView",
      "box_style": "",
      "children": [
       "IPY_MODEL_f05a54a0926548b2a47dd0bad3baf23f",
       "IPY_MODEL_8d2469f18e97405381c2675455b7bd32"
      ],
      "layout": "IPY_MODEL_5118f2db5a14409593c3f25bd7850a9c"
     }
    },
    "f87ad32bfe934ebd966256b14aca9c29": {
     "model_module": "@jupyter-widgets/controls",
     "model_name": "FloatProgressModel",
     "state": {
      "_dom_classes": [],
      "_model_module": "@jupyter-widgets/controls",
      "_model_module_version": "1.5.0",
      "_model_name": "FloatProgressModel",
      "_view_count": null,
      "_view_module": "@jupyter-widgets/controls",
      "_view_module_version": "1.5.0",
      "_view_name": "ProgressView",
      "bar_style": "success",
      "description": "Downloading: 100%",
      "description_tooltip": null,
      "layout": "IPY_MODEL_709330c3583e44e2930f0099b7d9064e",
      "max": 625,
      "min": 0,
      "orientation": "horizontal",
      "style": "IPY_MODEL_51f2b1b7e57b48f4ae8f0615a1e83f6b",
      "value": 625
     }
    },
    "f9a1a9a5cc2c45e4884ec8e23790c871": {
     "model_module": "@jupyter-widgets/controls",
     "model_name": "HTMLModel",
     "state": {
      "_dom_classes": [],
      "_model_module": "@jupyter-widgets/controls",
      "_model_module_version": "1.5.0",
      "_model_name": "HTMLModel",
      "_view_count": null,
      "_view_module": "@jupyter-widgets/controls",
      "_view_module_version": "1.5.0",
      "_view_name": "HTMLView",
      "description": "",
      "description_tooltip": null,
      "layout": "IPY_MODEL_8eafd34c7a5d4ce5a4ac6fe646a450cf",
      "placeholder": "​",
      "style": "IPY_MODEL_1a6f3c9bab194c3c94a3c2286de77e38",
      "value": " 1.96M/1.96M [00:01&lt;00:00, 1.65MB/s]"
     }
    },
    "fcb4afc36c0d43e98fb2fca03fd16414": {
     "model_module": "@jupyter-widgets/controls",
     "model_name": "FloatProgressModel",
     "state": {
      "_dom_classes": [],
      "_model_module": "@jupyter-widgets/controls",
      "_model_module_version": "1.5.0",
      "_model_name": "FloatProgressModel",
      "_view_count": null,
      "_view_module": "@jupyter-widgets/controls",
      "_view_module_version": "1.5.0",
      "_view_name": "ProgressView",
      "bar_style": "success",
      "description": "Downloading: 100%",
      "description_tooltip": null,
      "layout": "IPY_MODEL_d3a86882f7a8494bad7f8c0c29d81f4f",
      "max": 2244861551,
      "min": 0,
      "orientation": "horizontal",
      "style": "IPY_MODEL_d96facc353844ec69c485ba709f3f9a3",
      "value": 2244861551
     }
    },
    "fd83414a151b4f5fa85162bd6fc2fc33": {
     "model_module": "@jupyter-widgets/controls",
     "model_name": "DescriptionStyleModel",
     "state": {
      "_model_module": "@jupyter-widgets/controls",
      "_model_module_version": "1.5.0",
      "_model_name": "DescriptionStyleModel",
      "_view_count": null,
      "_view_module": "@jupyter-widgets/base",
      "_view_module_version": "1.2.0",
      "_view_name": "StyleView",
      "description_width": ""
     }
    },
    "ff164ef7d0604e5d881c412e84ff2daf": {
     "model_module": "@jupyter-widgets/base",
     "model_name": "LayoutModel",
     "state": {
      "_model_module": "@jupyter-widgets/base",
      "_model_module_version": "1.2.0",
      "_model_name": "LayoutModel",
      "_view_count": null,
      "_view_module": "@jupyter-widgets/base",
      "_view_module_version": "1.2.0",
      "_view_name": "LayoutView",
      "align_content": null,
      "align_items": null,
      "align_self": null,
      "border": null,
      "bottom": null,
      "display": null,
      "flex": null,
      "flex_flow": null,
      "grid_area": null,
      "grid_auto_columns": null,
      "grid_auto_flow": null,
      "grid_auto_rows": null,
      "grid_column": null,
      "grid_gap": null,
      "grid_row": null,
      "grid_template_areas": null,
      "grid_template_columns": null,
      "grid_template_rows": null,
      "height": null,
      "justify_content": null,
      "justify_items": null,
      "left": null,
      "margin": null,
      "max_height": null,
      "max_width": null,
      "min_height": null,
      "min_width": null,
      "object_fit": null,
      "object_position": null,
      "order": null,
      "overflow": null,
      "overflow_x": null,
      "overflow_y": null,
      "padding": null,
      "right": null,
      "top": null,
      "visibility": null,
      "width": null
     }
    },
    "ff2eb8000388482bb455d6cf0a425feb": {
     "model_module": "@jupyter-widgets/base",
     "model_name": "LayoutModel",
     "state": {
      "_model_module": "@jupyter-widgets/base",
      "_model_module_version": "1.2.0",
      "_model_name": "LayoutModel",
      "_view_count": null,
      "_view_module": "@jupyter-widgets/base",
      "_view_module_version": "1.2.0",
      "_view_name": "LayoutView",
      "align_content": null,
      "align_items": null,
      "align_self": null,
      "border": null,
      "bottom": null,
      "display": null,
      "flex": null,
      "flex_flow": null,
      "grid_area": null,
      "grid_auto_columns": null,
      "grid_auto_flow": null,
      "grid_auto_rows": null,
      "grid_column": null,
      "grid_gap": null,
      "grid_row": null,
      "grid_template_areas": null,
      "grid_template_columns": null,
      "grid_template_rows": null,
      "height": null,
      "justify_content": null,
      "justify_items": null,
      "left": null,
      "margin": null,
      "max_height": null,
      "max_width": null,
      "min_height": null,
      "min_width": null,
      "object_fit": null,
      "object_position": null,
      "order": null,
      "overflow": null,
      "overflow_x": null,
      "overflow_y": null,
      "padding": null,
      "right": null,
      "top": null,
      "visibility": null,
      "width": null
     }
    },
    "ff7fe2c9c6a145fea407ae401e23456c": {
     "model_module": "@jupyter-widgets/controls",
     "model_name": "HTMLModel",
     "state": {
      "_dom_classes": [],
      "_model_module": "@jupyter-widgets/controls",
      "_model_module_version": "1.5.0",
      "_model_name": "HTMLModel",
      "_view_count": null,
      "_view_module": "@jupyter-widgets/controls",
      "_view_module_version": "1.5.0",
      "_view_name": "HTMLView",
      "description": "",
      "description_tooltip": null,
      "layout": "IPY_MODEL_3b8c2c3201424388b7f73f356d6cdb20",
      "placeholder": "​",
      "style": "IPY_MODEL_98ce1c8c3327407890053e7d15a09a14",
      "value": " 29.0/29.0 [00:01&lt;00:00, 15.2B/s]"
     }
    }
   }
  }
 },
 "nbformat": 4,
 "nbformat_minor": 1
}
